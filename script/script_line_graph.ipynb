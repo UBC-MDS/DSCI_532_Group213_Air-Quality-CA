{
 "cells": [
  {
   "cell_type": "markdown",
   "metadata": {},
   "source": [
    "3. What's the trend of these risk factors over time for continents?"
   ]
  },
  {
   "cell_type": "code",
   "execution_count": 3,
   "metadata": {},
   "outputs": [],
   "source": [
    "import pandas as pd\n",
    "import altair as alt\n",
    "clean_data = pd.read_csv(\"../data/clean_number-of-deaths-by-risk-factor.csv\")"
   ]
  },
  {
   "cell_type": "code",
   "execution_count": 2,
   "metadata": {},
   "outputs": [],
   "source": [
    "url = 'https://raw.githubusercontent.com/STAT545-UBC/STAT545-UBC.github.io/master/gapminderDataFiveYear.txt'\n",
    "gapminder = pd.read_csv(url, delimiter=\"\\t\")\n"
   ]
  },
  {
   "cell_type": "code",
   "execution_count": 3,
   "metadata": {},
   "outputs": [],
   "source": [
    "clean_data.drop(columns=['code' , 'unsafe_water_source', 'poor_sanitation','no_access_to_handwashing_facility','non-exclusive_breastfeeding','discontinued_breastfeeding','child_wasting','child_stunting','low_birth_weight','secondhand_smoke','alcohol_use', 'drug_use', 'diet_low_in_fruits','diet_low_in_vegetables', 'unsafe_sex', 'low_physical_activity' ,'iron_deficiency', 'zinc_deficiency', 'vitamin-a_deficiency','low_bone_mineral_density','outdoor_air_pollution','indoor_air_pollution'], axis=1, inplace=True)"
   ]
  },
  {
   "cell_type": "code",
   "execution_count": 4,
   "metadata": {},
   "outputs": [],
   "source": [
    "clean_data = clean_data.merge(gapminder[['country','continent']], left_on='country', right_on = 'country')"
   ]
  },
  {
   "cell_type": "code",
   "execution_count": 5,
   "metadata": {},
   "outputs": [
    {
     "data": {
      "text/html": [
       "<div>\n",
       "<style scoped>\n",
       "    .dataframe tbody tr th:only-of-type {\n",
       "        vertical-align: middle;\n",
       "    }\n",
       "\n",
       "    .dataframe tbody tr th {\n",
       "        vertical-align: top;\n",
       "    }\n",
       "\n",
       "    .dataframe thead th {\n",
       "        text-align: right;\n",
       "    }\n",
       "</style>\n",
       "<table border=\"1\" class=\"dataframe\">\n",
       "  <thead>\n",
       "    <tr style=\"text-align: right;\">\n",
       "      <th></th>\n",
       "      <th>country</th>\n",
       "      <th>year</th>\n",
       "      <th>high_blood_sugar</th>\n",
       "      <th>obesity</th>\n",
       "      <th>high_blood_pressure</th>\n",
       "      <th>smoking</th>\n",
       "      <th>air_pollution_outdoor_&amp;_indoor</th>\n",
       "      <th>continent</th>\n",
       "    </tr>\n",
       "  </thead>\n",
       "  <tbody>\n",
       "    <tr>\n",
       "      <td>0</td>\n",
       "      <td>Afghanistan</td>\n",
       "      <td>1990</td>\n",
       "      <td>21610.06616</td>\n",
       "      <td>7701.58128</td>\n",
       "      <td>28183.98335</td>\n",
       "      <td>6393.667372</td>\n",
       "      <td>26598.00673</td>\n",
       "      <td>Asia</td>\n",
       "    </tr>\n",
       "    <tr>\n",
       "      <td>1</td>\n",
       "      <td>Afghanistan</td>\n",
       "      <td>1990</td>\n",
       "      <td>21610.06616</td>\n",
       "      <td>7701.58128</td>\n",
       "      <td>28183.98335</td>\n",
       "      <td>6393.667372</td>\n",
       "      <td>26598.00673</td>\n",
       "      <td>Asia</td>\n",
       "    </tr>\n",
       "    <tr>\n",
       "      <td>2</td>\n",
       "      <td>Afghanistan</td>\n",
       "      <td>1990</td>\n",
       "      <td>21610.06616</td>\n",
       "      <td>7701.58128</td>\n",
       "      <td>28183.98335</td>\n",
       "      <td>6393.667372</td>\n",
       "      <td>26598.00673</td>\n",
       "      <td>Asia</td>\n",
       "    </tr>\n",
       "    <tr>\n",
       "      <td>3</td>\n",
       "      <td>Afghanistan</td>\n",
       "      <td>1990</td>\n",
       "      <td>21610.06616</td>\n",
       "      <td>7701.58128</td>\n",
       "      <td>28183.98335</td>\n",
       "      <td>6393.667372</td>\n",
       "      <td>26598.00673</td>\n",
       "      <td>Asia</td>\n",
       "    </tr>\n",
       "    <tr>\n",
       "      <td>4</td>\n",
       "      <td>Afghanistan</td>\n",
       "      <td>1990</td>\n",
       "      <td>21610.06616</td>\n",
       "      <td>7701.58128</td>\n",
       "      <td>28183.98335</td>\n",
       "      <td>6393.667372</td>\n",
       "      <td>26598.00673</td>\n",
       "      <td>Asia</td>\n",
       "    </tr>\n",
       "  </tbody>\n",
       "</table>\n",
       "</div>"
      ],
      "text/plain": [
       "       country  year  high_blood_sugar     obesity  high_blood_pressure  \\\n",
       "0  Afghanistan  1990       21610.06616  7701.58128          28183.98335   \n",
       "1  Afghanistan  1990       21610.06616  7701.58128          28183.98335   \n",
       "2  Afghanistan  1990       21610.06616  7701.58128          28183.98335   \n",
       "3  Afghanistan  1990       21610.06616  7701.58128          28183.98335   \n",
       "4  Afghanistan  1990       21610.06616  7701.58128          28183.98335   \n",
       "\n",
       "       smoking  air_pollution_outdoor_&_indoor continent  \n",
       "0  6393.667372                     26598.00673      Asia  \n",
       "1  6393.667372                     26598.00673      Asia  \n",
       "2  6393.667372                     26598.00673      Asia  \n",
       "3  6393.667372                     26598.00673      Asia  \n",
       "4  6393.667372                     26598.00673      Asia  "
      ]
     },
     "execution_count": 5,
     "metadata": {},
     "output_type": "execute_result"
    }
   ],
   "source": [
    "clean_data.head()"
   ]
  },
  {
   "cell_type": "code",
   "execution_count": 6,
   "metadata": {},
   "outputs": [
    {
     "data": {
      "text/html": [
       "<div>\n",
       "<style scoped>\n",
       "    .dataframe tbody tr th:only-of-type {\n",
       "        vertical-align: middle;\n",
       "    }\n",
       "\n",
       "    .dataframe tbody tr th {\n",
       "        vertical-align: top;\n",
       "    }\n",
       "\n",
       "    .dataframe thead th {\n",
       "        text-align: right;\n",
       "    }\n",
       "</style>\n",
       "<table border=\"1\" class=\"dataframe\">\n",
       "  <thead>\n",
       "    <tr style=\"text-align: right;\">\n",
       "      <th></th>\n",
       "      <th>continent</th>\n",
       "      <th>year</th>\n",
       "      <th>high_blood_sugar</th>\n",
       "      <th>obesity</th>\n",
       "      <th>high_blood_pressure</th>\n",
       "      <th>smoking</th>\n",
       "      <th>air_pollution_outdoor_&amp;_indoor</th>\n",
       "    </tr>\n",
       "  </thead>\n",
       "  <tbody>\n",
       "    <tr>\n",
       "      <td>0</td>\n",
       "      <td>Africa</td>\n",
       "      <td>1990</td>\n",
       "      <td>3.644594e+06</td>\n",
       "      <td>2.001687e+06</td>\n",
       "      <td>5.779287e+06</td>\n",
       "      <td>2.586857e+06</td>\n",
       "      <td>7.133013e+06</td>\n",
       "    </tr>\n",
       "    <tr>\n",
       "      <td>1</td>\n",
       "      <td>Africa</td>\n",
       "      <td>1991</td>\n",
       "      <td>3.753047e+06</td>\n",
       "      <td>2.082043e+06</td>\n",
       "      <td>5.906983e+06</td>\n",
       "      <td>2.645391e+06</td>\n",
       "      <td>7.178302e+06</td>\n",
       "    </tr>\n",
       "    <tr>\n",
       "      <td>2</td>\n",
       "      <td>Africa</td>\n",
       "      <td>1992</td>\n",
       "      <td>3.882773e+06</td>\n",
       "      <td>2.175435e+06</td>\n",
       "      <td>6.062517e+06</td>\n",
       "      <td>2.713961e+06</td>\n",
       "      <td>7.253962e+06</td>\n",
       "    </tr>\n",
       "    <tr>\n",
       "      <td>3</td>\n",
       "      <td>Africa</td>\n",
       "      <td>1993</td>\n",
       "      <td>4.027312e+06</td>\n",
       "      <td>2.283576e+06</td>\n",
       "      <td>6.243835e+06</td>\n",
       "      <td>2.790839e+06</td>\n",
       "      <td>7.336856e+06</td>\n",
       "    </tr>\n",
       "    <tr>\n",
       "      <td>4</td>\n",
       "      <td>Africa</td>\n",
       "      <td>1994</td>\n",
       "      <td>4.172376e+06</td>\n",
       "      <td>2.401531e+06</td>\n",
       "      <td>6.417581e+06</td>\n",
       "      <td>2.871064e+06</td>\n",
       "      <td>7.404894e+06</td>\n",
       "    </tr>\n",
       "    <tr>\n",
       "      <td>...</td>\n",
       "      <td>...</td>\n",
       "      <td>...</td>\n",
       "      <td>...</td>\n",
       "      <td>...</td>\n",
       "      <td>...</td>\n",
       "      <td>...</td>\n",
       "      <td>...</td>\n",
       "    </tr>\n",
       "    <tr>\n",
       "      <td>135</td>\n",
       "      <td>Oceania</td>\n",
       "      <td>2013</td>\n",
       "      <td>2.504562e+05</td>\n",
       "      <td>2.449125e+05</td>\n",
       "      <td>3.298832e+05</td>\n",
       "      <td>2.809077e+05</td>\n",
       "      <td>6.664310e+04</td>\n",
       "    </tr>\n",
       "    <tr>\n",
       "      <td>136</td>\n",
       "      <td>Oceania</td>\n",
       "      <td>2014</td>\n",
       "      <td>2.586377e+05</td>\n",
       "      <td>2.542011e+05</td>\n",
       "      <td>3.409200e+05</td>\n",
       "      <td>2.877690e+05</td>\n",
       "      <td>6.575191e+04</td>\n",
       "    </tr>\n",
       "    <tr>\n",
       "      <td>137</td>\n",
       "      <td>Oceania</td>\n",
       "      <td>2015</td>\n",
       "      <td>2.667836e+05</td>\n",
       "      <td>2.624945e+05</td>\n",
       "      <td>3.512300e+05</td>\n",
       "      <td>2.927479e+05</td>\n",
       "      <td>6.649890e+04</td>\n",
       "    </tr>\n",
       "    <tr>\n",
       "      <td>138</td>\n",
       "      <td>Oceania</td>\n",
       "      <td>2016</td>\n",
       "      <td>2.755509e+05</td>\n",
       "      <td>2.709310e+05</td>\n",
       "      <td>3.631816e+05</td>\n",
       "      <td>2.977382e+05</td>\n",
       "      <td>6.416932e+04</td>\n",
       "    </tr>\n",
       "    <tr>\n",
       "      <td>139</td>\n",
       "      <td>Oceania</td>\n",
       "      <td>2017</td>\n",
       "      <td>2.866697e+05</td>\n",
       "      <td>2.819983e+05</td>\n",
       "      <td>3.779498e+05</td>\n",
       "      <td>3.091701e+05</td>\n",
       "      <td>6.697034e+04</td>\n",
       "    </tr>\n",
       "  </tbody>\n",
       "</table>\n",
       "<p>140 rows × 7 columns</p>\n",
       "</div>"
      ],
      "text/plain": [
       "    continent  year  high_blood_sugar       obesity  high_blood_pressure  \\\n",
       "0      Africa  1990      3.644594e+06  2.001687e+06         5.779287e+06   \n",
       "1      Africa  1991      3.753047e+06  2.082043e+06         5.906983e+06   \n",
       "2      Africa  1992      3.882773e+06  2.175435e+06         6.062517e+06   \n",
       "3      Africa  1993      4.027312e+06  2.283576e+06         6.243835e+06   \n",
       "4      Africa  1994      4.172376e+06  2.401531e+06         6.417581e+06   \n",
       "..        ...   ...               ...           ...                  ...   \n",
       "135   Oceania  2013      2.504562e+05  2.449125e+05         3.298832e+05   \n",
       "136   Oceania  2014      2.586377e+05  2.542011e+05         3.409200e+05   \n",
       "137   Oceania  2015      2.667836e+05  2.624945e+05         3.512300e+05   \n",
       "138   Oceania  2016      2.755509e+05  2.709310e+05         3.631816e+05   \n",
       "139   Oceania  2017      2.866697e+05  2.819983e+05         3.779498e+05   \n",
       "\n",
       "          smoking  air_pollution_outdoor_&_indoor  \n",
       "0    2.586857e+06                    7.133013e+06  \n",
       "1    2.645391e+06                    7.178302e+06  \n",
       "2    2.713961e+06                    7.253962e+06  \n",
       "3    2.790839e+06                    7.336856e+06  \n",
       "4    2.871064e+06                    7.404894e+06  \n",
       "..            ...                             ...  \n",
       "135  2.809077e+05                    6.664310e+04  \n",
       "136  2.877690e+05                    6.575191e+04  \n",
       "137  2.927479e+05                    6.649890e+04  \n",
       "138  2.977382e+05                    6.416932e+04  \n",
       "139  3.091701e+05                    6.697034e+04  \n",
       "\n",
       "[140 rows x 7 columns]"
      ]
     },
     "execution_count": 6,
     "metadata": {},
     "output_type": "execute_result"
    }
   ],
   "source": [
    "grouped_data = clean_data.groupby(['continent','year']).sum().reset_index()\n",
    "grouped_data\n"
   ]
  },
  {
   "cell_type": "code",
   "execution_count": 7,
   "metadata": {},
   "outputs": [],
   "source": [
    "grouped_data.to_csv('../data/clean_data_line_plot.csv',index = None)"
   ]
  },
  {
   "cell_type": "code",
   "execution_count": 4,
   "metadata": {},
   "outputs": [],
   "source": [
    "factors_data = pd.read_csv('../data/clean_data_line_plot.csv')"
   ]
  },
  {
   "cell_type": "code",
   "execution_count": 5,
   "metadata": {},
   "outputs": [],
   "source": [
    "#change to percentage\n",
    "factors_data.iloc[:,2:] = factors_data.iloc[:,2:].div(factors_data.iloc[:,2:].sum(axis=1), axis=0)"
   ]
  },
  {
   "cell_type": "code",
   "execution_count": 9,
   "metadata": {},
   "outputs": [],
   "source": [
    "#factors_data.iloc[:,2:] = factors_data.iloc[:,2:]/1_000_000"
   ]
  },
  {
   "cell_type": "code",
   "execution_count": 6,
   "metadata": {},
   "outputs": [],
   "source": [
    "selection = alt.selection_single();\n",
    "\n",
    "def line_graph(factor_name='high_blood_sugar', data=factors_data):\n",
    "    '''\n",
    "    plot the interactive line graph \n",
    "    '''\n",
    "    line = alt.Chart(data).mark_line(point=True).add_selection(selection\n",
    ").encode(\n",
    "    alt.X(\"year:N\", axis=alt.Axis(labelAngle=45)),\n",
    "    alt.Y(\"{}:Q\".format(factor_name),title=\"Percentage of death over total death\",\n",
    "          axis=alt.Axis(format='%') ),\n",
    "    tooltip = ['year:N','continent:N', \n",
    "               alt.Tooltip('{}:Q'.format(factor_name), format = \".2%\",\n",
    "                          title=\"percentage of death\")],\n",
    "    color = alt.condition(selection, 'continent:N', alt.value('grey')),\n",
    "    opacity = alt.condition(selection, alt.value(0.9), alt.value(0.2))\n",
    ").properties(\n",
    "    title=\"Trend of death due to {} over time , 1990 - 2017\".format(factor_name.replace(\"_\",\" \")),\n",
    "    width=800,\n",
    "    height=350).configure_title(fontSize=25\n",
    "    ).configure_axis(\n",
    "    labelFontSize=15,\n",
    "    titleFontSize=20\n",
    ")\n",
    "    return line "
   ]
  },
  {
   "cell_type": "code",
   "execution_count": 7,
   "metadata": {},
   "outputs": [
    {
     "data": {
      "application/vnd.vegalite.v3+json": {
       "$schema": "https://vega.github.io/schema/vega-lite/v3.4.0.json",
       "config": {
        "axis": {
         "labelFontSize": 15,
         "titleFontSize": 20
        },
        "mark": {
         "tooltip": null
        },
        "title": {
         "fontSize": 25
        },
        "view": {
         "height": 300,
         "width": 400
        }
       },
       "data": {
        "name": "data-9f5b26a249f9a140336262dc8201e3b9"
       },
       "datasets": {
        "data-9f5b26a249f9a140336262dc8201e3b9": [
         {
          "air_pollution_outdoor_&_indoor": 0.3373310415571199,
          "continent": "Africa",
          "high_blood_pressure": 0.27331130254838004,
          "high_blood_sugar": 0.17235841693219406,
          "obesity": 0.09466282726277149,
          "smoking": 0.12233641169953462,
          "year": 1990
         },
         {
          "air_pollution_outdoor_&_indoor": 0.3328563381889227,
          "continent": "Africa",
          "high_blood_pressure": 0.27390557247840236,
          "high_blood_sugar": 0.174028000444522,
          "obesity": 0.09654388757549481,
          "smoking": 0.12266620131265818,
          "year": 1991
         },
         {
          "air_pollution_outdoor_&_indoor": 0.32840225779369675,
          "continent": "Africa",
          "high_blood_pressure": 0.274463036226724,
          "high_blood_sugar": 0.17578137905516986,
          "obesity": 0.09848654454163315,
          "smoking": 0.12286678238277629,
          "year": 1992
         },
         {
          "air_pollution_outdoor_&_indoor": 0.32346005564983243,
          "continent": "Africa",
          "high_blood_pressure": 0.2752720123123606,
          "high_blood_sugar": 0.17755214774819864,
          "obesity": 0.10067605844048519,
          "smoking": 0.12303972584912308,
          "year": 1993
         },
         {
          "air_pollution_outdoor_&_indoor": 0.3182512589125347,
          "continent": "Africa",
          "high_blood_pressure": 0.2758180469125028,
          "high_blood_sugar": 0.17932246803672325,
          "obesity": 0.10321419614045668,
          "smoking": 0.12339402999778254,
          "year": 1994
         },
         {
          "air_pollution_outdoor_&_indoor": 0.3144937308648364,
          "continent": "Africa",
          "high_blood_pressure": 0.27618529808354414,
          "high_blood_sugar": 0.1808758310894056,
          "obesity": 0.10477242202044698,
          "smoking": 0.12367271794176687,
          "year": 1995
         },
         {
          "air_pollution_outdoor_&_indoor": 0.3086660803689125,
          "continent": "Africa",
          "high_blood_pressure": 0.27729157593653475,
          "high_blood_sugar": 0.1825433564265587,
          "obesity": 0.10786240906076947,
          "smoking": 0.12363657820722457,
          "year": 1996
         },
         {
          "air_pollution_outdoor_&_indoor": 0.3023554266879859,
          "continent": "Africa",
          "high_blood_pressure": 0.27816595198054345,
          "high_blood_sugar": 0.18420779345103686,
          "obesity": 0.11142995783161812,
          "smoking": 0.12384087004881567,
          "year": 1997
         },
         {
          "air_pollution_outdoor_&_indoor": 0.29803924509810753,
          "continent": "Africa",
          "high_blood_pressure": 0.2784893488967813,
          "high_blood_sugar": 0.18569187768618228,
          "obesity": 0.11407493861472681,
          "smoking": 0.12370458970420208,
          "year": 1998
         },
         {
          "air_pollution_outdoor_&_indoor": 0.29353764208540417,
          "continent": "Africa",
          "high_blood_pressure": 0.2790665795367146,
          "high_blood_sugar": 0.18718081490755636,
          "obesity": 0.11685101630493179,
          "smoking": 0.12336394716539312,
          "year": 1999
         },
         {
          "air_pollution_outdoor_&_indoor": 0.2889626634874789,
          "continent": "Africa",
          "high_blood_pressure": 0.27960065607982,
          "high_blood_sugar": 0.18870028665948793,
          "obesity": 0.11916431468464427,
          "smoking": 0.12357207908856889,
          "year": 2000
         },
         {
          "air_pollution_outdoor_&_indoor": 0.28466733091491286,
          "continent": "Africa",
          "high_blood_pressure": 0.2803249520522331,
          "high_blood_sugar": 0.19042918644865936,
          "obesity": 0.12154516976196128,
          "smoking": 0.12303336082223346,
          "year": 2001
         },
         {
          "air_pollution_outdoor_&_indoor": 0.2796444810673309,
          "continent": "Africa",
          "high_blood_pressure": 0.2811978919138928,
          "high_blood_sugar": 0.19270680579569308,
          "obesity": 0.12371571013646947,
          "smoking": 0.12273511108661368,
          "year": 2002
         },
         {
          "air_pollution_outdoor_&_indoor": 0.27437400359375613,
          "continent": "Africa",
          "high_blood_pressure": 0.28219539287913203,
          "high_blood_sugar": 0.19524326996941305,
          "obesity": 0.12575074576907116,
          "smoking": 0.12243658778862769,
          "year": 2003
         },
         {
          "air_pollution_outdoor_&_indoor": 0.2697248486114005,
          "continent": "Africa",
          "high_blood_pressure": 0.2832840697845361,
          "high_blood_sugar": 0.19772995580777578,
          "obesity": 0.12747536886029776,
          "smoking": 0.12178575693599006,
          "year": 2004
         },
         {
          "air_pollution_outdoor_&_indoor": 0.26468254323536355,
          "continent": "Africa",
          "high_blood_pressure": 0.2846990577664715,
          "high_blood_sugar": 0.20023790280856474,
          "obesity": 0.12932948730815727,
          "smoking": 0.12105100888144286,
          "year": 2005
         },
         {
          "air_pollution_outdoor_&_indoor": 0.26092500967840004,
          "continent": "Africa",
          "high_blood_pressure": 0.2855429235430927,
          "high_blood_sugar": 0.20237064045984396,
          "obesity": 0.13077937886958804,
          "smoking": 0.12038204744907531,
          "year": 2006
         },
         {
          "air_pollution_outdoor_&_indoor": 0.2571331042162424,
          "continent": "Africa",
          "high_blood_pressure": 0.28682989096735784,
          "high_blood_sugar": 0.20491373572749397,
          "obesity": 0.13193013261281725,
          "smoking": 0.11919313647608841,
          "year": 2007
         },
         {
          "air_pollution_outdoor_&_indoor": 0.2511095627472789,
          "continent": "Africa",
          "high_blood_pressure": 0.2889288563112438,
          "high_blood_sugar": 0.2078044695596453,
          "obesity": 0.13386881209993856,
          "smoking": 0.11828829928189337,
          "year": 2008
         },
         {
          "air_pollution_outdoor_&_indoor": 0.2455035278805505,
          "continent": "Africa",
          "high_blood_pressure": 0.29079652802287276,
          "high_blood_sugar": 0.21031857296148068,
          "obesity": 0.13608935294551663,
          "smoking": 0.11729201818957939,
          "year": 2009
         },
         {
          "air_pollution_outdoor_&_indoor": 0.24018300870959208,
          "continent": "Africa",
          "high_blood_pressure": 0.29273644686968775,
          "high_blood_sugar": 0.21267397229009113,
          "obesity": 0.13817651373052622,
          "smoking": 0.11623005840010289,
          "year": 2010
         },
         {
          "air_pollution_outdoor_&_indoor": 0.2355860498532508,
          "continent": "Africa",
          "high_blood_pressure": 0.2946030818824542,
          "high_blood_sugar": 0.21444251281766682,
          "obesity": 0.13976517542519729,
          "smoking": 0.11560318002143086,
          "year": 2011
         },
         {
          "air_pollution_outdoor_&_indoor": 0.23163612408537457,
          "continent": "Africa",
          "high_blood_pressure": 0.2960396002058258,
          "high_blood_sugar": 0.21618960559509376,
          "obesity": 0.1417985253000079,
          "smoking": 0.11433614481369797,
          "year": 2012
         },
         {
          "air_pollution_outdoor_&_indoor": 0.22753499790038345,
          "continent": "Africa",
          "high_blood_pressure": 0.29738711034783305,
          "high_blood_sugar": 0.21816593686607022,
          "obesity": 0.14348817827384366,
          "smoking": 0.11342377661186974,
          "year": 2013
         },
         {
          "air_pollution_outdoor_&_indoor": 0.22349088100859824,
          "continent": "Africa",
          "high_blood_pressure": 0.2987373744018525,
          "high_blood_sugar": 0.2199332552010233,
          "obesity": 0.14565361455418183,
          "smoking": 0.11218487483434421,
          "year": 2014
         },
         {
          "air_pollution_outdoor_&_indoor": 0.22158507185934986,
          "continent": "Africa",
          "high_blood_pressure": 0.29894992083426547,
          "high_blood_sugar": 0.22097448685558688,
          "obesity": 0.14762311375603812,
          "smoking": 0.1108674066947597,
          "year": 2015
         },
         {
          "air_pollution_outdoor_&_indoor": 0.21773895513476305,
          "continent": "Africa",
          "high_blood_pressure": 0.3001117318923785,
          "high_blood_sugar": 0.2224516212719305,
          "obesity": 0.14967947114675373,
          "smoking": 0.11001822055417436,
          "year": 2016
         },
         {
          "air_pollution_outdoor_&_indoor": 0.21399734360091058,
          "continent": "Africa",
          "high_blood_pressure": 0.301600952526598,
          "high_blood_sugar": 0.2234883486932702,
          "obesity": 0.15156167587752042,
          "smoking": 0.10935167930170075,
          "year": 2017
         },
         {
          "air_pollution_outdoor_&_indoor": 0.09526928644936306,
          "continent": "Americas",
          "high_blood_pressure": 0.2874068427450754,
          "high_blood_sugar": 0.16750747748497596,
          "obesity": 0.14794971558936051,
          "smoking": 0.30186667773122505,
          "year": 1990
         },
         {
          "air_pollution_outdoor_&_indoor": 0.09536620153561554,
          "continent": "Americas",
          "high_blood_pressure": 0.2881009225050778,
          "high_blood_sugar": 0.16776808684213362,
          "obesity": 0.1510295146801366,
          "smoking": 0.2977352744370365,
          "year": 1991
         },
         {
          "air_pollution_outdoor_&_indoor": 0.09569953836228656,
          "continent": "Americas",
          "high_blood_pressure": 0.28785510846575835,
          "high_blood_sugar": 0.16887016857503012,
          "obesity": 0.15416959817095505,
          "smoking": 0.29340558642597003,
          "year": 1992
         },
         {
          "air_pollution_outdoor_&_indoor": 0.09531886543042903,
          "continent": "Americas",
          "high_blood_pressure": 0.2881576122922603,
          "high_blood_sugar": 0.16983928131859669,
          "obesity": 0.15740927259256066,
          "smoking": 0.2892749683661534,
          "year": 1993
         },
         {
          "air_pollution_outdoor_&_indoor": 0.09478928492738738,
          "continent": "Americas",
          "high_blood_pressure": 0.28799036697902736,
          "high_blood_sugar": 0.17129471793619525,
          "obesity": 0.16076941203678005,
          "smoking": 0.2851562181206099,
          "year": 1994
         },
         {
          "air_pollution_outdoor_&_indoor": 0.09386846537097371,
          "continent": "Americas",
          "high_blood_pressure": 0.28742222557790215,
          "high_blood_sugar": 0.17320260093267492,
          "obesity": 0.16400382864678845,
          "smoking": 0.2815028794716608,
          "year": 1995
         },
         {
          "air_pollution_outdoor_&_indoor": 0.09370998797182338,
          "continent": "Americas",
          "high_blood_pressure": 0.2863225308869248,
          "high_blood_sugar": 0.17526140106177115,
          "obesity": 0.16703392147171325,
          "smoking": 0.27767215860776734,
          "year": 1996
         },
         {
          "air_pollution_outdoor_&_indoor": 0.09353921357380075,
          "continent": "Americas",
          "high_blood_pressure": 0.28474597844685656,
          "high_blood_sugar": 0.17785860045127994,
          "obesity": 0.17011266328802976,
          "smoking": 0.27374354424003305,
          "year": 1997
         },
         {
          "air_pollution_outdoor_&_indoor": 0.09304181235056244,
          "continent": "Americas",
          "high_blood_pressure": 0.28354746724113045,
          "high_blood_sugar": 0.18087530271732152,
          "obesity": 0.1731238398379711,
          "smoking": 0.26941157785301445,
          "year": 1998
         },
         {
          "air_pollution_outdoor_&_indoor": 0.09206446847303994,
          "continent": "Americas",
          "high_blood_pressure": 0.28249935293483575,
          "high_blood_sugar": 0.1837278735992663,
          "obesity": 0.17625948124829938,
          "smoking": 0.26544882374455864,
          "year": 1999
         },
         {
          "air_pollution_outdoor_&_indoor": 0.09104244368149565,
          "continent": "Americas",
          "high_blood_pressure": 0.28091773010497373,
          "high_blood_sugar": 0.18631819283358683,
          "obesity": 0.17946949175492458,
          "smoking": 0.2622521416250191,
          "year": 2000
         },
         {
          "air_pollution_outdoor_&_indoor": 0.0908772506673501,
          "continent": "Americas",
          "high_blood_pressure": 0.27892893615082237,
          "high_blood_sugar": 0.18909053034311982,
          "obesity": 0.18220924562366445,
          "smoking": 0.2588940372150433,
          "year": 2001
         },
         {
          "air_pollution_outdoor_&_indoor": 0.09071965989694701,
          "continent": "Americas",
          "high_blood_pressure": 0.2762075096767126,
          "high_blood_sugar": 0.19257875932583754,
          "obesity": 0.18501137120900749,
          "smoking": 0.25548269989149536,
          "year": 2002
         },
         {
          "air_pollution_outdoor_&_indoor": 0.09052425302620185,
          "continent": "Americas",
          "high_blood_pressure": 0.2735367959722954,
          "high_blood_sugar": 0.19624181252478434,
          "obesity": 0.18773444374795176,
          "smoking": 0.2519626947287666,
          "year": 2003
         },
         {
          "air_pollution_outdoor_&_indoor": 0.0901941548914387,
          "continent": "Americas",
          "high_blood_pressure": 0.2707586868166718,
          "high_blood_sugar": 0.19962140900723746,
          "obesity": 0.19034690364920903,
          "smoking": 0.24907884563544297,
          "year": 2004
         },
         {
          "air_pollution_outdoor_&_indoor": 0.08932543852542965,
          "continent": "Americas",
          "high_blood_pressure": 0.26852185604173706,
          "high_blood_sugar": 0.20321035547333302,
          "obesity": 0.19291571423096196,
          "smoking": 0.24602663572853833,
          "year": 2005
         },
         {
          "air_pollution_outdoor_&_indoor": 0.08913766707913648,
          "continent": "Americas",
          "high_blood_pressure": 0.2665862362818737,
          "high_blood_sugar": 0.20679479944466875,
          "obesity": 0.19494925048722342,
          "smoking": 0.24253204670709766,
          "year": 2006
         },
         {
          "air_pollution_outdoor_&_indoor": 0.08862910945609277,
          "continent": "Americas",
          "high_blood_pressure": 0.2644461804300802,
          "high_blood_sugar": 0.21177429908827963,
          "obesity": 0.19668354915706884,
          "smoking": 0.2384668618684785,
          "year": 2007
         },
         {
          "air_pollution_outdoor_&_indoor": 0.088099350706678,
          "continent": "Americas",
          "high_blood_pressure": 0.2623690219848266,
          "high_blood_sugar": 0.21722036518481191,
          "obesity": 0.19863225044754132,
          "smoking": 0.23367901167614205,
          "year": 2008
         },
         {
          "air_pollution_outdoor_&_indoor": 0.08771855505580337,
          "continent": "Americas",
          "high_blood_pressure": 0.2607948594562861,
          "high_blood_sugar": 0.2217402477496559,
          "obesity": 0.20070084815181435,
          "smoking": 0.22904548958644028,
          "year": 2009
         },
         {
          "air_pollution_outdoor_&_indoor": 0.08705922192454119,
          "continent": "Americas",
          "high_blood_pressure": 0.2609655696168854,
          "high_blood_sugar": 0.22439146766563003,
          "obesity": 0.20239061676161157,
          "smoking": 0.2251931240313318,
          "year": 2010
         },
         {
          "air_pollution_outdoor_&_indoor": 0.08785933459922123,
          "continent": "Americas",
          "high_blood_pressure": 0.2609410835186122,
          "high_blood_sugar": 0.22530985010796042,
          "obesity": 0.2040072795868399,
          "smoking": 0.22188245218736619,
          "year": 2011
         },
         {
          "air_pollution_outdoor_&_indoor": 0.08540951971724497,
          "continent": "Americas",
          "high_blood_pressure": 0.26176806684179743,
          "high_blood_sugar": 0.22737234702436418,
          "obesity": 0.20645607494258045,
          "smoking": 0.21899399147401297,
          "year": 2012
         },
         {
          "air_pollution_outdoor_&_indoor": 0.08411910155637284,
          "continent": "Americas",
          "high_blood_pressure": 0.2624634896141359,
          "high_blood_sugar": 0.229361977508912,
          "obesity": 0.20858126544444802,
          "smoking": 0.21547416587613138,
          "year": 2013
         },
         {
          "air_pollution_outdoor_&_indoor": 0.08178553224344642,
          "continent": "Americas",
          "high_blood_pressure": 0.2637814422084118,
          "high_blood_sugar": 0.23167688735803346,
          "obesity": 0.2109269191538894,
          "smoking": 0.21182921903621899,
          "year": 2014
         },
         {
          "air_pollution_outdoor_&_indoor": 0.08073202331376356,
          "continent": "Americas",
          "high_blood_pressure": 0.2649358643339406,
          "high_blood_sugar": 0.2332380100851255,
          "obesity": 0.21277805236582767,
          "smoking": 0.20831604990134267,
          "year": 2015
         },
         {
          "air_pollution_outdoor_&_indoor": 0.07772605954570039,
          "continent": "Americas",
          "high_blood_pressure": 0.2660369024970901,
          "high_blood_sugar": 0.2354455162334824,
          "obesity": 0.21525014648516744,
          "smoking": 0.20554137523855978,
          "year": 2016
         },
         {
          "air_pollution_outdoor_&_indoor": 0.07763791239320321,
          "continent": "Americas",
          "high_blood_pressure": 0.2670726488387847,
          "high_blood_sugar": 0.2362781848294865,
          "obesity": 0.216788205020676,
          "smoking": 0.2022230489178497,
          "year": 2017
         },
         {
          "air_pollution_outdoor_&_indoor": 0.2908289944260537,
          "continent": "Asia",
          "high_blood_pressure": 0.2741019228267129,
          "high_blood_sugar": 0.12760439753784572,
          "obesity": 0.05193316613385221,
          "smoking": 0.2555315190755354,
          "year": 1990
         },
         {
          "air_pollution_outdoor_&_indoor": 0.28612042886138733,
          "continent": "Asia",
          "high_blood_pressure": 0.2744777269716014,
          "high_blood_sugar": 0.12884555245478738,
          "obesity": 0.05284739709578806,
          "smoking": 0.25770889461643587,
          "year": 1991
         },
         {
          "air_pollution_outdoor_&_indoor": 0.2810258067542582,
          "continent": "Asia",
          "high_blood_pressure": 0.2749958103223193,
          "high_blood_sugar": 0.1306835830270238,
          "obesity": 0.05401426610274817,
          "smoking": 0.25928053379365057,
          "year": 1992
         },
         {
          "air_pollution_outdoor_&_indoor": 0.27567356437387874,
          "continent": "Asia",
          "high_blood_pressure": 0.27537299329034465,
          "high_blood_sugar": 0.1323212831827146,
          "obesity": 0.05532131450708951,
          "smoking": 0.26131084464597254,
          "year": 1993
         },
         {
          "air_pollution_outdoor_&_indoor": 0.27074442483127215,
          "continent": "Asia",
          "high_blood_pressure": 0.27581047614454557,
          "high_blood_sugar": 0.13400452874338067,
          "obesity": 0.05669025868759719,
          "smoking": 0.2627503115932045,
          "year": 1994
         },
         {
          "air_pollution_outdoor_&_indoor": 0.2650945845054573,
          "continent": "Asia",
          "high_blood_pressure": 0.27661681231194074,
          "high_blood_sugar": 0.13570437968589272,
          "obesity": 0.058285353049682534,
          "smoking": 0.26429887044702666,
          "year": 1995
         },
         {
          "air_pollution_outdoor_&_indoor": 0.2598111582685927,
          "continent": "Asia",
          "high_blood_pressure": 0.2776058812866141,
          "high_blood_sugar": 0.13742800064745955,
          "obesity": 0.05997606412300174,
          "smoking": 0.2651788956743317,
          "year": 1996
         },
         {
          "air_pollution_outdoor_&_indoor": 0.2548773209095518,
          "continent": "Asia",
          "high_blood_pressure": 0.2788204347031578,
          "high_blood_sugar": 0.1395138178586705,
          "obesity": 0.06163177563639666,
          "smoking": 0.2651566508922231,
          "year": 1997
         },
         {
          "air_pollution_outdoor_&_indoor": 0.24986364886187745,
          "continent": "Asia",
          "high_blood_pressure": 0.27985601667940974,
          "high_blood_sugar": 0.14107314961155198,
          "obesity": 0.06353265845476938,
          "smoking": 0.26567452639239136,
          "year": 1998
         },
         {
          "air_pollution_outdoor_&_indoor": 0.2438701993432019,
          "continent": "Asia",
          "high_blood_pressure": 0.2816210521107163,
          "high_blood_sugar": 0.14303323336095297,
          "obesity": 0.06595087837102573,
          "smoking": 0.26552463681410293,
          "year": 1999
         },
         {
          "air_pollution_outdoor_&_indoor": 0.2381320486678206,
          "continent": "Asia",
          "high_blood_pressure": 0.2837143628682011,
          "high_blood_sugar": 0.14544546179086312,
          "obesity": 0.06784982998061587,
          "smoking": 0.26485829669249933,
          "year": 2000
         },
         {
          "air_pollution_outdoor_&_indoor": 0.2329597693434888,
          "continent": "Asia",
          "high_blood_pressure": 0.28537250784029844,
          "high_blood_sugar": 0.14900696817885628,
          "obesity": 0.06938246814530094,
          "smoking": 0.2632782864920556,
          "year": 2001
         },
         {
          "air_pollution_outdoor_&_indoor": 0.22742750613016763,
          "continent": "Asia",
          "high_blood_pressure": 0.2867528952035088,
          "high_blood_sugar": 0.15395932630348322,
          "obesity": 0.07137838846093739,
          "smoking": 0.26048188390190286,
          "year": 2002
         },
         {
          "air_pollution_outdoor_&_indoor": 0.2218601432945458,
          "continent": "Asia",
          "high_blood_pressure": 0.2877965008750882,
          "high_blood_sugar": 0.15921132455674963,
          "obesity": 0.07322115379081134,
          "smoking": 0.25791087748280506,
          "year": 2003
         },
         {
          "air_pollution_outdoor_&_indoor": 0.216875340268237,
          "continent": "Asia",
          "high_blood_pressure": 0.28873458231767135,
          "high_blood_sugar": 0.1639526698779179,
          "obesity": 0.07553654961291605,
          "smoking": 0.25490085792325784,
          "year": 2004
         },
         {
          "air_pollution_outdoor_&_indoor": 0.2124089799065942,
          "continent": "Asia",
          "high_blood_pressure": 0.2907869309061422,
          "high_blood_sugar": 0.1677818972183625,
          "obesity": 0.07791182605365567,
          "smoking": 0.2511103659152455,
          "year": 2005
         },
         {
          "air_pollution_outdoor_&_indoor": 0.2093220108910686,
          "continent": "Asia",
          "high_blood_pressure": 0.2929863176710934,
          "high_blood_sugar": 0.1690366968400243,
          "obesity": 0.08061715805653337,
          "smoking": 0.24803781654128035,
          "year": 2006
         },
         {
          "air_pollution_outdoor_&_indoor": 0.20658480603923787,
          "continent": "Asia",
          "high_blood_pressure": 0.29539782418606464,
          "high_blood_sugar": 0.16855065053705712,
          "obesity": 0.08363982116351687,
          "smoking": 0.24582689807412345,
          "year": 2007
         },
         {
          "air_pollution_outdoor_&_indoor": 0.20378598843263568,
          "continent": "Asia",
          "high_blood_pressure": 0.29878175165891274,
          "high_blood_sugar": 0.1675144891402578,
          "obesity": 0.08673377708814231,
          "smoking": 0.24318399368005145,
          "year": 2008
         },
         {
          "air_pollution_outdoor_&_indoor": 0.20099411801364325,
          "continent": "Asia",
          "high_blood_pressure": 0.30224105496938475,
          "high_blood_sugar": 0.16622588734209187,
          "obesity": 0.08966906547392768,
          "smoking": 0.24086987420095254,
          "year": 2009
         },
         {
          "air_pollution_outdoor_&_indoor": 0.1981496225048081,
          "continent": "Asia",
          "high_blood_pressure": 0.30530231810718755,
          "high_blood_sugar": 0.16586686329394051,
          "obesity": 0.09223398787437914,
          "smoking": 0.23844720821968474,
          "year": 2010
         },
         {
          "air_pollution_outdoor_&_indoor": 0.1953437806534779,
          "continent": "Asia",
          "high_blood_pressure": 0.3072438868986199,
          "high_blood_sugar": 0.16672350052349727,
          "obesity": 0.09473353567454353,
          "smoking": 0.23595529624986122,
          "year": 2011
         },
         {
          "air_pollution_outdoor_&_indoor": 0.1903216091542432,
          "continent": "Asia",
          "high_blood_pressure": 0.30958408872840915,
          "high_blood_sugar": 0.1681865055138771,
          "obesity": 0.09773252476970269,
          "smoking": 0.23417527183376796,
          "year": 2012
         },
         {
          "air_pollution_outdoor_&_indoor": 0.18764757092960224,
          "continent": "Asia",
          "high_blood_pressure": 0.310577206612914,
          "high_blood_sugar": 0.16965105519306986,
          "obesity": 0.10073072725732919,
          "smoking": 0.23139344000708476,
          "year": 2013
         },
         {
          "air_pollution_outdoor_&_indoor": 0.18338608233951437,
          "continent": "Asia",
          "high_blood_pressure": 0.3120090845857975,
          "high_blood_sugar": 0.17085475711222217,
          "obesity": 0.10376788584076468,
          "smoking": 0.2299821901217013,
          "year": 2014
         },
         {
          "air_pollution_outdoor_&_indoor": 0.18076250657978463,
          "continent": "Asia",
          "high_blood_pressure": 0.3123048335464435,
          "high_blood_sugar": 0.17152421808787557,
          "obesity": 0.10631798208888542,
          "smoking": 0.22909045969701095,
          "year": 2015
         },
         {
          "air_pollution_outdoor_&_indoor": 0.17629762895577453,
          "continent": "Asia",
          "high_blood_pressure": 0.31314980575036566,
          "high_blood_sugar": 0.17305186379436632,
          "obesity": 0.10881422365262747,
          "smoking": 0.22868647784686608,
          "year": 2016
         },
         {
          "air_pollution_outdoor_&_indoor": 0.17486099196916155,
          "continent": "Asia",
          "high_blood_pressure": 0.3130966444877381,
          "high_blood_sugar": 0.1740874159615357,
          "obesity": 0.1104314602522911,
          "smoking": 0.22752348732927355,
          "year": 2017
         },
         {
          "air_pollution_outdoor_&_indoor": 0.08429498157638676,
          "continent": "Europe",
          "high_blood_pressure": 0.34109266496959323,
          "high_blood_sugar": 0.17461745778226243,
          "obesity": 0.12753311520813196,
          "smoking": 0.27246178046362574,
          "year": 1990
         },
         {
          "air_pollution_outdoor_&_indoor": 0.08382170237022286,
          "continent": "Europe",
          "high_blood_pressure": 0.3393717476912988,
          "high_blood_sugar": 0.17565218757466025,
          "obesity": 0.12944472479002536,
          "smoking": 0.27170963757379274,
          "year": 1991
         },
         {
          "air_pollution_outdoor_&_indoor": 0.08343017174387612,
          "continent": "Europe",
          "high_blood_pressure": 0.33786298943497783,
          "high_blood_sugar": 0.17632223827587049,
          "obesity": 0.13142608149576432,
          "smoking": 0.27095851904951135,
          "year": 1992
         },
         {
          "air_pollution_outdoor_&_indoor": 0.08295812179104758,
          "continent": "Europe",
          "high_blood_pressure": 0.3364809333640948,
          "high_blood_sugar": 0.17750362129879516,
          "obesity": 0.13308955217812482,
          "smoking": 0.26996777136793754,
          "year": 1993
         },
         {
          "air_pollution_outdoor_&_indoor": 0.08258949957086432,
          "continent": "Europe",
          "high_blood_pressure": 0.33477455776987936,
          "high_blood_sugar": 0.17849639479478596,
          "obesity": 0.1350163943614739,
          "smoking": 0.26912315350299654,
          "year": 1994
         },
         {
          "air_pollution_outdoor_&_indoor": 0.0821772437647967,
          "continent": "Europe",
          "high_blood_pressure": 0.3336888920944631,
          "high_blood_sugar": 0.17962850746672782,
          "obesity": 0.1366714238884983,
          "smoking": 0.2678339327855141,
          "year": 1995
         },
         {
          "air_pollution_outdoor_&_indoor": 0.08199460335283766,
          "continent": "Europe",
          "high_blood_pressure": 0.33227465896066155,
          "high_blood_sugar": 0.18127575727573486,
          "obesity": 0.13850878314271886,
          "smoking": 0.26594619726804714,
          "year": 1996
         },
         {
          "air_pollution_outdoor_&_indoor": 0.08174936702820831,
          "continent": "Europe",
          "high_blood_pressure": 0.3300692110573565,
          "high_blood_sugar": 0.18335918897835707,
          "obesity": 0.14068740446710723,
          "smoking": 0.2641348284689709,
          "year": 1997
         },
         {
          "air_pollution_outdoor_&_indoor": 0.08121701512456075,
          "continent": "Europe",
          "high_blood_pressure": 0.3276659753021816,
          "high_blood_sugar": 0.18602389342957376,
          "obesity": 0.1425665812702236,
          "smoking": 0.26252653487346017,
          "year": 1998
         },
         {
          "air_pollution_outdoor_&_indoor": 0.08076068896817634,
          "continent": "Europe",
          "high_blood_pressure": 0.3250900013598226,
          "high_blood_sugar": 0.188672353717053,
          "obesity": 0.1444590984096809,
          "smoking": 0.26101785754526713,
          "year": 1999
         },
         {
          "air_pollution_outdoor_&_indoor": 0.08004320683212261,
          "continent": "Europe",
          "high_blood_pressure": 0.32326848309926104,
          "high_blood_sugar": 0.19101789422726467,
          "obesity": 0.14600513661342135,
          "smoking": 0.25966527922793037,
          "year": 2000
         },
         {
          "air_pollution_outdoor_&_indoor": 0.07972373947327292,
          "continent": "Europe",
          "high_blood_pressure": 0.32133328107771103,
          "high_blood_sugar": 0.1926298292731736,
          "obesity": 0.1475943982461238,
          "smoking": 0.25871875192971866,
          "year": 2001
         },
         {
          "air_pollution_outdoor_&_indoor": 0.07966576925468664,
          "continent": "Europe",
          "high_blood_pressure": 0.31984324724980473,
          "high_blood_sugar": 0.19431454086683397,
          "obesity": 0.1491246715475204,
          "smoking": 0.25705177108115423,
          "year": 2002
         },
         {
          "air_pollution_outdoor_&_indoor": 0.0797267005573093,
          "continent": "Europe",
          "high_blood_pressure": 0.3176670516004394,
          "high_blood_sugar": 0.19573612877881733,
          "obesity": 0.15075764697282643,
          "smoking": 0.2561124720906076,
          "year": 2003
         },
         {
          "air_pollution_outdoor_&_indoor": 0.07954494693127559,
          "continent": "Europe",
          "high_blood_pressure": 0.31502005712078757,
          "high_blood_sugar": 0.19654526664214306,
          "obesity": 0.15265574175739868,
          "smoking": 0.2562339875483951,
          "year": 2004
         },
         {
          "air_pollution_outdoor_&_indoor": 0.07952087662898524,
          "continent": "Europe",
          "high_blood_pressure": 0.3130399894965256,
          "high_blood_sugar": 0.19790473867459774,
          "obesity": 0.1540387288406312,
          "smoking": 0.25549566635926013,
          "year": 2005
         },
         {
          "air_pollution_outdoor_&_indoor": 0.07961007122344414,
          "continent": "Europe",
          "high_blood_pressure": 0.31051771628040875,
          "high_blood_sugar": 0.19972116159827052,
          "obesity": 0.1552233302380635,
          "smoking": 0.2549277206598132,
          "year": 2006
         },
         {
          "air_pollution_outdoor_&_indoor": 0.07969922349649129,
          "continent": "Europe",
          "high_blood_pressure": 0.3080915330512939,
          "high_blood_sugar": 0.20236467971129452,
          "obesity": 0.15629114635455063,
          "smoking": 0.2535534173863698,
          "year": 2007
         },
         {
          "air_pollution_outdoor_&_indoor": 0.07978357107266912,
          "continent": "Europe",
          "high_blood_pressure": 0.3057730643947042,
          "high_blood_sugar": 0.2051788158514036,
          "obesity": 0.15732832872988284,
          "smoking": 0.2519362199513402,
          "year": 2008
         },
         {
          "air_pollution_outdoor_&_indoor": 0.07996846465289226,
          "continent": "Europe",
          "high_blood_pressure": 0.3037879902019111,
          "high_blood_sugar": 0.20752647332773727,
          "obesity": 0.15837136382608444,
          "smoking": 0.2503457079913748,
          "year": 2009
         },
         {
          "air_pollution_outdoor_&_indoor": 0.07982755071800618,
          "continent": "Europe",
          "high_blood_pressure": 0.30260199419795064,
          "high_blood_sugar": 0.20933271923489294,
          "obesity": 0.159286033341545,
          "smoking": 0.24895170250760523,
          "year": 2010
         },
         {
          "air_pollution_outdoor_&_indoor": 0.08001182219457524,
          "continent": "Europe",
          "high_blood_pressure": 0.30171130730001616,
          "high_blood_sugar": 0.21130928540052227,
          "obesity": 0.15986122981457168,
          "smoking": 0.24710635529031472,
          "year": 2011
         },
         {
          "air_pollution_outdoor_&_indoor": 0.07781720818852092,
          "continent": "Europe",
          "high_blood_pressure": 0.30173085039439385,
          "high_blood_sugar": 0.21368373069565014,
          "obesity": 0.16087157805995783,
          "smoking": 0.24589663266147735,
          "year": 2012
         },
         {
          "air_pollution_outdoor_&_indoor": 0.07691023450964846,
          "continent": "Europe",
          "high_blood_pressure": 0.3011643722959601,
          "high_blood_sugar": 0.2154924166442887,
          "obesity": 0.16190152625147547,
          "smoking": 0.24453145029862727,
          "year": 2013
         },
         {
          "air_pollution_outdoor_&_indoor": 0.07579933084644909,
          "continent": "Europe",
          "high_blood_pressure": 0.30115552012175656,
          "high_blood_sugar": 0.2171796020867829,
          "obesity": 0.16309110737549629,
          "smoking": 0.2427744395695151,
          "year": 2014
         },
         {
          "air_pollution_outdoor_&_indoor": 0.0762594221585046,
          "continent": "Europe",
          "high_blood_pressure": 0.3010051818484714,
          "high_blood_sugar": 0.21934715496782686,
          "obesity": 0.1634861448841513,
          "smoking": 0.2399020961410457,
          "year": 2015
         },
         {
          "air_pollution_outdoor_&_indoor": 0.07411861824835007,
          "continent": "Europe",
          "high_blood_pressure": 0.30182369061246755,
          "high_blood_sugar": 0.22167771525763252,
          "obesity": 0.16443039162378284,
          "smoking": 0.23794958425776694,
          "year": 2016
         },
         {
          "air_pollution_outdoor_&_indoor": 0.07409463775394105,
          "continent": "Europe",
          "high_blood_pressure": 0.3021293120396331,
          "high_blood_sugar": 0.22296519840949375,
          "obesity": 0.16484693462591402,
          "smoking": 0.23596391717101814,
          "year": 2017
         },
         {
          "air_pollution_outdoor_&_indoor": 0.05756460170388016,
          "continent": "Oceania",
          "high_blood_pressure": 0.3269907367609295,
          "high_blood_sugar": 0.17135550342316794,
          "obesity": 0.13461997942635254,
          "smoking": 0.30946917868566987,
          "year": 1990
         },
         {
          "air_pollution_outdoor_&_indoor": 0.05877289230908779,
          "continent": "Oceania",
          "high_blood_pressure": 0.3267293309171226,
          "high_blood_sugar": 0.17041104223435882,
          "obesity": 0.1388062454970168,
          "smoking": 0.30528048904241384,
          "year": 1991
         },
         {
          "air_pollution_outdoor_&_indoor": 0.0596791456856005,
          "continent": "Oceania",
          "high_blood_pressure": 0.32697724378253823,
          "high_blood_sugar": 0.17002124354025366,
          "obesity": 0.14256455215669267,
          "smoking": 0.3007578148349149,
          "year": 1992
         },
         {
          "air_pollution_outdoor_&_indoor": 0.05996959806749423,
          "continent": "Oceania",
          "high_blood_pressure": 0.3269178098324773,
          "high_blood_sugar": 0.170335279958251,
          "obesity": 0.14639921321525431,
          "smoking": 0.2963780989265231,
          "year": 1993
         },
         {
          "air_pollution_outdoor_&_indoor": 0.06011040799198798,
          "continent": "Oceania",
          "high_blood_pressure": 0.3268573306406846,
          "high_blood_sugar": 0.17122709329765975,
          "obesity": 0.1501114980679438,
          "smoking": 0.2916936700017239,
          "year": 1994
         },
         {
          "air_pollution_outdoor_&_indoor": 0.05955258155562947,
          "continent": "Oceania",
          "high_blood_pressure": 0.32598864166726854,
          "high_blood_sugar": 0.1725089713019521,
          "obesity": 0.15388899016490779,
          "smoking": 0.288060815310242,
          "year": 1995
         },
         {
          "air_pollution_outdoor_&_indoor": 0.060965156859162865,
          "continent": "Oceania",
          "high_blood_pressure": 0.3238354019348885,
          "high_blood_sugar": 0.17391967187759844,
          "obesity": 0.15751526262943205,
          "smoking": 0.2837645066989183,
          "year": 1996
         },
         {
          "air_pollution_outdoor_&_indoor": 0.0618978935500384,
          "continent": "Oceania",
          "high_blood_pressure": 0.32182556501026055,
          "high_blood_sugar": 0.1746611701791174,
          "obesity": 0.1617935800067473,
          "smoking": 0.27982179125383644,
          "year": 1997
         },
         {
          "air_pollution_outdoor_&_indoor": 0.06211559998065527,
          "continent": "Oceania",
          "high_blood_pressure": 0.3197631318244455,
          "high_blood_sugar": 0.17573606143078718,
          "obesity": 0.16613303147434516,
          "smoking": 0.2762521752897668,
          "year": 1998
         },
         {
          "air_pollution_outdoor_&_indoor": 0.06190300411489272,
          "continent": "Oceania",
          "high_blood_pressure": 0.31785166640119245,
          "high_blood_sugar": 0.17726809076926156,
          "obesity": 0.17006352751457382,
          "smoking": 0.27291371120007957,
          "year": 1999
         },
         {
          "air_pollution_outdoor_&_indoor": 0.06097100291943371,
          "continent": "Oceania",
          "high_blood_pressure": 0.31579949894836634,
          "high_blood_sugar": 0.17932010465954173,
          "obesity": 0.1739248076508205,
          "smoking": 0.2699845858218377,
          "year": 2000
         },
         {
          "air_pollution_outdoor_&_indoor": 0.061059981667326825,
          "continent": "Oceania",
          "high_blood_pressure": 0.3126109003685074,
          "high_blood_sugar": 0.1818446234984677,
          "obesity": 0.17670970193329044,
          "smoking": 0.2677747925324076,
          "year": 2001
         },
         {
          "air_pollution_outdoor_&_indoor": 0.06098582904038552,
          "continent": "Oceania",
          "high_blood_pressure": 0.30940709667680333,
          "high_blood_sugar": 0.18480728251941705,
          "obesity": 0.17956086044198094,
          "smoking": 0.26523893132141335,
          "year": 2002
         },
         {
          "air_pollution_outdoor_&_indoor": 0.06064195649460296,
          "continent": "Oceania",
          "high_blood_pressure": 0.3049875382806837,
          "high_blood_sugar": 0.18767939309828463,
          "obesity": 0.18256429251467335,
          "smoking": 0.26412681961175527,
          "year": 2003
         },
         {
          "air_pollution_outdoor_&_indoor": 0.0600392563448623,
          "continent": "Oceania",
          "high_blood_pressure": 0.3005958346245436,
          "high_blood_sugar": 0.19059769200730756,
          "obesity": 0.18578075718323983,
          "smoking": 0.26298645984004676,
          "year": 2004
         },
         {
          "air_pollution_outdoor_&_indoor": 0.05932665816614243,
          "continent": "Oceania",
          "high_blood_pressure": 0.2964200439443119,
          "high_blood_sugar": 0.19384769752851372,
          "obesity": 0.1890532167878747,
          "smoking": 0.2613523835731572,
          "year": 2005
         },
         {
          "air_pollution_outdoor_&_indoor": 0.05934382833191006,
          "continent": "Oceania",
          "high_blood_pressure": 0.2935590651734425,
          "high_blood_sugar": 0.19809887936539974,
          "obesity": 0.1921062247723453,
          "smoking": 0.25689200235690246,
          "year": 2006
         },
         {
          "air_pollution_outdoor_&_indoor": 0.05950422020674776,
          "continent": "Oceania",
          "high_blood_pressure": 0.29056050249993254,
          "high_blood_sugar": 0.2025044871424144,
          "obesity": 0.19490500782398668,
          "smoking": 0.2525257823269185,
          "year": 2007
         },
         {
          "air_pollution_outdoor_&_indoor": 0.059524200130978956,
          "continent": "Oceania",
          "high_blood_pressure": 0.28792626927423565,
          "high_blood_sugar": 0.20699520558581916,
          "obesity": 0.19757035544984503,
          "smoking": 0.2479839695591212,
          "year": 2008
         },
         {
          "air_pollution_outdoor_&_indoor": 0.05937938544496963,
          "continent": "Oceania",
          "high_blood_pressure": 0.28501750633844297,
          "high_blood_sugar": 0.2100274084631714,
          "obesity": 0.20075505195484095,
          "smoking": 0.24482064779857518,
          "year": 2009
         },
         {
          "air_pollution_outdoor_&_indoor": 0.059278291542310305,
          "continent": "Oceania",
          "high_blood_pressure": 0.28248355381403834,
          "high_blood_sugar": 0.21165563511040517,
          "obesity": 0.20304436862268965,
          "smoking": 0.24353815091055667,
          "year": 2010
         },
         {
          "air_pollution_outdoor_&_indoor": 0.061319353516913505,
          "continent": "Oceania",
          "high_blood_pressure": 0.2812992244245652,
          "high_blood_sugar": 0.21259796187673308,
          "obesity": 0.20427210765913847,
          "smoking": 0.2405113525226497,
          "year": 2011
         },
         {
          "air_pollution_outdoor_&_indoor": 0.058701161903578006,
          "continent": "Oceania",
          "high_blood_pressure": 0.2813316614164621,
          "high_blood_sugar": 0.21357611589027478,
          "obesity": 0.20651677199585708,
          "smoking": 0.2398742887938279,
          "year": 2012
         },
         {
          "air_pollution_outdoor_&_indoor": 0.056823797952538356,
          "continent": "Oceania",
          "high_blood_pressure": 0.28127768246459267,
          "high_blood_sugar": 0.21355358101237565,
          "obesity": 0.20882666051975274,
          "smoking": 0.23951827805074047,
          "year": 2013
         },
         {
          "air_pollution_outdoor_&_indoor": 0.0544628634461343,
          "continent": "Oceania",
          "high_blood_pressure": 0.2823869158161804,
          "high_blood_sugar": 0.21423181315120762,
          "obesity": 0.2105569391541751,
          "smoking": 0.23836146843230246,
          "year": 2014
         },
         {
          "air_pollution_outdoor_&_indoor": 0.053638744942849884,
          "continent": "Oceania",
          "high_blood_pressure": 0.28330600921098603,
          "high_blood_sugar": 0.21519059165791776,
          "obesity": 0.21173094208833163,
          "smoking": 0.23613371209991463,
          "year": 2015
         },
         {
          "air_pollution_outdoor_&_indoor": 0.05046459488757712,
          "continent": "Oceania",
          "high_blood_pressure": 0.28561646224752457,
          "high_blood_sugar": 0.2167011775956438,
          "obesity": 0.21306789531226009,
          "smoking": 0.23414986995699422,
          "year": 2016
         },
         {
          "air_pollution_outdoor_&_indoor": 0.05062931301948341,
          "continent": "Oceania",
          "high_blood_pressure": 0.28572854677229237,
          "high_blood_sugar": 0.21672114205171011,
          "obesity": 0.21318961598315864,
          "smoking": 0.23373138217335535,
          "year": 2017
         }
        ]
       },
       "encoding": {
        "color": {
         "condition": {
          "field": "continent",
          "selection": "selector001",
          "type": "nominal"
         },
         "value": "grey"
        },
        "opacity": {
         "condition": {
          "selection": "selector001",
          "value": 0.9
         },
         "value": 0.2
        },
        "tooltip": [
         {
          "field": "year",
          "type": "nominal"
         },
         {
          "field": "continent",
          "type": "nominal"
         },
         {
          "field": "high_blood_pressure",
          "format": ".2%",
          "title": "percentage of death",
          "type": "quantitative"
         }
        ],
        "x": {
         "axis": {
          "labelAngle": 45
         },
         "field": "year",
         "type": "nominal"
        },
        "y": {
         "axis": {
          "format": "%"
         },
         "field": "high_blood_pressure",
         "title": "Percentage of death over total death",
         "type": "quantitative"
        }
       },
       "height": 350,
       "mark": {
        "point": true,
        "type": "line"
       },
       "selection": {
        "selector001": {
         "type": "single"
        }
       },
       "title": "Trend of death due to high blood pressure over time , 1990 - 2017",
       "width": 800
      },
      "image/png": "[encoded data removed]",
      "text/plain": [
       "<VegaLite 3 object>\n",
       "\n",
       "If you see this message, it means the renderer has not been properly enabled\n",
       "for the frontend that you are using. For more information, see\n",
       "https://altair-viz.github.io/user_guide/troubleshooting.html\n"
      ]
     },
     "execution_count": 7,
     "metadata": {},
     "output_type": "execute_result"
    }
   ],
   "source": [
    "line_graph(\"high_blood_pressure\")"
   ]
  },
  {
   "cell_type": "code",
   "execution_count": 22,
   "metadata": {},
   "outputs": [
    {
     "data": {
      "application/vnd.vegalite.v3+json": {
       "$schema": "https://vega.github.io/schema/vega-lite/v3.4.0.json",
       "config": {
        "mark": {
         "tooltip": null
        },
        "view": {
         "height": 300,
         "width": 400
        }
       },
       "data": {
        "name": "data-9f5b26a249f9a140336262dc8201e3b9"
       },
       "datasets": {
        "data-9f5b26a249f9a140336262dc8201e3b9": [
         {
          "air_pollution_outdoor_&_indoor": 0.3373310415571199,
          "continent": "Africa",
          "high_blood_pressure": 0.27331130254838004,
          "high_blood_sugar": 0.17235841693219406,
          "obesity": 0.09466282726277149,
          "smoking": 0.12233641169953462,
          "year": 1990
         },
         {
          "air_pollution_outdoor_&_indoor": 0.3328563381889227,
          "continent": "Africa",
          "high_blood_pressure": 0.27390557247840236,
          "high_blood_sugar": 0.174028000444522,
          "obesity": 0.09654388757549481,
          "smoking": 0.12266620131265818,
          "year": 1991
         },
         {
          "air_pollution_outdoor_&_indoor": 0.32840225779369675,
          "continent": "Africa",
          "high_blood_pressure": 0.274463036226724,
          "high_blood_sugar": 0.17578137905516986,
          "obesity": 0.09848654454163315,
          "smoking": 0.12286678238277629,
          "year": 1992
         },
         {
          "air_pollution_outdoor_&_indoor": 0.32346005564983243,
          "continent": "Africa",
          "high_blood_pressure": 0.2752720123123606,
          "high_blood_sugar": 0.17755214774819864,
          "obesity": 0.10067605844048519,
          "smoking": 0.12303972584912308,
          "year": 1993
         },
         {
          "air_pollution_outdoor_&_indoor": 0.3182512589125347,
          "continent": "Africa",
          "high_blood_pressure": 0.2758180469125028,
          "high_blood_sugar": 0.17932246803672325,
          "obesity": 0.10321419614045668,
          "smoking": 0.12339402999778254,
          "year": 1994
         },
         {
          "air_pollution_outdoor_&_indoor": 0.3144937308648364,
          "continent": "Africa",
          "high_blood_pressure": 0.27618529808354414,
          "high_blood_sugar": 0.1808758310894056,
          "obesity": 0.10477242202044698,
          "smoking": 0.12367271794176687,
          "year": 1995
         },
         {
          "air_pollution_outdoor_&_indoor": 0.3086660803689125,
          "continent": "Africa",
          "high_blood_pressure": 0.27729157593653475,
          "high_blood_sugar": 0.1825433564265587,
          "obesity": 0.10786240906076947,
          "smoking": 0.12363657820722457,
          "year": 1996
         },
         {
          "air_pollution_outdoor_&_indoor": 0.3023554266879859,
          "continent": "Africa",
          "high_blood_pressure": 0.27816595198054345,
          "high_blood_sugar": 0.18420779345103686,
          "obesity": 0.11142995783161812,
          "smoking": 0.12384087004881567,
          "year": 1997
         },
         {
          "air_pollution_outdoor_&_indoor": 0.29803924509810753,
          "continent": "Africa",
          "high_blood_pressure": 0.2784893488967813,
          "high_blood_sugar": 0.18569187768618228,
          "obesity": 0.11407493861472681,
          "smoking": 0.12370458970420208,
          "year": 1998
         },
         {
          "air_pollution_outdoor_&_indoor": 0.29353764208540417,
          "continent": "Africa",
          "high_blood_pressure": 0.2790665795367146,
          "high_blood_sugar": 0.18718081490755636,
          "obesity": 0.11685101630493179,
          "smoking": 0.12336394716539312,
          "year": 1999
         },
         {
          "air_pollution_outdoor_&_indoor": 0.2889626634874789,
          "continent": "Africa",
          "high_blood_pressure": 0.27960065607982,
          "high_blood_sugar": 0.18870028665948793,
          "obesity": 0.11916431468464427,
          "smoking": 0.12357207908856889,
          "year": 2000
         },
         {
          "air_pollution_outdoor_&_indoor": 0.28466733091491286,
          "continent": "Africa",
          "high_blood_pressure": 0.2803249520522331,
          "high_blood_sugar": 0.19042918644865936,
          "obesity": 0.12154516976196128,
          "smoking": 0.12303336082223346,
          "year": 2001
         },
         {
          "air_pollution_outdoor_&_indoor": 0.2796444810673309,
          "continent": "Africa",
          "high_blood_pressure": 0.2811978919138928,
          "high_blood_sugar": 0.19270680579569308,
          "obesity": 0.12371571013646947,
          "smoking": 0.12273511108661368,
          "year": 2002
         },
         {
          "air_pollution_outdoor_&_indoor": 0.27437400359375613,
          "continent": "Africa",
          "high_blood_pressure": 0.28219539287913203,
          "high_blood_sugar": 0.19524326996941305,
          "obesity": 0.12575074576907116,
          "smoking": 0.12243658778862769,
          "year": 2003
         },
         {
          "air_pollution_outdoor_&_indoor": 0.2697248486114005,
          "continent": "Africa",
          "high_blood_pressure": 0.2832840697845361,
          "high_blood_sugar": 0.19772995580777578,
          "obesity": 0.12747536886029776,
          "smoking": 0.12178575693599006,
          "year": 2004
         },
         {
          "air_pollution_outdoor_&_indoor": 0.26468254323536355,
          "continent": "Africa",
          "high_blood_pressure": 0.2846990577664715,
          "high_blood_sugar": 0.20023790280856474,
          "obesity": 0.12932948730815727,
          "smoking": 0.12105100888144286,
          "year": 2005
         },
         {
          "air_pollution_outdoor_&_indoor": 0.26092500967840004,
          "continent": "Africa",
          "high_blood_pressure": 0.2855429235430927,
          "high_blood_sugar": 0.20237064045984396,
          "obesity": 0.13077937886958804,
          "smoking": 0.12038204744907531,
          "year": 2006
         },
         {
          "air_pollution_outdoor_&_indoor": 0.2571331042162424,
          "continent": "Africa",
          "high_blood_pressure": 0.28682989096735784,
          "high_blood_sugar": 0.20491373572749397,
          "obesity": 0.13193013261281725,
          "smoking": 0.11919313647608841,
          "year": 2007
         },
         {
          "air_pollution_outdoor_&_indoor": 0.2511095627472789,
          "continent": "Africa",
          "high_blood_pressure": 0.2889288563112438,
          "high_blood_sugar": 0.2078044695596453,
          "obesity": 0.13386881209993856,
          "smoking": 0.11828829928189337,
          "year": 2008
         },
         {
          "air_pollution_outdoor_&_indoor": 0.2455035278805505,
          "continent": "Africa",
          "high_blood_pressure": 0.29079652802287276,
          "high_blood_sugar": 0.21031857296148068,
          "obesity": 0.13608935294551663,
          "smoking": 0.11729201818957939,
          "year": 2009
         },
         {
          "air_pollution_outdoor_&_indoor": 0.24018300870959208,
          "continent": "Africa",
          "high_blood_pressure": 0.29273644686968775,
          "high_blood_sugar": 0.21267397229009113,
          "obesity": 0.13817651373052622,
          "smoking": 0.11623005840010289,
          "year": 2010
         },
         {
          "air_pollution_outdoor_&_indoor": 0.2355860498532508,
          "continent": "Africa",
          "high_blood_pressure": 0.2946030818824542,
          "high_blood_sugar": 0.21444251281766682,
          "obesity": 0.13976517542519729,
          "smoking": 0.11560318002143086,
          "year": 2011
         },
         {
          "air_pollution_outdoor_&_indoor": 0.23163612408537457,
          "continent": "Africa",
          "high_blood_pressure": 0.2960396002058258,
          "high_blood_sugar": 0.21618960559509376,
          "obesity": 0.1417985253000079,
          "smoking": 0.11433614481369797,
          "year": 2012
         },
         {
          "air_pollution_outdoor_&_indoor": 0.22753499790038345,
          "continent": "Africa",
          "high_blood_pressure": 0.29738711034783305,
          "high_blood_sugar": 0.21816593686607022,
          "obesity": 0.14348817827384366,
          "smoking": 0.11342377661186974,
          "year": 2013
         },
         {
          "air_pollution_outdoor_&_indoor": 0.22349088100859824,
          "continent": "Africa",
          "high_blood_pressure": 0.2987373744018525,
          "high_blood_sugar": 0.2199332552010233,
          "obesity": 0.14565361455418183,
          "smoking": 0.11218487483434421,
          "year": 2014
         },
         {
          "air_pollution_outdoor_&_indoor": 0.22158507185934986,
          "continent": "Africa",
          "high_blood_pressure": 0.29894992083426547,
          "high_blood_sugar": 0.22097448685558688,
          "obesity": 0.14762311375603812,
          "smoking": 0.1108674066947597,
          "year": 2015
         },
         {
          "air_pollution_outdoor_&_indoor": 0.21773895513476305,
          "continent": "Africa",
          "high_blood_pressure": 0.3001117318923785,
          "high_blood_sugar": 0.2224516212719305,
          "obesity": 0.14967947114675373,
          "smoking": 0.11001822055417436,
          "year": 2016
         },
         {
          "air_pollution_outdoor_&_indoor": 0.21399734360091058,
          "continent": "Africa",
          "high_blood_pressure": 0.301600952526598,
          "high_blood_sugar": 0.2234883486932702,
          "obesity": 0.15156167587752042,
          "smoking": 0.10935167930170075,
          "year": 2017
         },
         {
          "air_pollution_outdoor_&_indoor": 0.09526928644936306,
          "continent": "Americas",
          "high_blood_pressure": 0.2874068427450754,
          "high_blood_sugar": 0.16750747748497596,
          "obesity": 0.14794971558936051,
          "smoking": 0.30186667773122505,
          "year": 1990
         },
         {
          "air_pollution_outdoor_&_indoor": 0.09536620153561554,
          "continent": "Americas",
          "high_blood_pressure": 0.2881009225050778,
          "high_blood_sugar": 0.16776808684213362,
          "obesity": 0.1510295146801366,
          "smoking": 0.2977352744370365,
          "year": 1991
         },
         {
          "air_pollution_outdoor_&_indoor": 0.09569953836228656,
          "continent": "Americas",
          "high_blood_pressure": 0.28785510846575835,
          "high_blood_sugar": 0.16887016857503012,
          "obesity": 0.15416959817095505,
          "smoking": 0.29340558642597003,
          "year": 1992
         },
         {
          "air_pollution_outdoor_&_indoor": 0.09531886543042903,
          "continent": "Americas",
          "high_blood_pressure": 0.2881576122922603,
          "high_blood_sugar": 0.16983928131859669,
          "obesity": 0.15740927259256066,
          "smoking": 0.2892749683661534,
          "year": 1993
         },
         {
          "air_pollution_outdoor_&_indoor": 0.09478928492738738,
          "continent": "Americas",
          "high_blood_pressure": 0.28799036697902736,
          "high_blood_sugar": 0.17129471793619525,
          "obesity": 0.16076941203678005,
          "smoking": 0.2851562181206099,
          "year": 1994
         },
         {
          "air_pollution_outdoor_&_indoor": 0.09386846537097371,
          "continent": "Americas",
          "high_blood_pressure": 0.28742222557790215,
          "high_blood_sugar": 0.17320260093267492,
          "obesity": 0.16400382864678845,
          "smoking": 0.2815028794716608,
          "year": 1995
         },
         {
          "air_pollution_outdoor_&_indoor": 0.09370998797182338,
          "continent": "Americas",
          "high_blood_pressure": 0.2863225308869248,
          "high_blood_sugar": 0.17526140106177115,
          "obesity": 0.16703392147171325,
          "smoking": 0.27767215860776734,
          "year": 1996
         },
         {
          "air_pollution_outdoor_&_indoor": 0.09353921357380075,
          "continent": "Americas",
          "high_blood_pressure": 0.28474597844685656,
          "high_blood_sugar": 0.17785860045127994,
          "obesity": 0.17011266328802976,
          "smoking": 0.27374354424003305,
          "year": 1997
         },
         {
          "air_pollution_outdoor_&_indoor": 0.09304181235056244,
          "continent": "Americas",
          "high_blood_pressure": 0.28354746724113045,
          "high_blood_sugar": 0.18087530271732152,
          "obesity": 0.1731238398379711,
          "smoking": 0.26941157785301445,
          "year": 1998
         },
         {
          "air_pollution_outdoor_&_indoor": 0.09206446847303994,
          "continent": "Americas",
          "high_blood_pressure": 0.28249935293483575,
          "high_blood_sugar": 0.1837278735992663,
          "obesity": 0.17625948124829938,
          "smoking": 0.26544882374455864,
          "year": 1999
         },
         {
          "air_pollution_outdoor_&_indoor": 0.09104244368149565,
          "continent": "Americas",
          "high_blood_pressure": 0.28091773010497373,
          "high_blood_sugar": 0.18631819283358683,
          "obesity": 0.17946949175492458,
          "smoking": 0.2622521416250191,
          "year": 2000
         },
         {
          "air_pollution_outdoor_&_indoor": 0.0908772506673501,
          "continent": "Americas",
          "high_blood_pressure": 0.27892893615082237,
          "high_blood_sugar": 0.18909053034311982,
          "obesity": 0.18220924562366445,
          "smoking": 0.2588940372150433,
          "year": 2001
         },
         {
          "air_pollution_outdoor_&_indoor": 0.09071965989694701,
          "continent": "Americas",
          "high_blood_pressure": 0.2762075096767126,
          "high_blood_sugar": 0.19257875932583754,
          "obesity": 0.18501137120900749,
          "smoking": 0.25548269989149536,
          "year": 2002
         },
         {
          "air_pollution_outdoor_&_indoor": 0.09052425302620185,
          "continent": "Americas",
          "high_blood_pressure": 0.2735367959722954,
          "high_blood_sugar": 0.19624181252478434,
          "obesity": 0.18773444374795176,
          "smoking": 0.2519626947287666,
          "year": 2003
         },
         {
          "air_pollution_outdoor_&_indoor": 0.0901941548914387,
          "continent": "Americas",
          "high_blood_pressure": 0.2707586868166718,
          "high_blood_sugar": 0.19962140900723746,
          "obesity": 0.19034690364920903,
          "smoking": 0.24907884563544297,
          "year": 2004
         },
         {
          "air_pollution_outdoor_&_indoor": 0.08932543852542965,
          "continent": "Americas",
          "high_blood_pressure": 0.26852185604173706,
          "high_blood_sugar": 0.20321035547333302,
          "obesity": 0.19291571423096196,
          "smoking": 0.24602663572853833,
          "year": 2005
         },
         {
          "air_pollution_outdoor_&_indoor": 0.08913766707913648,
          "continent": "Americas",
          "high_blood_pressure": 0.2665862362818737,
          "high_blood_sugar": 0.20679479944466875,
          "obesity": 0.19494925048722342,
          "smoking": 0.24253204670709766,
          "year": 2006
         },
         {
          "air_pollution_outdoor_&_indoor": 0.08862910945609277,
          "continent": "Americas",
          "high_blood_pressure": 0.2644461804300802,
          "high_blood_sugar": 0.21177429908827963,
          "obesity": 0.19668354915706884,
          "smoking": 0.2384668618684785,
          "year": 2007
         },
         {
          "air_pollution_outdoor_&_indoor": 0.088099350706678,
          "continent": "Americas",
          "high_blood_pressure": 0.2623690219848266,
          "high_blood_sugar": 0.21722036518481191,
          "obesity": 0.19863225044754132,
          "smoking": 0.23367901167614205,
          "year": 2008
         },
         {
          "air_pollution_outdoor_&_indoor": 0.08771855505580337,
          "continent": "Americas",
          "high_blood_pressure": 0.2607948594562861,
          "high_blood_sugar": 0.2217402477496559,
          "obesity": 0.20070084815181435,
          "smoking": 0.22904548958644028,
          "year": 2009
         },
         {
          "air_pollution_outdoor_&_indoor": 0.08705922192454119,
          "continent": "Americas",
          "high_blood_pressure": 0.2609655696168854,
          "high_blood_sugar": 0.22439146766563003,
          "obesity": 0.20239061676161157,
          "smoking": 0.2251931240313318,
          "year": 2010
         },
         {
          "air_pollution_outdoor_&_indoor": 0.08785933459922123,
          "continent": "Americas",
          "high_blood_pressure": 0.2609410835186122,
          "high_blood_sugar": 0.22530985010796042,
          "obesity": 0.2040072795868399,
          "smoking": 0.22188245218736619,
          "year": 2011
         },
         {
          "air_pollution_outdoor_&_indoor": 0.08540951971724497,
          "continent": "Americas",
          "high_blood_pressure": 0.26176806684179743,
          "high_blood_sugar": 0.22737234702436418,
          "obesity": 0.20645607494258045,
          "smoking": 0.21899399147401297,
          "year": 2012
         },
         {
          "air_pollution_outdoor_&_indoor": 0.08411910155637284,
          "continent": "Americas",
          "high_blood_pressure": 0.2624634896141359,
          "high_blood_sugar": 0.229361977508912,
          "obesity": 0.20858126544444802,
          "smoking": 0.21547416587613138,
          "year": 2013
         },
         {
          "air_pollution_outdoor_&_indoor": 0.08178553224344642,
          "continent": "Americas",
          "high_blood_pressure": 0.2637814422084118,
          "high_blood_sugar": 0.23167688735803346,
          "obesity": 0.2109269191538894,
          "smoking": 0.21182921903621899,
          "year": 2014
         },
         {
          "air_pollution_outdoor_&_indoor": 0.08073202331376356,
          "continent": "Americas",
          "high_blood_pressure": 0.2649358643339406,
          "high_blood_sugar": 0.2332380100851255,
          "obesity": 0.21277805236582767,
          "smoking": 0.20831604990134267,
          "year": 2015
         },
         {
          "air_pollution_outdoor_&_indoor": 0.07772605954570039,
          "continent": "Americas",
          "high_blood_pressure": 0.2660369024970901,
          "high_blood_sugar": 0.2354455162334824,
          "obesity": 0.21525014648516744,
          "smoking": 0.20554137523855978,
          "year": 2016
         },
         {
          "air_pollution_outdoor_&_indoor": 0.07763791239320321,
          "continent": "Americas",
          "high_blood_pressure": 0.2670726488387847,
          "high_blood_sugar": 0.2362781848294865,
          "obesity": 0.216788205020676,
          "smoking": 0.2022230489178497,
          "year": 2017
         },
         {
          "air_pollution_outdoor_&_indoor": 0.2908289944260537,
          "continent": "Asia",
          "high_blood_pressure": 0.2741019228267129,
          "high_blood_sugar": 0.12760439753784572,
          "obesity": 0.05193316613385221,
          "smoking": 0.2555315190755354,
          "year": 1990
         },
         {
          "air_pollution_outdoor_&_indoor": 0.28612042886138733,
          "continent": "Asia",
          "high_blood_pressure": 0.2744777269716014,
          "high_blood_sugar": 0.12884555245478738,
          "obesity": 0.05284739709578806,
          "smoking": 0.25770889461643587,
          "year": 1991
         },
         {
          "air_pollution_outdoor_&_indoor": 0.2810258067542582,
          "continent": "Asia",
          "high_blood_pressure": 0.2749958103223193,
          "high_blood_sugar": 0.1306835830270238,
          "obesity": 0.05401426610274817,
          "smoking": 0.25928053379365057,
          "year": 1992
         },
         {
          "air_pollution_outdoor_&_indoor": 0.27567356437387874,
          "continent": "Asia",
          "high_blood_pressure": 0.27537299329034465,
          "high_blood_sugar": 0.1323212831827146,
          "obesity": 0.05532131450708951,
          "smoking": 0.26131084464597254,
          "year": 1993
         },
         {
          "air_pollution_outdoor_&_indoor": 0.27074442483127215,
          "continent": "Asia",
          "high_blood_pressure": 0.27581047614454557,
          "high_blood_sugar": 0.13400452874338067,
          "obesity": 0.05669025868759719,
          "smoking": 0.2627503115932045,
          "year": 1994
         },
         {
          "air_pollution_outdoor_&_indoor": 0.2650945845054573,
          "continent": "Asia",
          "high_blood_pressure": 0.27661681231194074,
          "high_blood_sugar": 0.13570437968589272,
          "obesity": 0.058285353049682534,
          "smoking": 0.26429887044702666,
          "year": 1995
         },
         {
          "air_pollution_outdoor_&_indoor": 0.2598111582685927,
          "continent": "Asia",
          "high_blood_pressure": 0.2776058812866141,
          "high_blood_sugar": 0.13742800064745955,
          "obesity": 0.05997606412300174,
          "smoking": 0.2651788956743317,
          "year": 1996
         },
         {
          "air_pollution_outdoor_&_indoor": 0.2548773209095518,
          "continent": "Asia",
          "high_blood_pressure": 0.2788204347031578,
          "high_blood_sugar": 0.1395138178586705,
          "obesity": 0.06163177563639666,
          "smoking": 0.2651566508922231,
          "year": 1997
         },
         {
          "air_pollution_outdoor_&_indoor": 0.24986364886187745,
          "continent": "Asia",
          "high_blood_pressure": 0.27985601667940974,
          "high_blood_sugar": 0.14107314961155198,
          "obesity": 0.06353265845476938,
          "smoking": 0.26567452639239136,
          "year": 1998
         },
         {
          "air_pollution_outdoor_&_indoor": 0.2438701993432019,
          "continent": "Asia",
          "high_blood_pressure": 0.2816210521107163,
          "high_blood_sugar": 0.14303323336095297,
          "obesity": 0.06595087837102573,
          "smoking": 0.26552463681410293,
          "year": 1999
         },
         {
          "air_pollution_outdoor_&_indoor": 0.2381320486678206,
          "continent": "Asia",
          "high_blood_pressure": 0.2837143628682011,
          "high_blood_sugar": 0.14544546179086312,
          "obesity": 0.06784982998061587,
          "smoking": 0.26485829669249933,
          "year": 2000
         },
         {
          "air_pollution_outdoor_&_indoor": 0.2329597693434888,
          "continent": "Asia",
          "high_blood_pressure": 0.28537250784029844,
          "high_blood_sugar": 0.14900696817885628,
          "obesity": 0.06938246814530094,
          "smoking": 0.2632782864920556,
          "year": 2001
         },
         {
          "air_pollution_outdoor_&_indoor": 0.22742750613016763,
          "continent": "Asia",
          "high_blood_pressure": 0.2867528952035088,
          "high_blood_sugar": 0.15395932630348322,
          "obesity": 0.07137838846093739,
          "smoking": 0.26048188390190286,
          "year": 2002
         },
         {
          "air_pollution_outdoor_&_indoor": 0.2218601432945458,
          "continent": "Asia",
          "high_blood_pressure": 0.2877965008750882,
          "high_blood_sugar": 0.15921132455674963,
          "obesity": 0.07322115379081134,
          "smoking": 0.25791087748280506,
          "year": 2003
         },
         {
          "air_pollution_outdoor_&_indoor": 0.216875340268237,
          "continent": "Asia",
          "high_blood_pressure": 0.28873458231767135,
          "high_blood_sugar": 0.1639526698779179,
          "obesity": 0.07553654961291605,
          "smoking": 0.25490085792325784,
          "year": 2004
         },
         {
          "air_pollution_outdoor_&_indoor": 0.2124089799065942,
          "continent": "Asia",
          "high_blood_pressure": 0.2907869309061422,
          "high_blood_sugar": 0.1677818972183625,
          "obesity": 0.07791182605365567,
          "smoking": 0.2511103659152455,
          "year": 2005
         },
         {
          "air_pollution_outdoor_&_indoor": 0.2093220108910686,
          "continent": "Asia",
          "high_blood_pressure": 0.2929863176710934,
          "high_blood_sugar": 0.1690366968400243,
          "obesity": 0.08061715805653337,
          "smoking": 0.24803781654128035,
          "year": 2006
         },
         {
          "air_pollution_outdoor_&_indoor": 0.20658480603923787,
          "continent": "Asia",
          "high_blood_pressure": 0.29539782418606464,
          "high_blood_sugar": 0.16855065053705712,
          "obesity": 0.08363982116351687,
          "smoking": 0.24582689807412345,
          "year": 2007
         },
         {
          "air_pollution_outdoor_&_indoor": 0.20378598843263568,
          "continent": "Asia",
          "high_blood_pressure": 0.29878175165891274,
          "high_blood_sugar": 0.1675144891402578,
          "obesity": 0.08673377708814231,
          "smoking": 0.24318399368005145,
          "year": 2008
         },
         {
          "air_pollution_outdoor_&_indoor": 0.20099411801364325,
          "continent": "Asia",
          "high_blood_pressure": 0.30224105496938475,
          "high_blood_sugar": 0.16622588734209187,
          "obesity": 0.08966906547392768,
          "smoking": 0.24086987420095254,
          "year": 2009
         },
         {
          "air_pollution_outdoor_&_indoor": 0.1981496225048081,
          "continent": "Asia",
          "high_blood_pressure": 0.30530231810718755,
          "high_blood_sugar": 0.16586686329394051,
          "obesity": 0.09223398787437914,
          "smoking": 0.23844720821968474,
          "year": 2010
         },
         {
          "air_pollution_outdoor_&_indoor": 0.1953437806534779,
          "continent": "Asia",
          "high_blood_pressure": 0.3072438868986199,
          "high_blood_sugar": 0.16672350052349727,
          "obesity": 0.09473353567454353,
          "smoking": 0.23595529624986122,
          "year": 2011
         },
         {
          "air_pollution_outdoor_&_indoor": 0.1903216091542432,
          "continent": "Asia",
          "high_blood_pressure": 0.30958408872840915,
          "high_blood_sugar": 0.1681865055138771,
          "obesity": 0.09773252476970269,
          "smoking": 0.23417527183376796,
          "year": 2012
         },
         {
          "air_pollution_outdoor_&_indoor": 0.18764757092960224,
          "continent": "Asia",
          "high_blood_pressure": 0.310577206612914,
          "high_blood_sugar": 0.16965105519306986,
          "obesity": 0.10073072725732919,
          "smoking": 0.23139344000708476,
          "year": 2013
         },
         {
          "air_pollution_outdoor_&_indoor": 0.18338608233951437,
          "continent": "Asia",
          "high_blood_pressure": 0.3120090845857975,
          "high_blood_sugar": 0.17085475711222217,
          "obesity": 0.10376788584076468,
          "smoking": 0.2299821901217013,
          "year": 2014
         },
         {
          "air_pollution_outdoor_&_indoor": 0.18076250657978463,
          "continent": "Asia",
          "high_blood_pressure": 0.3123048335464435,
          "high_blood_sugar": 0.17152421808787557,
          "obesity": 0.10631798208888542,
          "smoking": 0.22909045969701095,
          "year": 2015
         },
         {
          "air_pollution_outdoor_&_indoor": 0.17629762895577453,
          "continent": "Asia",
          "high_blood_pressure": 0.31314980575036566,
          "high_blood_sugar": 0.17305186379436632,
          "obesity": 0.10881422365262747,
          "smoking": 0.22868647784686608,
          "year": 2016
         },
         {
          "air_pollution_outdoor_&_indoor": 0.17486099196916155,
          "continent": "Asia",
          "high_blood_pressure": 0.3130966444877381,
          "high_blood_sugar": 0.1740874159615357,
          "obesity": 0.1104314602522911,
          "smoking": 0.22752348732927355,
          "year": 2017
         },
         {
          "air_pollution_outdoor_&_indoor": 0.08429498157638676,
          "continent": "Europe",
          "high_blood_pressure": 0.34109266496959323,
          "high_blood_sugar": 0.17461745778226243,
          "obesity": 0.12753311520813196,
          "smoking": 0.27246178046362574,
          "year": 1990
         },
         {
          "air_pollution_outdoor_&_indoor": 0.08382170237022286,
          "continent": "Europe",
          "high_blood_pressure": 0.3393717476912988,
          "high_blood_sugar": 0.17565218757466025,
          "obesity": 0.12944472479002536,
          "smoking": 0.27170963757379274,
          "year": 1991
         },
         {
          "air_pollution_outdoor_&_indoor": 0.08343017174387612,
          "continent": "Europe",
          "high_blood_pressure": 0.33786298943497783,
          "high_blood_sugar": 0.17632223827587049,
          "obesity": 0.13142608149576432,
          "smoking": 0.27095851904951135,
          "year": 1992
         },
         {
          "air_pollution_outdoor_&_indoor": 0.08295812179104758,
          "continent": "Europe",
          "high_blood_pressure": 0.3364809333640948,
          "high_blood_sugar": 0.17750362129879516,
          "obesity": 0.13308955217812482,
          "smoking": 0.26996777136793754,
          "year": 1993
         },
         {
          "air_pollution_outdoor_&_indoor": 0.08258949957086432,
          "continent": "Europe",
          "high_blood_pressure": 0.33477455776987936,
          "high_blood_sugar": 0.17849639479478596,
          "obesity": 0.1350163943614739,
          "smoking": 0.26912315350299654,
          "year": 1994
         },
         {
          "air_pollution_outdoor_&_indoor": 0.0821772437647967,
          "continent": "Europe",
          "high_blood_pressure": 0.3336888920944631,
          "high_blood_sugar": 0.17962850746672782,
          "obesity": 0.1366714238884983,
          "smoking": 0.2678339327855141,
          "year": 1995
         },
         {
          "air_pollution_outdoor_&_indoor": 0.08199460335283766,
          "continent": "Europe",
          "high_blood_pressure": 0.33227465896066155,
          "high_blood_sugar": 0.18127575727573486,
          "obesity": 0.13850878314271886,
          "smoking": 0.26594619726804714,
          "year": 1996
         },
         {
          "air_pollution_outdoor_&_indoor": 0.08174936702820831,
          "continent": "Europe",
          "high_blood_pressure": 0.3300692110573565,
          "high_blood_sugar": 0.18335918897835707,
          "obesity": 0.14068740446710723,
          "smoking": 0.2641348284689709,
          "year": 1997
         },
         {
          "air_pollution_outdoor_&_indoor": 0.08121701512456075,
          "continent": "Europe",
          "high_blood_pressure": 0.3276659753021816,
          "high_blood_sugar": 0.18602389342957376,
          "obesity": 0.1425665812702236,
          "smoking": 0.26252653487346017,
          "year": 1998
         },
         {
          "air_pollution_outdoor_&_indoor": 0.08076068896817634,
          "continent": "Europe",
          "high_blood_pressure": 0.3250900013598226,
          "high_blood_sugar": 0.188672353717053,
          "obesity": 0.1444590984096809,
          "smoking": 0.26101785754526713,
          "year": 1999
         },
         {
          "air_pollution_outdoor_&_indoor": 0.08004320683212261,
          "continent": "Europe",
          "high_blood_pressure": 0.32326848309926104,
          "high_blood_sugar": 0.19101789422726467,
          "obesity": 0.14600513661342135,
          "smoking": 0.25966527922793037,
          "year": 2000
         },
         {
          "air_pollution_outdoor_&_indoor": 0.07972373947327292,
          "continent": "Europe",
          "high_blood_pressure": 0.32133328107771103,
          "high_blood_sugar": 0.1926298292731736,
          "obesity": 0.1475943982461238,
          "smoking": 0.25871875192971866,
          "year": 2001
         },
         {
          "air_pollution_outdoor_&_indoor": 0.07966576925468664,
          "continent": "Europe",
          "high_blood_pressure": 0.31984324724980473,
          "high_blood_sugar": 0.19431454086683397,
          "obesity": 0.1491246715475204,
          "smoking": 0.25705177108115423,
          "year": 2002
         },
         {
          "air_pollution_outdoor_&_indoor": 0.0797267005573093,
          "continent": "Europe",
          "high_blood_pressure": 0.3176670516004394,
          "high_blood_sugar": 0.19573612877881733,
          "obesity": 0.15075764697282643,
          "smoking": 0.2561124720906076,
          "year": 2003
         },
         {
          "air_pollution_outdoor_&_indoor": 0.07954494693127559,
          "continent": "Europe",
          "high_blood_pressure": 0.31502005712078757,
          "high_blood_sugar": 0.19654526664214306,
          "obesity": 0.15265574175739868,
          "smoking": 0.2562339875483951,
          "year": 2004
         },
         {
          "air_pollution_outdoor_&_indoor": 0.07952087662898524,
          "continent": "Europe",
          "high_blood_pressure": 0.3130399894965256,
          "high_blood_sugar": 0.19790473867459774,
          "obesity": 0.1540387288406312,
          "smoking": 0.25549566635926013,
          "year": 2005
         },
         {
          "air_pollution_outdoor_&_indoor": 0.07961007122344414,
          "continent": "Europe",
          "high_blood_pressure": 0.31051771628040875,
          "high_blood_sugar": 0.19972116159827052,
          "obesity": 0.1552233302380635,
          "smoking": 0.2549277206598132,
          "year": 2006
         },
         {
          "air_pollution_outdoor_&_indoor": 0.07969922349649129,
          "continent": "Europe",
          "high_blood_pressure": 0.3080915330512939,
          "high_blood_sugar": 0.20236467971129452,
          "obesity": 0.15629114635455063,
          "smoking": 0.2535534173863698,
          "year": 2007
         },
         {
          "air_pollution_outdoor_&_indoor": 0.07978357107266912,
          "continent": "Europe",
          "high_blood_pressure": 0.3057730643947042,
          "high_blood_sugar": 0.2051788158514036,
          "obesity": 0.15732832872988284,
          "smoking": 0.2519362199513402,
          "year": 2008
         },
         {
          "air_pollution_outdoor_&_indoor": 0.07996846465289226,
          "continent": "Europe",
          "high_blood_pressure": 0.3037879902019111,
          "high_blood_sugar": 0.20752647332773727,
          "obesity": 0.15837136382608444,
          "smoking": 0.2503457079913748,
          "year": 2009
         },
         {
          "air_pollution_outdoor_&_indoor": 0.07982755071800618,
          "continent": "Europe",
          "high_blood_pressure": 0.30260199419795064,
          "high_blood_sugar": 0.20933271923489294,
          "obesity": 0.159286033341545,
          "smoking": 0.24895170250760523,
          "year": 2010
         },
         {
          "air_pollution_outdoor_&_indoor": 0.08001182219457524,
          "continent": "Europe",
          "high_blood_pressure": 0.30171130730001616,
          "high_blood_sugar": 0.21130928540052227,
          "obesity": 0.15986122981457168,
          "smoking": 0.24710635529031472,
          "year": 2011
         },
         {
          "air_pollution_outdoor_&_indoor": 0.07781720818852092,
          "continent": "Europe",
          "high_blood_pressure": 0.30173085039439385,
          "high_blood_sugar": 0.21368373069565014,
          "obesity": 0.16087157805995783,
          "smoking": 0.24589663266147735,
          "year": 2012
         },
         {
          "air_pollution_outdoor_&_indoor": 0.07691023450964846,
          "continent": "Europe",
          "high_blood_pressure": 0.3011643722959601,
          "high_blood_sugar": 0.2154924166442887,
          "obesity": 0.16190152625147547,
          "smoking": 0.24453145029862727,
          "year": 2013
         },
         {
          "air_pollution_outdoor_&_indoor": 0.07579933084644909,
          "continent": "Europe",
          "high_blood_pressure": 0.30115552012175656,
          "high_blood_sugar": 0.2171796020867829,
          "obesity": 0.16309110737549629,
          "smoking": 0.2427744395695151,
          "year": 2014
         },
         {
          "air_pollution_outdoor_&_indoor": 0.0762594221585046,
          "continent": "Europe",
          "high_blood_pressure": 0.3010051818484714,
          "high_blood_sugar": 0.21934715496782686,
          "obesity": 0.1634861448841513,
          "smoking": 0.2399020961410457,
          "year": 2015
         },
         {
          "air_pollution_outdoor_&_indoor": 0.07411861824835007,
          "continent": "Europe",
          "high_blood_pressure": 0.30182369061246755,
          "high_blood_sugar": 0.22167771525763252,
          "obesity": 0.16443039162378284,
          "smoking": 0.23794958425776694,
          "year": 2016
         },
         {
          "air_pollution_outdoor_&_indoor": 0.07409463775394105,
          "continent": "Europe",
          "high_blood_pressure": 0.3021293120396331,
          "high_blood_sugar": 0.22296519840949375,
          "obesity": 0.16484693462591402,
          "smoking": 0.23596391717101814,
          "year": 2017
         },
         {
          "air_pollution_outdoor_&_indoor": 0.05756460170388016,
          "continent": "Oceania",
          "high_blood_pressure": 0.3269907367609295,
          "high_blood_sugar": 0.17135550342316794,
          "obesity": 0.13461997942635254,
          "smoking": 0.30946917868566987,
          "year": 1990
         },
         {
          "air_pollution_outdoor_&_indoor": 0.05877289230908779,
          "continent": "Oceania",
          "high_blood_pressure": 0.3267293309171226,
          "high_blood_sugar": 0.17041104223435882,
          "obesity": 0.1388062454970168,
          "smoking": 0.30528048904241384,
          "year": 1991
         },
         {
          "air_pollution_outdoor_&_indoor": 0.0596791456856005,
          "continent": "Oceania",
          "high_blood_pressure": 0.32697724378253823,
          "high_blood_sugar": 0.17002124354025366,
          "obesity": 0.14256455215669267,
          "smoking": 0.3007578148349149,
          "year": 1992
         },
         {
          "air_pollution_outdoor_&_indoor": 0.05996959806749423,
          "continent": "Oceania",
          "high_blood_pressure": 0.3269178098324773,
          "high_blood_sugar": 0.170335279958251,
          "obesity": 0.14639921321525431,
          "smoking": 0.2963780989265231,
          "year": 1993
         },
         {
          "air_pollution_outdoor_&_indoor": 0.06011040799198798,
          "continent": "Oceania",
          "high_blood_pressure": 0.3268573306406846,
          "high_blood_sugar": 0.17122709329765975,
          "obesity": 0.1501114980679438,
          "smoking": 0.2916936700017239,
          "year": 1994
         },
         {
          "air_pollution_outdoor_&_indoor": 0.05955258155562947,
          "continent": "Oceania",
          "high_blood_pressure": 0.32598864166726854,
          "high_blood_sugar": 0.1725089713019521,
          "obesity": 0.15388899016490779,
          "smoking": 0.288060815310242,
          "year": 1995
         },
         {
          "air_pollution_outdoor_&_indoor": 0.060965156859162865,
          "continent": "Oceania",
          "high_blood_pressure": 0.3238354019348885,
          "high_blood_sugar": 0.17391967187759844,
          "obesity": 0.15751526262943205,
          "smoking": 0.2837645066989183,
          "year": 1996
         },
         {
          "air_pollution_outdoor_&_indoor": 0.0618978935500384,
          "continent": "Oceania",
          "high_blood_pressure": 0.32182556501026055,
          "high_blood_sugar": 0.1746611701791174,
          "obesity": 0.1617935800067473,
          "smoking": 0.27982179125383644,
          "year": 1997
         },
         {
          "air_pollution_outdoor_&_indoor": 0.06211559998065527,
          "continent": "Oceania",
          "high_blood_pressure": 0.3197631318244455,
          "high_blood_sugar": 0.17573606143078718,
          "obesity": 0.16613303147434516,
          "smoking": 0.2762521752897668,
          "year": 1998
         },
         {
          "air_pollution_outdoor_&_indoor": 0.06190300411489272,
          "continent": "Oceania",
          "high_blood_pressure": 0.31785166640119245,
          "high_blood_sugar": 0.17726809076926156,
          "obesity": 0.17006352751457382,
          "smoking": 0.27291371120007957,
          "year": 1999
         },
         {
          "air_pollution_outdoor_&_indoor": 0.06097100291943371,
          "continent": "Oceania",
          "high_blood_pressure": 0.31579949894836634,
          "high_blood_sugar": 0.17932010465954173,
          "obesity": 0.1739248076508205,
          "smoking": 0.2699845858218377,
          "year": 2000
         },
         {
          "air_pollution_outdoor_&_indoor": 0.061059981667326825,
          "continent": "Oceania",
          "high_blood_pressure": 0.3126109003685074,
          "high_blood_sugar": 0.1818446234984677,
          "obesity": 0.17670970193329044,
          "smoking": 0.2677747925324076,
          "year": 2001
         },
         {
          "air_pollution_outdoor_&_indoor": 0.06098582904038552,
          "continent": "Oceania",
          "high_blood_pressure": 0.30940709667680333,
          "high_blood_sugar": 0.18480728251941705,
          "obesity": 0.17956086044198094,
          "smoking": 0.26523893132141335,
          "year": 2002
         },
         {
          "air_pollution_outdoor_&_indoor": 0.06064195649460296,
          "continent": "Oceania",
          "high_blood_pressure": 0.3049875382806837,
          "high_blood_sugar": 0.18767939309828463,
          "obesity": 0.18256429251467335,
          "smoking": 0.26412681961175527,
          "year": 2003
         },
         {
          "air_pollution_outdoor_&_indoor": 0.0600392563448623,
          "continent": "Oceania",
          "high_blood_pressure": 0.3005958346245436,
          "high_blood_sugar": 0.19059769200730756,
          "obesity": 0.18578075718323983,
          "smoking": 0.26298645984004676,
          "year": 2004
         },
         {
          "air_pollution_outdoor_&_indoor": 0.05932665816614243,
          "continent": "Oceania",
          "high_blood_pressure": 0.2964200439443119,
          "high_blood_sugar": 0.19384769752851372,
          "obesity": 0.1890532167878747,
          "smoking": 0.2613523835731572,
          "year": 2005
         },
         {
          "air_pollution_outdoor_&_indoor": 0.05934382833191006,
          "continent": "Oceania",
          "high_blood_pressure": 0.2935590651734425,
          "high_blood_sugar": 0.19809887936539974,
          "obesity": 0.1921062247723453,
          "smoking": 0.25689200235690246,
          "year": 2006
         },
         {
          "air_pollution_outdoor_&_indoor": 0.05950422020674776,
          "continent": "Oceania",
          "high_blood_pressure": 0.29056050249993254,
          "high_blood_sugar": 0.2025044871424144,
          "obesity": 0.19490500782398668,
          "smoking": 0.2525257823269185,
          "year": 2007
         },
         {
          "air_pollution_outdoor_&_indoor": 0.059524200130978956,
          "continent": "Oceania",
          "high_blood_pressure": 0.28792626927423565,
          "high_blood_sugar": 0.20699520558581916,
          "obesity": 0.19757035544984503,
          "smoking": 0.2479839695591212,
          "year": 2008
         },
         {
          "air_pollution_outdoor_&_indoor": 0.05937938544496963,
          "continent": "Oceania",
          "high_blood_pressure": 0.28501750633844297,
          "high_blood_sugar": 0.2100274084631714,
          "obesity": 0.20075505195484095,
          "smoking": 0.24482064779857518,
          "year": 2009
         },
         {
          "air_pollution_outdoor_&_indoor": 0.059278291542310305,
          "continent": "Oceania",
          "high_blood_pressure": 0.28248355381403834,
          "high_blood_sugar": 0.21165563511040517,
          "obesity": 0.20304436862268965,
          "smoking": 0.24353815091055667,
          "year": 2010
         },
         {
          "air_pollution_outdoor_&_indoor": 0.061319353516913505,
          "continent": "Oceania",
          "high_blood_pressure": 0.2812992244245652,
          "high_blood_sugar": 0.21259796187673308,
          "obesity": 0.20427210765913847,
          "smoking": 0.2405113525226497,
          "year": 2011
         },
         {
          "air_pollution_outdoor_&_indoor": 0.058701161903578006,
          "continent": "Oceania",
          "high_blood_pressure": 0.2813316614164621,
          "high_blood_sugar": 0.21357611589027478,
          "obesity": 0.20651677199585708,
          "smoking": 0.2398742887938279,
          "year": 2012
         },
         {
          "air_pollution_outdoor_&_indoor": 0.056823797952538356,
          "continent": "Oceania",
          "high_blood_pressure": 0.28127768246459267,
          "high_blood_sugar": 0.21355358101237565,
          "obesity": 0.20882666051975274,
          "smoking": 0.23951827805074047,
          "year": 2013
         },
         {
          "air_pollution_outdoor_&_indoor": 0.0544628634461343,
          "continent": "Oceania",
          "high_blood_pressure": 0.2823869158161804,
          "high_blood_sugar": 0.21423181315120762,
          "obesity": 0.2105569391541751,
          "smoking": 0.23836146843230246,
          "year": 2014
         },
         {
          "air_pollution_outdoor_&_indoor": 0.053638744942849884,
          "continent": "Oceania",
          "high_blood_pressure": 0.28330600921098603,
          "high_blood_sugar": 0.21519059165791776,
          "obesity": 0.21173094208833163,
          "smoking": 0.23613371209991463,
          "year": 2015
         },
         {
          "air_pollution_outdoor_&_indoor": 0.05046459488757712,
          "continent": "Oceania",
          "high_blood_pressure": 0.28561646224752457,
          "high_blood_sugar": 0.2167011775956438,
          "obesity": 0.21306789531226009,
          "smoking": 0.23414986995699422,
          "year": 2016
         },
         {
          "air_pollution_outdoor_&_indoor": 0.05062931301948341,
          "continent": "Oceania",
          "high_blood_pressure": 0.28572854677229237,
          "high_blood_sugar": 0.21672114205171011,
          "obesity": 0.21318961598315864,
          "smoking": 0.23373138217335535,
          "year": 2017
         }
        ]
       },
       "height": 200,
       "layer": [
        {
         "encoding": {
          "color": {
           "field": "continent",
           "title": "Continent",
           "type": "nominal"
          },
          "x": {
           "axis": {
            "labelAngle": 45
           },
           "field": "year",
           "title": "Year",
           "type": "ordinal"
          },
          "y": {
           "field": "smoking",
           "title": "smoking",
           "type": "quantitative"
          }
         },
         "mark": "line"
        },
        {
         "encoding": {
          "x": {
           "field": "year",
           "type": "ordinal"
          }
         },
         "mark": {
          "color": "#aaa",
          "type": "rule"
         },
         "transform": [
          {
           "filter": {
            "selection": "selector007"
           }
          }
         ]
        },
        {
         "encoding": {
          "color": {
           "field": "continent",
           "title": "Continent",
           "type": "nominal"
          },
          "opacity": {
           "condition": {
            "selection": "selector007",
            "value": 1
           },
           "value": 0
          },
          "x": {
           "axis": {
            "labelAngle": 45
           },
           "field": "year",
           "title": "Year",
           "type": "ordinal"
          },
          "y": {
           "field": "smoking",
           "title": "smoking",
           "type": "quantitative"
          }
         },
         "mark": "circle",
         "selection": {
          "selector007": {
           "empty": "none",
           "encodings": [
            "x"
           ],
           "nearest": true,
           "on": "mouseover",
           "type": "single"
          }
         }
        },
        {
         "encoding": {
          "color": {
           "field": "continent",
           "title": "Continent",
           "type": "nominal"
          },
          "text": {
           "field": "smoking",
           "type": "quantitative"
          },
          "x": {
           "axis": {
            "labelAngle": 45
           },
           "field": "year",
           "title": "Year",
           "type": "ordinal"
          },
          "y": {
           "field": "smoking",
           "title": "smoking",
           "type": "quantitative"
          }
         },
         "mark": {
          "align": "left",
          "dx": 5,
          "dy": -5,
          "stroke": "white",
          "strokeWidth": 2,
          "type": "text"
         },
         "transform": [
          {
           "filter": {
            "selection": "selector007"
           }
          }
         ]
        },
        {
         "encoding": {
          "color": {
           "field": "continent",
           "title": "Continent",
           "type": "nominal"
          },
          "text": {
           "field": "smoking",
           "type": "quantitative"
          },
          "x": {
           "axis": {
            "labelAngle": 45
           },
           "field": "year",
           "title": "Year",
           "type": "ordinal"
          },
          "y": {
           "field": "smoking",
           "title": "smoking",
           "type": "quantitative"
          }
         },
         "mark": {
          "align": "left",
          "dx": 5,
          "dy": -5,
          "type": "text"
         },
         "transform": [
          {
           "filter": {
            "selection": "selector007"
           }
          }
         ]
        }
       ],
       "title": "Trend of smoking over time , 1990 - 2017",
       "width": 500
      },
      "image/png": "[encoded data removed]",
      "text/plain": [
       "<VegaLite 3 object>\n",
       "\n",
       "If you see this message, it means the renderer has not been properly enabled\n",
       "for the frontend that you are using. For more information, see\n",
       "https://altair-viz.github.io/user_guide/troubleshooting.html\n"
      ]
     },
     "execution_count": 22,
     "metadata": {},
     "output_type": "execute_result"
    }
   ],
   "source": [
    "# select a point for which to provide details-on-demand\n",
    "label = alt.selection_single(\n",
    "    encodings=['x'], # limit selection to x-axis value\n",
    "    on='mouseover',  # select on mouseover events\n",
    "    nearest=True,    # select data point nearest the cursor\n",
    "    empty='none'     # empty selection includes no data points\n",
    ")\n",
    "\n",
    "# define our base line chart of stock prices\n",
    "base = alt.Chart().mark_line().encode(\n",
    "    alt.X('year:O', title = 'Year', axis=alt.Axis(labelAngle=45)),\n",
    "    alt.Y('smoking', title = 'smoking'),\n",
    "    alt.Color('continent:N', title = 'Continent'\n",
    "             )\n",
    ")\n",
    "\n",
    "alt.layer(\n",
    "    base, # base line chart\n",
    "    \n",
    "    # add a rule mark to serve as a guide line\n",
    "    alt.Chart().mark_rule(color='#aaa').encode(\n",
    "        x='year:O'\n",
    "    ).transform_filter(label),\n",
    "    \n",
    "    # add circle marks for selected time points, hide unselected points\n",
    "    base.mark_circle().encode(\n",
    "        opacity=alt.condition(label, alt.value(1), alt.value(0))\n",
    "    ).add_selection(label),\n",
    "\n",
    "    # add white stroked text to provide a legible background for labels\n",
    "    base.mark_text(align='left', dx=5, dy=-5, stroke='white', strokeWidth=2).encode(\n",
    "        text='smoking:Q'\n",
    "    ).transform_filter(label),\n",
    "\n",
    "    # add text labels for life expectancy\n",
    "    base.mark_text(align='left', dx=5, dy=-5).encode(\n",
    "        text='smoking:Q'\n",
    "    ).transform_filter(label),\n",
    "\n",
    "    # Add the data here\n",
    "    data = factors_data\n",
    ").properties(\n",
    "    width=500,\n",
    "    height=200,\n",
    "    title='Trend of smoking over time , 1990 - 2017'\n",
    ")"
   ]
  },
  {
   "cell_type": "code",
   "execution_count": null,
   "metadata": {},
   "outputs": [],
   "source": []
  }
 ],
 "metadata": {
  "kernelspec": {
   "display_name": "Python 3",
   "language": "python",
   "name": "python3"
  },
  "language_info": {
   "codemirror_mode": {
    "name": "ipython",
    "version": 3
   },
   "file_extension": ".py",
   "mimetype": "text/x-python",
   "name": "python",
   "nbconvert_exporter": "python",
   "pygments_lexer": "ipython3",
   "version": "3.6.9"
  }
 },
 "nbformat": 4,
 "nbformat_minor": 4
}
