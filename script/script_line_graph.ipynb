{
 "cells": [
  {
   "cell_type": "markdown",
   "metadata": {},
   "source": [
    "3. What's the trend of these risk factors over time for continents?"
   ]
  },
  {
   "cell_type": "code",
   "execution_count": 1,
   "metadata": {},
   "outputs": [],
   "source": [
    "import pandas as pd\n",
    "import altair as alt\n",
    "clean_data = pd.read_csv(\"../data/clean_number-of-deaths-by-risk-factor.csv\")"
   ]
  },
  {
   "cell_type": "code",
   "execution_count": 2,
   "metadata": {},
   "outputs": [],
   "source": [
    "url = 'https://raw.githubusercontent.com/STAT545-UBC/STAT545-UBC.github.io/master/gapminderDataFiveYear.txt'\n",
    "gapminder = pd.read_csv(url, delimiter=\"\\t\")\n"
   ]
  },
  {
   "cell_type": "code",
   "execution_count": 3,
   "metadata": {},
   "outputs": [],
   "source": [
    "clean_data.drop(columns=['code' , 'unsafe_water_source', 'poor_sanitation','no_access_to_handwashing_facility','non-exclusive_breastfeeding','discontinued_breastfeeding','child_wasting','child_stunting','low_birth_weight','secondhand_smoke','alcohol_use', 'drug_use', 'diet_low_in_fruits','diet_low_in_vegetables', 'unsafe_sex', 'low_physical_activity' ,'iron_deficiency', 'zinc_deficiency', 'vitamin-a_deficiency','low_bone_mineral_density','outdoor_air_pollution','indoor_air_pollution'], axis=1, inplace=True)"
   ]
  },
  {
   "cell_type": "code",
   "execution_count": 4,
   "metadata": {},
   "outputs": [],
   "source": [
    "clean_data = clean_data.merge(gapminder[['country','continent']], left_on='country', right_on = 'country')"
   ]
  },
  {
   "cell_type": "code",
   "execution_count": 5,
   "metadata": {},
   "outputs": [
    {
     "data": {
      "text/html": [
       "<div>\n",
       "<style scoped>\n",
       "    .dataframe tbody tr th:only-of-type {\n",
       "        vertical-align: middle;\n",
       "    }\n",
       "\n",
       "    .dataframe tbody tr th {\n",
       "        vertical-align: top;\n",
       "    }\n",
       "\n",
       "    .dataframe thead th {\n",
       "        text-align: right;\n",
       "    }\n",
       "</style>\n",
       "<table border=\"1\" class=\"dataframe\">\n",
       "  <thead>\n",
       "    <tr style=\"text-align: right;\">\n",
       "      <th></th>\n",
       "      <th>country</th>\n",
       "      <th>year</th>\n",
       "      <th>high_blood_sugar</th>\n",
       "      <th>obesity</th>\n",
       "      <th>high_blood_pressure</th>\n",
       "      <th>smoking</th>\n",
       "      <th>air_pollution_outdoor_&amp;_indoor</th>\n",
       "      <th>continent</th>\n",
       "    </tr>\n",
       "  </thead>\n",
       "  <tbody>\n",
       "    <tr>\n",
       "      <td>0</td>\n",
       "      <td>Afghanistan</td>\n",
       "      <td>1990</td>\n",
       "      <td>21610.06616</td>\n",
       "      <td>7701.58128</td>\n",
       "      <td>28183.98335</td>\n",
       "      <td>6393.667372</td>\n",
       "      <td>26598.00673</td>\n",
       "      <td>Asia</td>\n",
       "    </tr>\n",
       "    <tr>\n",
       "      <td>1</td>\n",
       "      <td>Afghanistan</td>\n",
       "      <td>1990</td>\n",
       "      <td>21610.06616</td>\n",
       "      <td>7701.58128</td>\n",
       "      <td>28183.98335</td>\n",
       "      <td>6393.667372</td>\n",
       "      <td>26598.00673</td>\n",
       "      <td>Asia</td>\n",
       "    </tr>\n",
       "    <tr>\n",
       "      <td>2</td>\n",
       "      <td>Afghanistan</td>\n",
       "      <td>1990</td>\n",
       "      <td>21610.06616</td>\n",
       "      <td>7701.58128</td>\n",
       "      <td>28183.98335</td>\n",
       "      <td>6393.667372</td>\n",
       "      <td>26598.00673</td>\n",
       "      <td>Asia</td>\n",
       "    </tr>\n",
       "    <tr>\n",
       "      <td>3</td>\n",
       "      <td>Afghanistan</td>\n",
       "      <td>1990</td>\n",
       "      <td>21610.06616</td>\n",
       "      <td>7701.58128</td>\n",
       "      <td>28183.98335</td>\n",
       "      <td>6393.667372</td>\n",
       "      <td>26598.00673</td>\n",
       "      <td>Asia</td>\n",
       "    </tr>\n",
       "    <tr>\n",
       "      <td>4</td>\n",
       "      <td>Afghanistan</td>\n",
       "      <td>1990</td>\n",
       "      <td>21610.06616</td>\n",
       "      <td>7701.58128</td>\n",
       "      <td>28183.98335</td>\n",
       "      <td>6393.667372</td>\n",
       "      <td>26598.00673</td>\n",
       "      <td>Asia</td>\n",
       "    </tr>\n",
       "  </tbody>\n",
       "</table>\n",
       "</div>"
      ],
      "text/plain": [
       "       country  year  high_blood_sugar     obesity  high_blood_pressure  \\\n",
       "0  Afghanistan  1990       21610.06616  7701.58128          28183.98335   \n",
       "1  Afghanistan  1990       21610.06616  7701.58128          28183.98335   \n",
       "2  Afghanistan  1990       21610.06616  7701.58128          28183.98335   \n",
       "3  Afghanistan  1990       21610.06616  7701.58128          28183.98335   \n",
       "4  Afghanistan  1990       21610.06616  7701.58128          28183.98335   \n",
       "\n",
       "       smoking  air_pollution_outdoor_&_indoor continent  \n",
       "0  6393.667372                     26598.00673      Asia  \n",
       "1  6393.667372                     26598.00673      Asia  \n",
       "2  6393.667372                     26598.00673      Asia  \n",
       "3  6393.667372                     26598.00673      Asia  \n",
       "4  6393.667372                     26598.00673      Asia  "
      ]
     },
     "execution_count": 5,
     "metadata": {},
     "output_type": "execute_result"
    }
   ],
   "source": [
    "clean_data.head()"
   ]
  },
  {
   "cell_type": "code",
   "execution_count": 6,
   "metadata": {},
   "outputs": [
    {
     "data": {
      "text/html": [
       "<div>\n",
       "<style scoped>\n",
       "    .dataframe tbody tr th:only-of-type {\n",
       "        vertical-align: middle;\n",
       "    }\n",
       "\n",
       "    .dataframe tbody tr th {\n",
       "        vertical-align: top;\n",
       "    }\n",
       "\n",
       "    .dataframe thead th {\n",
       "        text-align: right;\n",
       "    }\n",
       "</style>\n",
       "<table border=\"1\" class=\"dataframe\">\n",
       "  <thead>\n",
       "    <tr style=\"text-align: right;\">\n",
       "      <th></th>\n",
       "      <th>continent</th>\n",
       "      <th>year</th>\n",
       "      <th>high_blood_sugar</th>\n",
       "      <th>obesity</th>\n",
       "      <th>high_blood_pressure</th>\n",
       "      <th>smoking</th>\n",
       "      <th>air_pollution_outdoor_&amp;_indoor</th>\n",
       "    </tr>\n",
       "  </thead>\n",
       "  <tbody>\n",
       "    <tr>\n",
       "      <td>0</td>\n",
       "      <td>Africa</td>\n",
       "      <td>1990</td>\n",
       "      <td>3.644594e+06</td>\n",
       "      <td>2.001687e+06</td>\n",
       "      <td>5.779287e+06</td>\n",
       "      <td>2.586857e+06</td>\n",
       "      <td>7.133013e+06</td>\n",
       "    </tr>\n",
       "    <tr>\n",
       "      <td>1</td>\n",
       "      <td>Africa</td>\n",
       "      <td>1991</td>\n",
       "      <td>3.753047e+06</td>\n",
       "      <td>2.082043e+06</td>\n",
       "      <td>5.906983e+06</td>\n",
       "      <td>2.645391e+06</td>\n",
       "      <td>7.178302e+06</td>\n",
       "    </tr>\n",
       "    <tr>\n",
       "      <td>2</td>\n",
       "      <td>Africa</td>\n",
       "      <td>1992</td>\n",
       "      <td>3.882773e+06</td>\n",
       "      <td>2.175435e+06</td>\n",
       "      <td>6.062517e+06</td>\n",
       "      <td>2.713961e+06</td>\n",
       "      <td>7.253962e+06</td>\n",
       "    </tr>\n",
       "    <tr>\n",
       "      <td>3</td>\n",
       "      <td>Africa</td>\n",
       "      <td>1993</td>\n",
       "      <td>4.027312e+06</td>\n",
       "      <td>2.283576e+06</td>\n",
       "      <td>6.243835e+06</td>\n",
       "      <td>2.790839e+06</td>\n",
       "      <td>7.336856e+06</td>\n",
       "    </tr>\n",
       "    <tr>\n",
       "      <td>4</td>\n",
       "      <td>Africa</td>\n",
       "      <td>1994</td>\n",
       "      <td>4.172376e+06</td>\n",
       "      <td>2.401531e+06</td>\n",
       "      <td>6.417581e+06</td>\n",
       "      <td>2.871064e+06</td>\n",
       "      <td>7.404894e+06</td>\n",
       "    </tr>\n",
       "    <tr>\n",
       "      <td>...</td>\n",
       "      <td>...</td>\n",
       "      <td>...</td>\n",
       "      <td>...</td>\n",
       "      <td>...</td>\n",
       "      <td>...</td>\n",
       "      <td>...</td>\n",
       "      <td>...</td>\n",
       "    </tr>\n",
       "    <tr>\n",
       "      <td>135</td>\n",
       "      <td>Oceania</td>\n",
       "      <td>2013</td>\n",
       "      <td>2.504562e+05</td>\n",
       "      <td>2.449125e+05</td>\n",
       "      <td>3.298832e+05</td>\n",
       "      <td>2.809077e+05</td>\n",
       "      <td>6.664310e+04</td>\n",
       "    </tr>\n",
       "    <tr>\n",
       "      <td>136</td>\n",
       "      <td>Oceania</td>\n",
       "      <td>2014</td>\n",
       "      <td>2.586377e+05</td>\n",
       "      <td>2.542011e+05</td>\n",
       "      <td>3.409200e+05</td>\n",
       "      <td>2.877690e+05</td>\n",
       "      <td>6.575191e+04</td>\n",
       "    </tr>\n",
       "    <tr>\n",
       "      <td>137</td>\n",
       "      <td>Oceania</td>\n",
       "      <td>2015</td>\n",
       "      <td>2.667836e+05</td>\n",
       "      <td>2.624945e+05</td>\n",
       "      <td>3.512300e+05</td>\n",
       "      <td>2.927479e+05</td>\n",
       "      <td>6.649890e+04</td>\n",
       "    </tr>\n",
       "    <tr>\n",
       "      <td>138</td>\n",
       "      <td>Oceania</td>\n",
       "      <td>2016</td>\n",
       "      <td>2.755509e+05</td>\n",
       "      <td>2.709310e+05</td>\n",
       "      <td>3.631816e+05</td>\n",
       "      <td>2.977382e+05</td>\n",
       "      <td>6.416932e+04</td>\n",
       "    </tr>\n",
       "    <tr>\n",
       "      <td>139</td>\n",
       "      <td>Oceania</td>\n",
       "      <td>2017</td>\n",
       "      <td>2.866697e+05</td>\n",
       "      <td>2.819983e+05</td>\n",
       "      <td>3.779498e+05</td>\n",
       "      <td>3.091701e+05</td>\n",
       "      <td>6.697034e+04</td>\n",
       "    </tr>\n",
       "  </tbody>\n",
       "</table>\n",
       "<p>140 rows × 7 columns</p>\n",
       "</div>"
      ],
      "text/plain": [
       "    continent  year  high_blood_sugar       obesity  high_blood_pressure  \\\n",
       "0      Africa  1990      3.644594e+06  2.001687e+06         5.779287e+06   \n",
       "1      Africa  1991      3.753047e+06  2.082043e+06         5.906983e+06   \n",
       "2      Africa  1992      3.882773e+06  2.175435e+06         6.062517e+06   \n",
       "3      Africa  1993      4.027312e+06  2.283576e+06         6.243835e+06   \n",
       "4      Africa  1994      4.172376e+06  2.401531e+06         6.417581e+06   \n",
       "..        ...   ...               ...           ...                  ...   \n",
       "135   Oceania  2013      2.504562e+05  2.449125e+05         3.298832e+05   \n",
       "136   Oceania  2014      2.586377e+05  2.542011e+05         3.409200e+05   \n",
       "137   Oceania  2015      2.667836e+05  2.624945e+05         3.512300e+05   \n",
       "138   Oceania  2016      2.755509e+05  2.709310e+05         3.631816e+05   \n",
       "139   Oceania  2017      2.866697e+05  2.819983e+05         3.779498e+05   \n",
       "\n",
       "          smoking  air_pollution_outdoor_&_indoor  \n",
       "0    2.586857e+06                    7.133013e+06  \n",
       "1    2.645391e+06                    7.178302e+06  \n",
       "2    2.713961e+06                    7.253962e+06  \n",
       "3    2.790839e+06                    7.336856e+06  \n",
       "4    2.871064e+06                    7.404894e+06  \n",
       "..            ...                             ...  \n",
       "135  2.809077e+05                    6.664310e+04  \n",
       "136  2.877690e+05                    6.575191e+04  \n",
       "137  2.927479e+05                    6.649890e+04  \n",
       "138  2.977382e+05                    6.416932e+04  \n",
       "139  3.091701e+05                    6.697034e+04  \n",
       "\n",
       "[140 rows x 7 columns]"
      ]
     },
     "execution_count": 6,
     "metadata": {},
     "output_type": "execute_result"
    }
   ],
   "source": [
    "grouped_data = clean_data.groupby(['continent','year']).sum().reset_index()\n",
    "grouped_data\n"
   ]
  },
  {
   "cell_type": "code",
   "execution_count": 10,
   "metadata": {},
   "outputs": [],
   "source": [
    "grouped_data.to_csv('../data/clean_data_line_plot.csv',index = None)"
   ]
  },
  {
   "cell_type": "code",
   "execution_count": 11,
   "metadata": {},
   "outputs": [],
   "source": [
    "factors_data = pd.read_csv('../data/clean_data_line_plot.csv')"
   ]
  },
  {
   "cell_type": "code",
   "execution_count": 11,
   "metadata": {},
   "outputs": [],
   "source": [
    "factors_data.iloc[:,2:] = factors_data.iloc[:,2:]/1_000_000"
   ]
  },
  {
   "cell_type": "code",
   "execution_count": 36,
   "metadata": {},
   "outputs": [],
   "source": [
    "selection = alt.selection_single();\n",
    "\n",
    "def line_graph(factor_name='high_blood_sugar', data=factors_data):\n",
    "    '''\n",
    "    plot the interactive line graph \n",
    "    '''\n",
    "    line = alt.Chart(data).mark_line(point=True).add_selection(selection\n",
    ").encode(\n",
    "    alt.X(\"year:N\", axis=alt.Axis(labelAngle=45)),\n",
    "    alt.Y(\"{}:Q\".format(factor_name),title=\"Number of death (in million)\"),\n",
    "    tooltip = ['year:N','continent:N', \n",
    "               alt.Tooltip('{}:Q'.format(factor_name), format = \".2f\",\n",
    "                          title=\"Number of death (in million)\")],\n",
    "    color = alt.condition(selection, 'continent:N', alt.value('grey')),\n",
    "    opacity = alt.condition(selection, alt.value(0.9), alt.value(0.2))\n",
    ").properties(\n",
    "    title=\"Trend of {} over time , 1990 - 2017\".format(factor_name.replace(\"_\",\" \")),\n",
    "    width=800,\n",
    "    height=350).configure_title(fontSize=25\n",
    "    ).configure_axis(\n",
    "    labelFontSize=15,\n",
    "    titleFontSize=20\n",
    ")\n",
    "    return line "
   ]
  },
  {
   "cell_type": "code",
   "execution_count": 37,
   "metadata": {},
   "outputs": [
    {
     "data": {
      "application/vnd.vegalite.v3+json": {
       "$schema": "https://vega.github.io/schema/vega-lite/v3.4.0.json",
       "config": {
        "axis": {
         "labelFontSize": 15,
         "titleFontSize": 20
        },
        "mark": {
         "tooltip": null
        },
        "title": {
         "fontSize": 25
        },
        "view": {
         "height": 300,
         "width": 400
        }
       },
       "data": {
        "name": "data-c8945d428fcf4e831fdbff70e7495cd9"
       },
       "datasets": {
        "data-c8945d428fcf4e831fdbff70e7495cd9": [
         {
          "air_pollution_outdoor_&_indoor": 7.133012662101596,
          "continent": "Africa",
          "high_blood_pressure": 5.779287233021995,
          "high_blood_sugar": 3.6445942381171212,
          "obesity": 2.0016869552793555,
          "smoking": 2.5868570222912415,
          "year": 1990
         },
         {
          "air_pollution_outdoor_&_indoor": 7.178301733364411,
          "continent": "Africa",
          "high_blood_pressure": 5.906983344219584,
          "high_blood_sugar": 3.753047047389614,
          "obesity": 2.082042839561518,
          "smoking": 2.6453905318399187,
          "year": 1991
         },
         {
          "air_pollution_outdoor_&_indoor": 7.253961624881987,
          "continent": "Africa",
          "high_blood_pressure": 6.062517187345185,
          "high_blood_sugar": 3.882772873127033,
          "obesity": 2.175434540163962,
          "smoking": 2.713961013438843,
          "year": 1992
         },
         {
          "air_pollution_outdoor_&_indoor": 7.336856370727181,
          "continent": "Africa",
          "high_blood_pressure": 6.243835002004768,
          "high_blood_sugar": 4.027312132020714,
          "obesity": 2.283576496840804,
          "smoking": 2.7908385616118414,
          "year": 1993
         },
         {
          "air_pollution_outdoor_&_indoor": 7.404893519367592,
          "continent": "Africa",
          "high_blood_pressure": 6.417581112124789,
          "high_blood_sugar": 4.172375581417801,
          "obesity": 2.4015305853581994,
          "smoking": 2.871063750639706,
          "year": 1994
         },
         {
          "air_pollution_outdoor_&_indoor": 7.462203109136427,
          "continent": "Africa",
          "high_blood_pressure": 6.553233300992422,
          "high_blood_sugar": 4.291761827529364,
          "obesity": 2.486005336903682,
          "smoking": 2.9344653001589984,
          "year": 1995
         },
         {
          "air_pollution_outdoor_&_indoor": 7.56543530808001,
          "continent": "Africa",
          "high_blood_pressure": 6.796443187784406,
          "high_blood_sugar": 4.4741552175553245,
          "obesity": 2.643718017048112,
          "smoking": 3.0303444195137996,
          "year": 1996
         },
         {
          "air_pollution_outdoor_&_indoor": 7.673883542922015,
          "continent": "Africa",
          "high_blood_pressure": 7.059946449406812,
          "high_blood_sugar": 4.675256436196317,
          "obesity": 2.8281302206458,
          "smoking": 3.143123392951202,
          "year": 1997
         },
         {
          "air_pollution_outdoor_&_indoor": 7.733136553246812,
          "continent": "Africa",
          "high_blood_pressure": 7.2258811517747965,
          "high_blood_sugar": 4.81809248477784,
          "obesity": 2.9598688498910426,
          "smoking": 3.209726571851523,
          "year": 1998
         },
         {
          "air_pollution_outdoor_&_indoor": 7.752573093746413,
          "continent": "Africa",
          "high_blood_pressure": 7.370380304583613,
          "high_blood_sugar": 4.943600892234614,
          "obesity": 3.086132458333807,
          "smoking": 3.2581443754137727,
          "year": 1999
         },
         {
          "air_pollution_outdoor_&_indoor": 7.767137037410411,
          "continent": "Africa",
          "high_blood_pressure": 7.515492089225991,
          "high_blood_sugar": 5.0721465804400685,
          "obesity": 3.203062814254671,
          "smoking": 3.321540785563189,
          "year": 2000
         },
         {
          "air_pollution_outdoor_&_indoor": 7.745304780838813,
          "continent": "Africa",
          "high_blood_pressure": 7.627156176792007,
          "high_blood_sugar": 5.181248172987242,
          "obesity": 3.3070334464426825,
          "smoking": 3.347524546341226,
          "year": 2001
         },
         {
          "air_pollution_outdoor_&_indoor": 7.7183971095359905,
          "continent": "Africa",
          "high_blood_pressure": 7.76127241228562,
          "high_blood_sugar": 5.318852162447173,
          "obesity": 3.4146462532604276,
          "smoking": 3.3875809850915983,
          "year": 2002
         },
         {
          "air_pollution_outdoor_&_indoor": 7.672330554636012,
          "continent": "Africa",
          "high_blood_pressure": 7.891040356613979,
          "high_blood_sugar": 5.459594881996555,
          "obesity": 3.51637282102285,
          "smoking": 3.4236988970971147,
          "year": 2003
         },
         {
          "air_pollution_outdoor_&_indoor": 7.610141504241601,
          "continent": "Africa",
          "high_blood_pressure": 7.992707635416025,
          "high_blood_sugar": 5.578844333665929,
          "obesity": 3.5966489566184365,
          "smoking": 3.436119616918691,
          "year": 2004
         },
         {
          "air_pollution_outdoor_&_indoor": 7.529529358904391,
          "continent": "Africa",
          "high_blood_pressure": 8.0989470922488,
          "high_blood_sugar": 5.696247094852205,
          "obesity": 3.6790872558334913,
          "smoking": 3.443586094332355,
          "year": 2005
         },
         {
          "air_pollution_outdoor_&_indoor": 7.5385625872428,
          "continent": "Africa",
          "high_blood_pressure": 8.249815543274407,
          "high_blood_sugar": 5.846828331279104,
          "obesity": 3.778436317562172,
          "smoking": 3.478039917269043,
          "year": 2006
         },
         {
          "air_pollution_outdoor_&_indoor": 7.478894882221202,
          "continent": "Africa",
          "high_blood_pressure": 8.34264654550199,
          "high_blood_sugar": 5.96005829004563,
          "obesity": 3.8372795156666437,
          "smoking": 3.466815138813237,
          "year": 2007
         },
         {
          "air_pollution_outdoor_&_indoor": 7.384453903862382,
          "continent": "Africa",
          "high_blood_pressure": 8.496617164171212,
          "high_blood_sugar": 6.110968095723796,
          "obesity": 3.936720136427871,
          "smoking": 3.4785393429740448,
          "year": 2008
         },
         {
          "air_pollution_outdoor_&_indoor": 7.335041826524412,
          "continent": "Africa",
          "high_blood_pressure": 8.68828531496159,
          "high_blood_sugar": 6.283801878065004,
          "obesity": 4.06601528140032,
          "smoking": 3.5043971333749044,
          "year": 2009
         },
         {
          "air_pollution_outdoor_&_indoor": 7.26151390929001,
          "continent": "Africa",
          "high_blood_pressure": 8.850375353864406,
          "high_blood_sugar": 6.429826223868015,
          "obesity": 4.1775256367306355,
          "smoking": 3.514012878281638,
          "year": 2010
         },
         {
          "air_pollution_outdoor_&_indoor": 7.189749597238792,
          "continent": "Africa",
          "high_blood_pressure": 8.990865081481202,
          "high_blood_sugar": 6.5444790602927965,
          "obesity": 4.265433434395926,
          "smoking": 3.528043861325167,
          "year": 2011
         },
         {
          "air_pollution_outdoor_&_indoor": 7.175745224478,
          "continent": "Africa",
          "high_blood_pressure": 9.170869853833212,
          "high_blood_sugar": 6.697234881028328,
          "obesity": 4.39270901625227,
          "smoking": 3.541965003825243,
          "year": 2012
         },
         {
          "air_pollution_outdoor_&_indoor": 7.1231612157791835,
          "continent": "Africa",
          "high_blood_pressure": 9.309936273758431,
          "high_blood_sugar": 6.8298554263238564,
          "obesity": 4.492009738433868,
          "smoking": 3.550820111034492,
          "year": 2013
         },
         {
          "air_pollution_outdoor_&_indoor": 7.119368008531201,
          "continent": "Africa",
          "high_blood_pressure": 9.516367274901622,
          "high_blood_sugar": 7.006038787909448,
          "obesity": 4.639838901275271,
          "smoking": 3.573682314608532,
          "year": 2014
         },
         {
          "air_pollution_outdoor_&_indoor": 7.255077744512432,
          "continent": "Africa",
          "high_blood_pressure": 9.788136444250792,
          "high_blood_sugar": 7.235086137520308,
          "obesity": 4.83343556585293,
          "smoking": 3.629990270344197,
          "year": 2015
         },
         {
          "air_pollution_outdoor_&_indoor": 7.279562710373995,
          "continent": "Africa",
          "high_blood_pressure": 10.033492495990771,
          "high_blood_sugar": 7.437119031232307,
          "obesity": 5.004162420059528,
          "smoking": 3.678186731961609,
          "year": 2016
         },
         {
          "air_pollution_outdoor_&_indoor": 7.263196345101576,
          "continent": "Africa",
          "high_blood_pressure": 10.236514618403982,
          "high_blood_sugar": 7.585326668488794,
          "obesity": 5.144092874087396,
          "smoking": 3.7114606381097763,
          "year": 2017
         },
         {
          "air_pollution_outdoor_&_indoor": 3.589314805859994,
          "continent": "Americas",
          "high_blood_pressure": 10.828186862915997,
          "high_blood_sugar": 6.310922349026405,
          "obesity": 5.574074546783983,
          "smoking": 11.372967890888377,
          "year": 1990
         },
         {
          "air_pollution_outdoor_&_indoor": 3.5937564546744016,
          "continent": "Americas",
          "high_blood_pressure": 10.856724218627969,
          "high_blood_sugar": 6.322131271550405,
          "obesity": 5.691359040082794,
          "smoking": 11.219782764366009,
          "year": 1991
         },
         {
          "air_pollution_outdoor_&_indoor": 3.6297967680551926,
          "continent": "Americas",
          "high_blood_pressure": 10.918083412499984,
          "high_blood_sugar": 6.405092465484012,
          "obesity": 5.847513151576813,
          "smoking": 11.128608011739614,
          "year": 1992
         },
         {
          "air_pollution_outdoor_&_indoor": 3.7030728211859922,
          "continent": "Americas",
          "high_blood_pressure": 11.194726431948014,
          "high_blood_sugar": 6.5981400825600085,
          "obesity": 6.1152427329888,
          "smoking": 11.238134952287995,
          "year": 1993
         },
         {
          "air_pollution_outdoor_&_indoor": 3.7026842276988012,
          "continent": "Americas",
          "high_blood_pressure": 11.249556216816003,
          "high_blood_sugar": 6.691159774823997,
          "obesity": 6.280017479834391,
          "smoking": 11.138847941244016,
          "year": 1994
         },
         {
          "air_pollution_outdoor_&_indoor": 3.7048971180767944,
          "continent": "Americas",
          "high_blood_pressure": 11.34427596111601,
          "high_blood_sugar": 6.836138361299983,
          "obesity": 6.473071757439598,
          "smoking": 11.110645122013214,
          "year": 1995
         },
         {
          "air_pollution_outdoor_&_indoor": 3.7071566378567957,
          "continent": "Americas",
          "high_blood_pressure": 11.326887281903979,
          "high_blood_sugar": 6.933321413951996,
          "obesity": 6.607843242038398,
          "smoking": 10.984679522532016,
          "year": 1996
         },
         {
          "air_pollution_outdoor_&_indoor": 3.707428877163599,
          "continent": "Americas",
          "high_blood_pressure": 11.285913392003994,
          "high_blood_sugar": 7.049429711579997,
          "obesity": 6.742419314308795,
          "smoking": 10.849831659658799,
          "year": 1997
         },
         {
          "air_pollution_outdoor_&_indoor": 3.737276719627188,
          "continent": "Americas",
          "high_blood_pressure": 11.389452993852,
          "high_blood_sugar": 7.265347061964015,
          "obesity": 6.953988533683203,
          "smoking": 10.821646660476,
          "year": 1998
         },
         {
          "air_pollution_outdoor_&_indoor": 3.754074806769596,
          "continent": "Americas",
          "high_blood_pressure": 11.519359437696012,
          "high_blood_sugar": 7.491795619092003,
          "obesity": 7.187260068766788,
          "smoking": 10.824097051056011,
          "year": 1999
         },
         {
          "air_pollution_outdoor_&_indoor": 3.7176165203196088,
          "continent": "Americas",
          "high_blood_pressure": 11.470961807028017,
          "high_blood_sugar": 7.608095342184009,
          "obesity": 7.328436281605207,
          "smoking": 10.708773345376795,
          "year": 2000
         },
         {
          "air_pollution_outdoor_&_indoor": 3.7463629773696057,
          "continent": "Americas",
          "high_blood_pressure": 11.498686767468003,
          "high_blood_sugar": 7.79514957865202,
          "obesity": 7.51147252944119,
          "smoking": 10.672759452577184,
          "year": 2001
         },
         {
          "air_pollution_outdoor_&_indoor": 3.793958419524004,
          "continent": "Americas",
          "high_blood_pressure": 11.551187560272005,
          "high_blood_sugar": 8.053775843028003,
          "obesity": 7.7373024800076085,
          "smoking": 10.684461795790778,
          "year": 2002
         },
         {
          "air_pollution_outdoor_&_indoor": 3.8341464666552,
          "continent": "Americas",
          "high_blood_pressure": 11.585626003163991,
          "high_blood_sugar": 8.311804040891998,
          "obesity": 7.951475213580005,
          "smoking": 10.671856915997981,
          "year": 2003
         },
         {
          "air_pollution_outdoor_&_indoor": 3.7999204939799953,
          "continent": "Americas",
          "high_blood_pressure": 11.407185800412025,
          "high_blood_sugar": 8.410140147515992,
          "obesity": 8.019401046696004,
          "smoking": 10.493804296810811,
          "year": 2004
         },
         {
          "air_pollution_outdoor_&_indoor": 3.8005799475636053,
          "continent": "Americas",
          "high_blood_pressure": 11.424951261384006,
          "high_blood_sugar": 8.646105912252018,
          "obesity": 8.208093989567997,
          "smoking": 10.46783440139759,
          "year": 2005
         },
         {
          "air_pollution_outdoor_&_indoor": 3.8087216052203945,
          "continent": "Americas",
          "high_blood_pressure": 11.390838363312007,
          "high_blood_sugar": 8.836038077964002,
          "obesity": 8.329895167583999,
          "smoking": 10.36303816916759,
          "year": 2006
         },
         {
          "air_pollution_outdoor_&_indoor": 3.824691864031207,
          "continent": "Americas",
          "high_blood_pressure": 11.411884435848028,
          "high_blood_sugar": 9.138887253911964,
          "obesity": 8.487662517048001,
          "smoking": 10.290775480275618,
          "year": 2007
         },
         {
          "air_pollution_outdoor_&_indoor": 3.8738967317220014,
          "continent": "Americas",
          "high_blood_pressure": 11.53686705542399,
          "high_blood_sugar": 9.551594376156022,
          "obesity": 8.734239465456005,
          "smoking": 10.275312500522386,
          "year": 2008
         },
         {
          "air_pollution_outdoor_&_indoor": 3.9224469222275933,
          "continent": "Americas",
          "high_blood_pressure": 11.661774332195975,
          "high_blood_sugar": 9.915397623299986,
          "obesity": 8.97459407101199,
          "smoking": 10.242060817200004,
          "year": 2009
         },
         {
          "air_pollution_outdoor_&_indoor": 3.921223819942795,
          "continent": "Americas",
          "high_blood_pressure": 11.754118462643994,
          "high_blood_sugar": 10.106788787580001,
          "obesity": 9.115851139428008,
          "smoking": 10.142896094389188,
          "year": 2010
         },
         {
          "air_pollution_outdoor_&_indoor": 4.015603111966802,
          "continent": "Americas",
          "high_blood_pressure": 11.926289127923994,
          "high_blood_sugar": 10.297766758391989,
          "obesity": 9.324134658083981,
          "smoking": 10.14111783976919,
          "year": 2011
         },
         {
          "air_pollution_outdoor_&_indoor": 3.9452348398175996,
          "continent": "Americas",
          "high_blood_pressure": 12.091585348740022,
          "high_blood_sugar": 10.502778941520015,
          "obesity": 9.536614916604,
          "smoking": 10.11576610820759,
          "year": 2012
         },
         {
          "air_pollution_outdoor_&_indoor": 3.9497141122775905,
          "continent": "Americas",
          "high_blood_pressure": 12.323666440871998,
          "high_blood_sugar": 10.769423622288004,
          "obesity": 9.793689571572001,
          "smoking": 10.117337656321206,
          "year": 2013
         },
         {
          "air_pollution_outdoor_&_indoor": 3.903440909338804,
          "continent": "Americas",
          "high_blood_pressure": 12.589699478579988,
          "high_blood_sugar": 11.057420732675997,
          "obesity": 10.067071064051987,
          "smoking": 10.110135823509601,
          "year": 2014
         },
         {
          "air_pollution_outdoor_&_indoor": 3.9352781130431924,
          "continent": "Americas",
          "high_blood_pressure": 12.914284387764011,
          "high_blood_sugar": 11.369174195604005,
          "obesity": 10.37185466239202,
          "smoking": 10.154354593422005,
          "year": 2015
         },
         {
          "air_pollution_outdoor_&_indoor": 3.885759693861591,
          "continent": "Americas",
          "high_blood_pressure": 13.299985601291988,
          "high_blood_sugar": 11.770630113348002,
          "obesity": 10.761002785920017,
          "smoking": 10.275632085185999,
          "year": 2016
         },
         {
          "air_pollution_outdoor_&_indoor": 3.9782800969368015,
          "continent": "Americas",
          "high_blood_pressure": 13.685192846640016,
          "high_blood_sugar": 12.107239505448005,
          "obesity": 11.108544455916006,
          "smoking": 10.36220457058797,
          "year": 2017
         },
         {
          "air_pollution_outdoor_&_indoor": 36.48625912320015,
          "continent": "Asia",
          "high_blood_pressure": 34.38774666246595,
          "high_blood_sugar": 16.008744668026797,
          "obesity": 6.515330290184387,
          "smoking": 32.05797701681878,
          "year": 1990
         },
         {
          "air_pollution_outdoor_&_indoor": 36.67370261068318,
          "continent": "Asia",
          "high_blood_pressure": 35.181390480472785,
          "high_blood_sugar": 16.514876243685567,
          "obesity": 6.773755137136823,
          "smoking": 33.03203269651787,
          "year": 1991
         },
         {
          "air_pollution_outdoor_&_indoor": 36.744915680055655,
          "continent": "Asia",
          "high_blood_pressure": 35.95647666443036,
          "high_blood_sugar": 17.08724652214803,
          "obesity": 7.062517412150429,
          "smoking": 33.90165999971158,
          "year": 1992
         },
         {
          "air_pollution_outdoor_&_indoor": 36.508222799112126,
          "continent": "Asia",
          "high_blood_pressure": 36.468417328066856,
          "high_blood_sugar": 17.523678407361622,
          "obesity": 7.326356737004384,
          "smoking": 34.60612756913045,
          "year": 1993
         },
         {
          "air_pollution_outdoor_&_indoor": 36.33354207694437,
          "continent": "Asia",
          "high_blood_pressure": 37.013399431973895,
          "high_blood_sugar": 17.983229706883144,
          "obesity": 7.6077573920952,
          "smoking": 35.26074270209409,
          "year": 1994
         },
         {
          "air_pollution_outdoor_&_indoor": 36.14256364814153,
          "continent": "Asia",
          "high_blood_pressure": 37.713485410429136,
          "high_blood_sugar": 18.501713979856774,
          "obesity": 7.946530051839608,
          "smoking": 36.03407729012633,
          "year": 1995
         },
         {
          "air_pollution_outdoor_&_indoor": 36.07844036130126,
          "continent": "Asia",
          "high_blood_pressure": 38.54948840030756,
          "high_blood_sugar": 19.083814407256778,
          "obesity": 8.328521634664813,
          "smoking": 36.82382633763364,
          "year": 1996
         },
         {
          "air_pollution_outdoor_&_indoor": 36.36283574314558,
          "continent": "Asia",
          "high_blood_pressure": 39.77875172558524,
          "high_blood_sugar": 19.904156339175668,
          "obesity": 8.792881712767192,
          "smoking": 37.82936711743805,
          "year": 1997
         },
         {
          "air_pollution_outdoor_&_indoor": 36.329635450458014,
          "continent": "Asia",
          "high_blood_pressure": 40.6904610210048,
          "high_blood_sugar": 20.51173158072601,
          "obesity": 9.237511464247204,
          "smoking": 38.62850293058888,
          "year": 1998
         },
         {
          "air_pollution_outdoor_&_indoor": 35.78567023821713,
          "continent": "Asia",
          "high_blood_pressure": 41.32525470564343,
          "high_blood_sugar": 20.98878885549123,
          "obesity": 9.677674400818841,
          "smoking": 38.96325635007004,
          "year": 1999
         },
         {
          "air_pollution_outdoor_&_indoor": 35.665823445541236,
          "continent": "Asia",
          "high_blood_pressure": 42.492837195285404,
          "high_blood_sugar": 21.783847198258826,
          "obesity": 10.162093134613201,
          "smoking": 39.668701885224124,
          "year": 2000
         },
         {
          "air_pollution_outdoor_&_indoor": 35.56467850268648,
          "continent": "Asia",
          "high_blood_pressure": 43.56624117308889,
          "high_blood_sugar": 22.748069045893295,
          "obesity": 10.592237364693645,
          "smoking": 40.19323869617255,
          "year": 2001
         },
         {
          "air_pollution_outdoor_&_indoor": 35.60817784612079,
          "continent": "Asia",
          "high_blood_pressure": 44.89671572291031,
          "high_blood_sugar": 24.105312349270722,
          "obesity": 11.17566821153042,
          "smoking": 40.78348043953336,
          "year": 2002
         },
         {
          "air_pollution_outdoor_&_indoor": 35.67810314741632,
          "continent": "Asia",
          "high_blood_pressure": 46.281558693734596,
          "high_blood_sugar": 25.603328184238745,
          "obesity": 11.774949022966867,
          "smoking": 41.47554740130013,
          "year": 2003
         },
         {
          "air_pollution_outdoor_&_indoor": 35.34994019330991,
          "continent": "Asia",
          "high_blood_pressure": 47.06275136696514,
          "high_blood_sugar": 26.723725563033536,
          "obesity": 12.312199754582432,
          "smoking": 41.54796977685821,
          "year": 2004
         },
         {
          "air_pollution_outdoor_&_indoor": 35.15632958807276,
          "continent": "Asia",
          "high_blood_pressure": 48.128855886111744,
          "high_blood_sugar": 27.769992022534915,
          "obesity": 12.895376818604447,
          "smoking": 41.56189060829746,
          "year": 2005
         },
         {
          "air_pollution_outdoor_&_indoor": 34.91750284539237,
          "continent": "Asia",
          "high_blood_pressure": 48.873744989318496,
          "high_blood_sugar": 28.197413725204743,
          "obesity": 13.447940012822412,
          "smoking": 41.375778533640144,
          "year": 2006
         },
         {
          "air_pollution_outdoor_&_indoor": 35.14250568609242,
          "continent": "Asia",
          "high_blood_pressure": 50.250644832739425,
          "high_blood_sugar": 28.672448416986004,
          "obesity": 14.22811748442121,
          "smoking": 41.818047169081225,
          "year": 2007
         },
         {
          "air_pollution_outdoor_&_indoor": 35.708761499629155,
          "continent": "Asia",
          "high_blood_pressure": 52.354562708104794,
          "high_blood_sugar": 29.353023661972866,
          "obesity": 15.198080024163595,
          "smoking": 42.612346892135974,
          "year": 2008
         },
         {
          "air_pollution_outdoor_&_indoor": 36.34085631134283,
          "continent": "Asia",
          "high_blood_pressure": 54.64686657788425,
          "high_blood_sugar": 30.05456650584363,
          "obesity": 16.212666600219645,
          "smoking": 43.550615185036754,
          "year": 2009
         },
         {
          "air_pollution_outdoor_&_indoor": 37.050359657804414,
          "continent": "Asia",
          "high_blood_pressure": 57.085956295264886,
          "high_blood_sugar": 31.014073419207524,
          "obesity": 17.246070823760455,
          "smoking": 44.585272039689734,
          "year": 2010
         },
         {
          "air_pollution_outdoor_&_indoor": 37.65042636545876,
          "continent": "Asia",
          "high_blood_pressure": 59.21797613016495,
          "high_blood_sugar": 32.13417319380473,
          "obesity": 18.25887672145071,
          "smoking": 45.477862040330294,
          "year": 2011
         },
         {
          "air_pollution_outdoor_&_indoor": 37.5300162425294,
          "continent": "Asia",
          "high_blood_pressure": 61.04769673836493,
          "high_blood_sugar": 33.165137220937275,
          "obesity": 19.272132357065946,
          "smoking": 46.17763476556917,
          "year": 2012
         },
         {
          "air_pollution_outdoor_&_indoor": 37.655011194856755,
          "continent": "Asia",
          "high_blood_pressure": 62.32315256702166,
          "high_blood_sugar": 34.04367213957119,
          "obesity": 20.213513256528007,
          "smoking": 46.433441854421886,
          "year": 2013
         },
         {
          "air_pollution_outdoor_&_indoor": 37.95180075208459,
          "continent": "Asia",
          "high_blood_pressure": 64.57036684560352,
          "high_blood_sugar": 35.35843951049767,
          "obesity": 21.47479283952836,
          "smoking": 47.59487821909898,
          "year": 2014
         },
         {
          "air_pollution_outdoor_&_indoor": 38.736981050255956,
          "continent": "Asia",
          "high_blood_pressure": 66.92619309111117,
          "high_blood_sugar": 36.75723750155756,
          "obesity": 22.78369411557599,
          "smoking": 49.09354801495091,
          "year": 2015
         },
         {
          "air_pollution_outdoor_&_indoor": 38.83293007113124,
          "continent": "Asia",
          "high_blood_pressure": 68.97724365619706,
          "high_blood_sugar": 38.11798811594534,
          "obesity": 23.96841728885039,
          "smoking": 50.37257764066926,
          "year": 2016
         },
         {
          "air_pollution_outdoor_&_indoor": 39.12544185935274,
          "continent": "Asia",
          "high_blood_pressure": 70.05590224733398,
          "high_blood_sugar": 38.95235292299641,
          "obesity": 24.709225476122384,
          "smoking": 50.90876401243692,
          "year": 2017
         },
         {
          "air_pollution_outdoor_&_indoor": 4.353285064630203,
          "continent": "Europe",
          "high_blood_pressure": 17.61520764698756,
          "high_blood_sugar": 9.017850846771626,
          "obesity": 6.586252174196413,
          "smoking": 14.07087085605478,
          "year": 1990
         },
         {
          "air_pollution_outdoor_&_indoor": 4.32836733008436,
          "continent": "Europe",
          "high_blood_pressure": 17.524406495261978,
          "high_blood_sugar": 9.070290493480798,
          "obesity": 6.684239307837589,
          "smoking": 14.030484770508002,
          "year": 1991
         },
         {
          "air_pollution_outdoor_&_indoor": 4.277725757478,
          "continent": "Europe",
          "high_blood_pressure": 17.323291828302004,
          "high_blood_sugar": 9.040592444234395,
          "obesity": 6.7386261141204,
          "smoking": 13.892890448607595,
          "year": 1992
         },
         {
          "air_pollution_outdoor_&_indoor": 4.249530163662005,
          "continent": "Europe",
          "high_blood_pressure": 17.236237332246017,
          "high_blood_sugar": 9.092623803229214,
          "obesity": 6.8175129118007955,
          "smoking": 13.829100308397562,
          "year": 1993
         },
         {
          "air_pollution_outdoor_&_indoor": 4.1906526296684365,
          "continent": "Europe",
          "high_blood_pressure": 16.98671003159041,
          "high_blood_sugar": 9.0570398188608,
          "obesity": 6.8508322609919885,
          "smoking": 13.65550895443199,
          "year": 1994
         },
         {
          "air_pollution_outdoor_&_indoor": 4.1824208851558735,
          "continent": "Europe",
          "high_blood_pressure": 16.983137027993994,
          "high_blood_sugar": 9.1422148855284,
          "obesity": 6.955908856122012,
          "smoking": 13.631440809109256,
          "year": 1995
         },
         {
          "air_pollution_outdoor_&_indoor": 4.141253817772568,
          "continent": "Europe",
          "high_blood_pressure": 16.782003250245566,
          "high_blood_sugar": 9.15558940699199,
          "obesity": 6.995582678978423,
          "smoking": 13.431990152072386,
          "year": 1996
         },
         {
          "air_pollution_outdoor_&_indoor": 4.0861004418453675,
          "continent": "Europe",
          "high_blood_pressure": 16.497937515230383,
          "high_blood_sugar": 9.164891305425604,
          "obesity": 7.03201610547961,
          "smoking": 13.202321663743241,
          "year": 1997
         },
         {
          "air_pollution_outdoor_&_indoor": 4.018680394464714,
          "continent": "Europe",
          "high_blood_pressure": 16.21316455499519,
          "high_blood_sugar": 9.204605368479607,
          "obesity": 7.054304127993604,
          "smoking": 12.990014926117212,
          "year": 1998
         },
         {
          "air_pollution_outdoor_&_indoor": 3.9704431385643684,
          "continent": "Europe",
          "high_blood_pressure": 15.982421420694017,
          "high_blood_sugar": 9.275711510433617,
          "obesity": 7.1020522906871895,
          "smoking": 12.832438340660424,
          "year": 1999
         },
         {
          "air_pollution_outdoor_&_indoor": 3.8532256068423614,
          "continent": "Europe",
          "high_blood_pressure": 15.56192519342279,
          "high_blood_sugar": 9.195471677506797,
          "obesity": 7.028588101290012,
          "smoking": 12.500110162095568,
          "year": 2000
         },
         {
          "air_pollution_outdoor_&_indoor": 3.787227235216206,
          "continent": "Europe",
          "high_blood_pressure": 15.264739984843205,
          "high_blood_sugar": 9.150761624559573,
          "obesity": 7.011381158186401,
          "smoking": 12.290275268608783,
          "year": 2001
         },
         {
          "air_pollution_outdoor_&_indoor": 3.7791905995553945,
          "continent": "Europe",
          "high_blood_pressure": 15.172747400121596,
          "high_blood_sugar": 9.217907428386003,
          "obesity": 7.074187096247999,
          "smoking": 12.194040752475559,
          "year": 2002
         },
         {
          "air_pollution_outdoor_&_indoor": 3.776368118993649,
          "continent": "Europe",
          "high_blood_pressure": 15.046749931113622,
          "high_blood_sugar": 9.271319034759609,
          "obesity": 7.140849523974017,
          "smoking": 12.131130069585593,
          "year": 2003
         },
         {
          "air_pollution_outdoor_&_indoor": 3.651901062098154,
          "continent": "Europe",
          "high_blood_pressure": 14.462541312342001,
          "high_blood_sugar": 9.023374779807613,
          "obesity": 7.008410803779587,
          "smoking": 11.763678365164804,
          "year": 2004
         },
         {
          "air_pollution_outdoor_&_indoor": 3.636632295674039,
          "continent": "Europe",
          "high_blood_pressure": 14.315880104691622,
          "high_blood_sugar": 9.050538608733609,
          "obesity": 7.044467312653214,
          "smoking": 11.684275011477588,
          "year": 2005
         },
         {
          "air_pollution_outdoor_&_indoor": 3.604874440526047,
          "continent": "Europe",
          "high_blood_pressure": 14.060750876707191,
          "high_blood_sugar": 9.043701376136386,
          "obesity": 7.028766676743602,
          "smoking": 11.543544808656014,
          "year": 2006
         },
         {
          "air_pollution_outdoor_&_indoor": 3.6051414309884415,
          "continent": "Europe",
          "high_blood_pressure": 13.936315833602354,
          "high_blood_sugar": 9.15383185669321,
          "obesity": 7.069726181764798,
          "smoking": 11.469320400951576,
          "year": 2007
         },
         {
          "air_pollution_outdoor_&_indoor": 3.6162866500124395,
          "continent": "Europe",
          "high_blood_pressure": 13.859533182549612,
          "high_blood_sugar": 9.299977459682399,
          "obesity": 7.131096379935583,
          "smoking": 11.4193132322292,
          "year": 2008
         },
         {
          "air_pollution_outdoor_&_indoor": 3.642761349341644,
          "continent": "Europe",
          "high_blood_pressure": 13.83829430645041,
          "high_blood_sugar": 9.453344131149569,
          "obesity": 7.214207319001196,
          "smoking": 11.403866174033977,
          "year": 2009
         },
         {
          "air_pollution_outdoor_&_indoor": 3.6203228214768006,
          "continent": "Europe",
          "high_blood_pressure": 13.723544009125193,
          "high_blood_sugar": 9.49361484739798,
          "obesity": 7.223907741902384,
          "smoking": 11.290406907479996,
          "year": 2010
         },
         {
          "air_pollution_outdoor_&_indoor": 3.6361287397438735,
          "continent": "Europe",
          "high_blood_pressure": 13.711238233162804,
          "high_blood_sugar": 9.602927974207205,
          "obesity": 7.264876566440384,
          "smoking": 11.229722003574024,
          "year": 2011
         },
         {
          "air_pollution_outdoor_&_indoor": 3.548319329197201,
          "continent": "Europe",
          "high_blood_pressure": 13.758363138340782,
          "high_blood_sugar": 9.74357895396962,
          "obesity": 7.335443448006001,
          "smoking": 11.212427109225597,
          "year": 2012
         },
         {
          "air_pollution_outdoor_&_indoor": 3.507436744650122,
          "continent": "Europe",
          "high_blood_pressure": 13.73438778733439,
          "high_blood_sugar": 9.827378958736794,
          "obesity": 7.383404377971607,
          "smoking": 11.151683510890788,
          "year": 2013
         },
         {
          "air_pollution_outdoor_&_indoor": 3.445290196429083,
          "continent": "Europe",
          "high_blood_pressure": 13.688355154187954,
          "high_blood_sugar": 9.8714163512832,
          "obesity": 7.412943981046806,
          "smoking": 11.0347728304728,
          "year": 2014
         },
         {
          "air_pollution_outdoor_&_indoor": 3.5587793713966818,
          "continent": "Europe",
          "high_blood_pressure": 14.046933500483958,
          "high_blood_sugar": 10.23621879341763,
          "obesity": 7.629367014001195,
          "smoking": 11.195451089663997,
          "year": 2015
         },
         {
          "air_pollution_outdoor_&_indoor": 3.4625572143216026,
          "continent": "Europe",
          "high_blood_pressure": 14.100125205810015,
          "high_blood_sugar": 10.35599138731559,
          "obesity": 7.681600820767185,
          "smoking": 11.116155010551589,
          "year": 2016
         },
         {
          "air_pollution_outdoor_&_indoor": 3.4801322529520826,
          "continent": "Europe",
          "high_blood_pressure": 14.190635048154007,
          "high_blood_sugar": 10.472395868207984,
          "obesity": 7.7426538732408146,
          "smoking": 11.082929393714398,
          "year": 2017
         },
         {
          "air_pollution_outdoor_&_indoor": 0.07514183684280004,
          "continent": "Oceania",
          "high_blood_pressure": 0.4268366993520003,
          "high_blood_sugar": 0.22367856111599985,
          "obesity": 0.17572591888800013,
          "smoking": 0.4039649688240002,
          "year": 1990
         },
         {
          "air_pollution_outdoor_&_indoor": 0.07523878354439993,
          "continent": "Oceania",
          "high_blood_pressure": 0.4182662523599998,
          "high_blood_sugar": 0.21815362519200004,
          "obesity": 0.17769438680400007,
          "smoking": 0.39080827457999967,
          "year": 1991
         },
         {
          "air_pollution_outdoor_&_indoor": 0.07687191632639999,
          "continent": "Oceania",
          "high_blood_pressure": 0.4211750526240003,
          "high_blood_sugar": 0.2190021096480001,
          "obesity": 0.18363550949999988,
          "smoking": 0.38740215381600007,
          "year": 1992
         },
         {
          "air_pollution_outdoor_&_indoor": 0.07593177346079999,
          "continent": "Oceania",
          "high_blood_pressure": 0.4139338911119999,
          "high_blood_sugar": 0.21567361307999988,
          "obesity": 0.18536645652000003,
          "smoking": 0.3752653909920002,
          "year": 1993
         },
         {
          "air_pollution_outdoor_&_indoor": 0.07664925985200001,
          "continent": "Oceania",
          "high_blood_pressure": 0.41678926009200007,
          "high_blood_sugar": 0.218338727124,
          "obesity": 0.19141336095599992,
          "smoking": 0.3719506264559999,
          "year": 1994
         },
         {
          "air_pollution_outdoor_&_indoor": 0.07527266500200006,
          "continent": "Oceania",
          "high_blood_pressure": 0.41203980042000005,
          "high_blood_sugar": 0.21804613112399993,
          "obesity": 0.19451103716399998,
          "smoking": 0.36410017306799963,
          "year": 1995
         },
         {
          "air_pollution_outdoor_&_indoor": 0.07708764345479996,
          "continent": "Oceania",
          "high_blood_pressure": 0.40947500651999974,
          "high_blood_sugar": 0.21991344476399993,
          "obesity": 0.19917082198800015,
          "smoking": 0.3588071981519999,
          "year": 1996
         },
         {
          "air_pollution_outdoor_&_indoor": 0.07692400797719998,
          "continent": "Oceania",
          "high_blood_pressure": 0.39995080462800037,
          "high_blood_sugar": 0.2170613001119999,
          "obesity": 0.20107001911200015,
          "smoking": 0.34775034283200007,
          "year": 1997
         },
         {
          "air_pollution_outdoor_&_indoor": 0.07556426177759998,
          "continent": "Oceania",
          "high_blood_pressure": 0.38899511568,
          "high_blood_sugar": 0.213784713564,
          "obesity": 0.20210252954400007,
          "smoking": 0.3360635926680002,
          "year": 1998
         },
         {
          "air_pollution_outdoor_&_indoor": 0.07426949654160002,
          "continent": "Oceania",
          "high_blood_pressure": 0.3813495576839999,
          "high_blood_sugar": 0.21268130751600003,
          "obesity": 0.20403747361199992,
          "smoking": 0.3274342533119997,
          "year": 1999
         },
         {
          "air_pollution_outdoor_&_indoor": 0.07238021909160001,
          "continent": "Oceania",
          "high_blood_pressure": 0.37489356953999997,
          "high_blood_sugar": 0.2128754299799998,
          "obesity": 0.20647053649199998,
          "smoking": 0.32050552783199976,
          "year": 2000
         },
         {
          "air_pollution_outdoor_&_indoor": 0.07198051697159998,
          "continent": "Oceania",
          "high_blood_pressure": 0.3685211427360001,
          "high_blood_sugar": 0.2143674080880002,
          "obesity": 0.20831410936799985,
          "smoking": 0.3156661281599998,
          "year": 2001
         },
         {
          "air_pollution_outdoor_&_indoor": 0.07251732480719997,
          "continent": "Oceania",
          "high_blood_pressure": 0.3679112882519999,
          "high_blood_sugar": 0.21975153808800002,
          "obesity": 0.21351309712799998,
          "smoking": 0.31539159238800024,
          "year": 2002
         },
         {
          "air_pollution_outdoor_&_indoor": 0.07118655182879997,
          "continent": "Oceania",
          "high_blood_pressure": 0.35801963617199994,
          "high_blood_sugar": 0.22031361809999989,
          "obesity": 0.21430908932400008,
          "smoking": 0.31005393988799973,
          "year": 2003
         },
         {
          "air_pollution_outdoor_&_indoor": 0.0695538882216,
          "continent": "Oceania",
          "high_blood_pressure": 0.34823231256000015,
          "high_blood_sugar": 0.22080237784799991,
          "obesity": 0.21522208643999996,
          "smoking": 0.3046628480279998,
          "year": 2004
         },
         {
          "air_pollution_outdoor_&_indoor": 0.06756654649560002,
          "continent": "Oceania",
          "high_blood_pressure": 0.3375898677000001,
          "high_blood_sugar": 0.22077123291599987,
          "obesity": 0.21531084603599993,
          "smoking": 0.29765165479200006,
          "year": 2005
         },
         {
          "air_pollution_outdoor_&_indoor": 0.06786150427200001,
          "continent": "Oceania",
          "high_blood_pressure": 0.33569387610000023,
          "high_blood_sugar": 0.226532199324,
          "obesity": 0.21967941333600005,
          "smoking": 0.29376395499599994,
          "year": 2006
         },
         {
          "air_pollution_outdoor_&_indoor": 0.06994017478919999,
          "continent": "Oceania",
          "high_blood_pressure": 0.34151951342400017,
          "high_blood_sugar": 0.23802007953600002,
          "obesity": 0.22908779019599998,
          "smoking": 0.29681419726800007,
          "year": 2007
         },
         {
          "air_pollution_outdoor_&_indoor": 0.07065550049280005,
          "continent": "Oceania",
          "high_blood_pressure": 0.34176981153600017,
          "high_blood_sugar": 0.24570426512400004,
          "obesity": 0.23451692448000008,
          "smoking": 0.29435811728400013,
          "year": 2008
         },
         {
          "air_pollution_outdoor_&_indoor": 0.07001572385760003,
          "continent": "Oceania",
          "high_blood_pressure": 0.3360712959359999,
          "high_blood_sugar": 0.24764858920799998,
          "obesity": 0.23671532090399997,
          "smoking": 0.2886741710519999,
          "year": 2009
         },
         {
          "air_pollution_outdoor_&_indoor": 0.06927040784160005,
          "continent": "Oceania",
          "high_blood_pressure": 0.33009977973599974,
          "high_blood_sugar": 0.24733290694799992,
          "obesity": 0.23727010105200008,
          "smoking": 0.28458962968800006,
          "year": 2010
         },
         {
          "air_pollution_outdoor_&_indoor": 0.07264287744959999,
          "continent": "Oceania",
          "high_blood_pressure": 0.33324527925599984,
          "high_blood_sugar": 0.2518573142879999,
          "obesity": 0.24199396816799984,
          "smoking": 0.2849253246239999,
          "year": 2011
         },
         {
          "air_pollution_outdoor_&_indoor": 0.06876096417480003,
          "continent": "Oceania",
          "high_blood_pressure": 0.3295443508199999,
          "high_blood_sugar": 0.2501773248959998,
          "obesity": 0.24190819909200004,
          "smoking": 0.2809822981920002,
          "year": 2012
         },
         {
          "air_pollution_outdoor_&_indoor": 0.06664309836840003,
          "continent": "Oceania",
          "high_blood_pressure": 0.32988319923600024,
          "high_blood_sugar": 0.250456196508,
          "obesity": 0.24491245183200017,
          "smoking": 0.28090766087999997,
          "year": 2013
         },
         {
          "air_pollution_outdoor_&_indoor": 0.06575191381919998,
          "continent": "Oceania",
          "high_blood_pressure": 0.3409200137039997,
          "high_blood_sugar": 0.25863773632799997,
          "obesity": 0.25420113525600013,
          "smoking": 0.28776898125599987,
          "year": 2014
         },
         {
          "air_pollution_outdoor_&_indoor": 0.0664988991336,
          "continent": "Oceania",
          "high_blood_pressure": 0.35123002506,
          "high_blood_sugar": 0.26678359951200004,
          "obesity": 0.2624944818599999,
          "smoking": 0.29274793658399995,
          "year": 2015
         },
         {
          "air_pollution_outdoor_&_indoor": 0.06416931501960003,
          "continent": "Oceania",
          "high_blood_pressure": 0.3631816084439998,
          "high_blood_sugar": 0.27555093152399995,
          "obesity": 0.27093095516400006,
          "smoking": 0.297738182592,
          "year": 2016
         },
         {
          "air_pollution_outdoor_&_indoor": 0.06697033899,
          "continent": "Oceania",
          "high_blood_pressure": 0.3779497784039997,
          "high_blood_sugar": 0.28666966790399995,
          "obesity": 0.28199831283600013,
          "smoking": 0.3091701025199999,
          "year": 2017
         }
        ]
       },
       "encoding": {
        "color": {
         "condition": {
          "field": "continent",
          "selection": "selector013",
          "type": "nominal"
         },
         "value": "grey"
        },
        "opacity": {
         "condition": {
          "selection": "selector013",
          "value": 0.9
         },
         "value": 0.2
        },
        "tooltip": [
         {
          "field": "year",
          "type": "nominal"
         },
         {
          "field": "continent",
          "type": "nominal"
         },
         {
          "field": "high_blood_pressure",
          "format": ".2f",
          "title": "Number of death (in million)",
          "type": "quantitative"
         }
        ],
        "x": {
         "axis": {
          "labelAngle": 45
         },
         "field": "year",
         "type": "nominal"
        },
        "y": {
         "field": "high_blood_pressure",
         "title": "Number of death (in million)",
         "type": "quantitative"
        }
       },
       "height": 350,
       "mark": {
        "point": true,
        "type": "line"
       },
       "selection": {
        "selector013": {
         "type": "single"
        }
       },
       "title": "Trend of high blood pressure over time , 1990 - 2017",
       "width": 800
      },
      "image/png": "[encoded data removed]",
      "text/plain": [
       "<VegaLite 3 object>\n",
       "\n",
       "If you see this message, it means the renderer has not been properly enabled\n",
       "for the frontend that you are using. For more information, see\n",
       "https://altair-viz.github.io/user_guide/troubleshooting.html\n"
      ]
     },
     "execution_count": 37,
     "metadata": {},
     "output_type": "execute_result"
    }
   ],
   "source": [
    "line_graph(\"high_blood_pressure\")"
   ]
  },
  {
   "cell_type": "code",
   "execution_count": null,
   "metadata": {},
   "outputs": [],
   "source": []
  },
  {
   "cell_type": "code",
   "execution_count": null,
   "metadata": {},
   "outputs": [],
   "source": []
  }
 ],
 "metadata": {
  "kernelspec": {
   "display_name": "Python 3",
   "language": "python",
   "name": "python3"
  },
  "language_info": {
   "codemirror_mode": {
    "name": "ipython",
    "version": 3
   },
   "file_extension": ".py",
   "mimetype": "text/x-python",
   "name": "python",
   "nbconvert_exporter": "python",
   "pygments_lexer": "ipython3",
   "version": "3.6.9"
  }
 },
 "nbformat": 4,
 "nbformat_minor": 4
}
