{
 "cells": [
  {
   "cell_type": "markdown",
   "metadata": {},
   "source": [
    "3. What's the trend of these risk factors over time for continents?"
   ]
  },
  {
   "cell_type": "code",
   "execution_count": 1,
   "metadata": {},
   "outputs": [],
   "source": [
    "import pandas as pd\n",
    "import altair as alt\n",
    "clean_data = pd.read_csv(\"../data/clean_number-of-deaths-by-risk-factor.csv\")"
   ]
  },
  {
   "cell_type": "code",
   "execution_count": 2,
   "metadata": {},
   "outputs": [],
   "source": [
    "url = 'https://raw.githubusercontent.com/STAT545-UBC/STAT545-UBC.github.io/master/gapminderDataFiveYear.txt'\n",
    "gapminder = pd.read_csv(url, delimiter=\"\\t\")\n"
   ]
  },
  {
   "cell_type": "code",
   "execution_count": 3,
   "metadata": {},
   "outputs": [],
   "source": [
    "clean_data.drop(columns=['code' , 'unsafe_water_source', 'poor_sanitation','no_access_to_handwashing_facility','non-exclusive_breastfeeding','discontinued_breastfeeding','child_wasting','child_stunting','low_birth_weight','secondhand_smoke','alcohol_use', 'drug_use', 'diet_low_in_fruits','diet_low_in_vegetables', 'unsafe_sex', 'low_physical_activity' ,'iron_deficiency', 'zinc_deficiency', 'vitamin-a_deficiency','low_bone_mineral_density','outdoor_air_pollution','indoor_air_pollution'], axis=1, inplace=True)"
   ]
  },
  {
   "cell_type": "code",
   "execution_count": 4,
   "metadata": {},
   "outputs": [],
   "source": [
    "clean_data = clean_data.merge(gapminder[['country','continent']], left_on='country', right_on = 'country')"
   ]
  },
  {
   "cell_type": "code",
   "execution_count": 5,
   "metadata": {},
   "outputs": [
    {
     "data": {
      "text/html": [
       "<div>\n",
       "<style scoped>\n",
       "    .dataframe tbody tr th:only-of-type {\n",
       "        vertical-align: middle;\n",
       "    }\n",
       "\n",
       "    .dataframe tbody tr th {\n",
       "        vertical-align: top;\n",
       "    }\n",
       "\n",
       "    .dataframe thead th {\n",
       "        text-align: right;\n",
       "    }\n",
       "</style>\n",
       "<table border=\"1\" class=\"dataframe\">\n",
       "  <thead>\n",
       "    <tr style=\"text-align: right;\">\n",
       "      <th></th>\n",
       "      <th>country</th>\n",
       "      <th>year</th>\n",
       "      <th>high_blood_sugar</th>\n",
       "      <th>obesity</th>\n",
       "      <th>high_blood_pressure</th>\n",
       "      <th>smoking</th>\n",
       "      <th>air_pollution_outdoor_&amp;_indoor</th>\n",
       "      <th>continent</th>\n",
       "    </tr>\n",
       "  </thead>\n",
       "  <tbody>\n",
       "    <tr>\n",
       "      <td>0</td>\n",
       "      <td>Afghanistan</td>\n",
       "      <td>1990</td>\n",
       "      <td>21610.06616</td>\n",
       "      <td>7701.58128</td>\n",
       "      <td>28183.98335</td>\n",
       "      <td>6393.667372</td>\n",
       "      <td>26598.00673</td>\n",
       "      <td>Asia</td>\n",
       "    </tr>\n",
       "    <tr>\n",
       "      <td>1</td>\n",
       "      <td>Afghanistan</td>\n",
       "      <td>1990</td>\n",
       "      <td>21610.06616</td>\n",
       "      <td>7701.58128</td>\n",
       "      <td>28183.98335</td>\n",
       "      <td>6393.667372</td>\n",
       "      <td>26598.00673</td>\n",
       "      <td>Asia</td>\n",
       "    </tr>\n",
       "    <tr>\n",
       "      <td>2</td>\n",
       "      <td>Afghanistan</td>\n",
       "      <td>1990</td>\n",
       "      <td>21610.06616</td>\n",
       "      <td>7701.58128</td>\n",
       "      <td>28183.98335</td>\n",
       "      <td>6393.667372</td>\n",
       "      <td>26598.00673</td>\n",
       "      <td>Asia</td>\n",
       "    </tr>\n",
       "    <tr>\n",
       "      <td>3</td>\n",
       "      <td>Afghanistan</td>\n",
       "      <td>1990</td>\n",
       "      <td>21610.06616</td>\n",
       "      <td>7701.58128</td>\n",
       "      <td>28183.98335</td>\n",
       "      <td>6393.667372</td>\n",
       "      <td>26598.00673</td>\n",
       "      <td>Asia</td>\n",
       "    </tr>\n",
       "    <tr>\n",
       "      <td>4</td>\n",
       "      <td>Afghanistan</td>\n",
       "      <td>1990</td>\n",
       "      <td>21610.06616</td>\n",
       "      <td>7701.58128</td>\n",
       "      <td>28183.98335</td>\n",
       "      <td>6393.667372</td>\n",
       "      <td>26598.00673</td>\n",
       "      <td>Asia</td>\n",
       "    </tr>\n",
       "  </tbody>\n",
       "</table>\n",
       "</div>"
      ],
      "text/plain": [
       "       country  year  high_blood_sugar     obesity  high_blood_pressure  \\\n",
       "0  Afghanistan  1990       21610.06616  7701.58128          28183.98335   \n",
       "1  Afghanistan  1990       21610.06616  7701.58128          28183.98335   \n",
       "2  Afghanistan  1990       21610.06616  7701.58128          28183.98335   \n",
       "3  Afghanistan  1990       21610.06616  7701.58128          28183.98335   \n",
       "4  Afghanistan  1990       21610.06616  7701.58128          28183.98335   \n",
       "\n",
       "       smoking  air_pollution_outdoor_&_indoor continent  \n",
       "0  6393.667372                     26598.00673      Asia  \n",
       "1  6393.667372                     26598.00673      Asia  \n",
       "2  6393.667372                     26598.00673      Asia  \n",
       "3  6393.667372                     26598.00673      Asia  \n",
       "4  6393.667372                     26598.00673      Asia  "
      ]
     },
     "execution_count": 5,
     "metadata": {},
     "output_type": "execute_result"
    }
   ],
   "source": [
    "clean_data.head()"
   ]
  },
  {
   "cell_type": "code",
   "execution_count": 6,
   "metadata": {},
   "outputs": [
    {
     "data": {
      "text/html": [
       "<div>\n",
       "<style scoped>\n",
       "    .dataframe tbody tr th:only-of-type {\n",
       "        vertical-align: middle;\n",
       "    }\n",
       "\n",
       "    .dataframe tbody tr th {\n",
       "        vertical-align: top;\n",
       "    }\n",
       "\n",
       "    .dataframe thead th {\n",
       "        text-align: right;\n",
       "    }\n",
       "</style>\n",
       "<table border=\"1\" class=\"dataframe\">\n",
       "  <thead>\n",
       "    <tr style=\"text-align: right;\">\n",
       "      <th></th>\n",
       "      <th>continent</th>\n",
       "      <th>year</th>\n",
       "      <th>high_blood_sugar</th>\n",
       "      <th>obesity</th>\n",
       "      <th>high_blood_pressure</th>\n",
       "      <th>smoking</th>\n",
       "      <th>air_pollution_outdoor_&amp;_indoor</th>\n",
       "    </tr>\n",
       "  </thead>\n",
       "  <tbody>\n",
       "    <tr>\n",
       "      <td>0</td>\n",
       "      <td>Africa</td>\n",
       "      <td>1990</td>\n",
       "      <td>3.644594e+06</td>\n",
       "      <td>2.001687e+06</td>\n",
       "      <td>5.779287e+06</td>\n",
       "      <td>2.586857e+06</td>\n",
       "      <td>7.133013e+06</td>\n",
       "    </tr>\n",
       "    <tr>\n",
       "      <td>1</td>\n",
       "      <td>Africa</td>\n",
       "      <td>1991</td>\n",
       "      <td>3.753047e+06</td>\n",
       "      <td>2.082043e+06</td>\n",
       "      <td>5.906983e+06</td>\n",
       "      <td>2.645391e+06</td>\n",
       "      <td>7.178302e+06</td>\n",
       "    </tr>\n",
       "    <tr>\n",
       "      <td>2</td>\n",
       "      <td>Africa</td>\n",
       "      <td>1992</td>\n",
       "      <td>3.882773e+06</td>\n",
       "      <td>2.175435e+06</td>\n",
       "      <td>6.062517e+06</td>\n",
       "      <td>2.713961e+06</td>\n",
       "      <td>7.253962e+06</td>\n",
       "    </tr>\n",
       "    <tr>\n",
       "      <td>3</td>\n",
       "      <td>Africa</td>\n",
       "      <td>1993</td>\n",
       "      <td>4.027312e+06</td>\n",
       "      <td>2.283576e+06</td>\n",
       "      <td>6.243835e+06</td>\n",
       "      <td>2.790839e+06</td>\n",
       "      <td>7.336856e+06</td>\n",
       "    </tr>\n",
       "    <tr>\n",
       "      <td>4</td>\n",
       "      <td>Africa</td>\n",
       "      <td>1994</td>\n",
       "      <td>4.172376e+06</td>\n",
       "      <td>2.401531e+06</td>\n",
       "      <td>6.417581e+06</td>\n",
       "      <td>2.871064e+06</td>\n",
       "      <td>7.404894e+06</td>\n",
       "    </tr>\n",
       "    <tr>\n",
       "      <td>...</td>\n",
       "      <td>...</td>\n",
       "      <td>...</td>\n",
       "      <td>...</td>\n",
       "      <td>...</td>\n",
       "      <td>...</td>\n",
       "      <td>...</td>\n",
       "      <td>...</td>\n",
       "    </tr>\n",
       "    <tr>\n",
       "      <td>135</td>\n",
       "      <td>Oceania</td>\n",
       "      <td>2013</td>\n",
       "      <td>2.504562e+05</td>\n",
       "      <td>2.449125e+05</td>\n",
       "      <td>3.298832e+05</td>\n",
       "      <td>2.809077e+05</td>\n",
       "      <td>6.664310e+04</td>\n",
       "    </tr>\n",
       "    <tr>\n",
       "      <td>136</td>\n",
       "      <td>Oceania</td>\n",
       "      <td>2014</td>\n",
       "      <td>2.586377e+05</td>\n",
       "      <td>2.542011e+05</td>\n",
       "      <td>3.409200e+05</td>\n",
       "      <td>2.877690e+05</td>\n",
       "      <td>6.575191e+04</td>\n",
       "    </tr>\n",
       "    <tr>\n",
       "      <td>137</td>\n",
       "      <td>Oceania</td>\n",
       "      <td>2015</td>\n",
       "      <td>2.667836e+05</td>\n",
       "      <td>2.624945e+05</td>\n",
       "      <td>3.512300e+05</td>\n",
       "      <td>2.927479e+05</td>\n",
       "      <td>6.649890e+04</td>\n",
       "    </tr>\n",
       "    <tr>\n",
       "      <td>138</td>\n",
       "      <td>Oceania</td>\n",
       "      <td>2016</td>\n",
       "      <td>2.755509e+05</td>\n",
       "      <td>2.709310e+05</td>\n",
       "      <td>3.631816e+05</td>\n",
       "      <td>2.977382e+05</td>\n",
       "      <td>6.416932e+04</td>\n",
       "    </tr>\n",
       "    <tr>\n",
       "      <td>139</td>\n",
       "      <td>Oceania</td>\n",
       "      <td>2017</td>\n",
       "      <td>2.866697e+05</td>\n",
       "      <td>2.819983e+05</td>\n",
       "      <td>3.779498e+05</td>\n",
       "      <td>3.091701e+05</td>\n",
       "      <td>6.697034e+04</td>\n",
       "    </tr>\n",
       "  </tbody>\n",
       "</table>\n",
       "<p>140 rows × 7 columns</p>\n",
       "</div>"
      ],
      "text/plain": [
       "    continent  year  high_blood_sugar       obesity  high_blood_pressure  \\\n",
       "0      Africa  1990      3.644594e+06  2.001687e+06         5.779287e+06   \n",
       "1      Africa  1991      3.753047e+06  2.082043e+06         5.906983e+06   \n",
       "2      Africa  1992      3.882773e+06  2.175435e+06         6.062517e+06   \n",
       "3      Africa  1993      4.027312e+06  2.283576e+06         6.243835e+06   \n",
       "4      Africa  1994      4.172376e+06  2.401531e+06         6.417581e+06   \n",
       "..        ...   ...               ...           ...                  ...   \n",
       "135   Oceania  2013      2.504562e+05  2.449125e+05         3.298832e+05   \n",
       "136   Oceania  2014      2.586377e+05  2.542011e+05         3.409200e+05   \n",
       "137   Oceania  2015      2.667836e+05  2.624945e+05         3.512300e+05   \n",
       "138   Oceania  2016      2.755509e+05  2.709310e+05         3.631816e+05   \n",
       "139   Oceania  2017      2.866697e+05  2.819983e+05         3.779498e+05   \n",
       "\n",
       "          smoking  air_pollution_outdoor_&_indoor  \n",
       "0    2.586857e+06                    7.133013e+06  \n",
       "1    2.645391e+06                    7.178302e+06  \n",
       "2    2.713961e+06                    7.253962e+06  \n",
       "3    2.790839e+06                    7.336856e+06  \n",
       "4    2.871064e+06                    7.404894e+06  \n",
       "..            ...                             ...  \n",
       "135  2.809077e+05                    6.664310e+04  \n",
       "136  2.877690e+05                    6.575191e+04  \n",
       "137  2.927479e+05                    6.649890e+04  \n",
       "138  2.977382e+05                    6.416932e+04  \n",
       "139  3.091701e+05                    6.697034e+04  \n",
       "\n",
       "[140 rows x 7 columns]"
      ]
     },
     "execution_count": 6,
     "metadata": {},
     "output_type": "execute_result"
    }
   ],
   "source": [
    "grouped_data = clean_data.groupby(['continent','year']).sum().reset_index()\n",
    "grouped_data\n"
   ]
  },
  {
   "cell_type": "code",
   "execution_count": 10,
   "metadata": {},
   "outputs": [],
   "source": [
    "grouped_data.to_csv('../data/clean_data_line_plot.csv',index = None)"
   ]
  },
  {
   "cell_type": "code",
   "execution_count": 11,
   "metadata": {},
   "outputs": [],
   "source": [
    "factors_data = pd.read_csv('../data/clean_data_line_plot.csv')"
   ]
  },
  {
   "cell_type": "code",
   "execution_count": 32,
   "metadata": {},
   "outputs": [],
   "source": [
    "selection = alt.selection_single();\n",
    "\n",
    "def line_graph(factor_name,data=factors_data):\n",
    "    c = alt.Chart(data).mark_line(point=True).add_selection(\n",
    "selection\n",
    ").encode(\n",
    "    alt.X(\"year:N\", axis=alt.Axis(labelAngle=45)),\n",
    "    alt.Y(\"{}:Q\".format(factor_name)),\n",
    "#     alt.Color(\"continent:N\", title=\"Continents\"),\n",
    "    alt.Tooltip(['year:N','continent:N', '{}:Q'.format(factor_name)]),\n",
    "    color = alt.condition(selection, 'continent:N', alt.value('grey')),\n",
    "    opacity = alt.condition(selection, alt.value(0.9), alt.value(0.2))\n",
    ").properties(\n",
    "    title=\"Trend of {} over time , 1990 - 2017\".format(factor_name.replace(\"_\",\" \")),\n",
    "    width=800,\n",
    "    height=320)\n",
    "    return c"
   ]
  },
  {
   "cell_type": "code",
   "execution_count": 33,
   "metadata": {},
   "outputs": [
    {
     "data": {
      "application/vnd.vegalite.v3+json": {
       "$schema": "https://vega.github.io/schema/vega-lite/v3.4.0.json",
       "config": {
        "mark": {
         "tooltip": null
        },
        "view": {
         "height": 300,
         "width": 400
        }
       },
       "data": {
        "name": "data-650b0a302fba9b04458c2ad1940ef88f"
       },
       "datasets": {
        "data-650b0a302fba9b04458c2ad1940ef88f": [
         {
          "air_pollution_outdoor_&_indoor": 7133012.662101597,
          "continent": "Africa",
          "high_blood_pressure": 5779287.233021995,
          "high_blood_sugar": 3644594.238117121,
          "obesity": 2001686.9552793559,
          "smoking": 2586857.0222912417,
          "year": 1990
         },
         {
          "air_pollution_outdoor_&_indoor": 7178301.733364413,
          "continent": "Africa",
          "high_blood_pressure": 5906983.344219584,
          "high_blood_sugar": 3753047.047389614,
          "obesity": 2082042.8395615176,
          "smoking": 2645390.5318399193,
          "year": 1991
         },
         {
          "air_pollution_outdoor_&_indoor": 7253961.624881987,
          "continent": "Africa",
          "high_blood_pressure": 6062517.187345185,
          "high_blood_sugar": 3882772.873127033,
          "obesity": 2175434.5401639617,
          "smoking": 2713961.013438843,
          "year": 1992
         },
         {
          "air_pollution_outdoor_&_indoor": 7336856.370727181,
          "continent": "Africa",
          "high_blood_pressure": 6243835.002004768,
          "high_blood_sugar": 4027312.1320207124,
          "obesity": 2283576.496840804,
          "smoking": 2790838.5616118414,
          "year": 1993
         },
         {
          "air_pollution_outdoor_&_indoor": 7404893.519367592,
          "continent": "Africa",
          "high_blood_pressure": 6417581.112124789,
          "high_blood_sugar": 4172375.5814178013,
          "obesity": 2401530.585358199,
          "smoking": 2871063.7506397064,
          "year": 1994
         },
         {
          "air_pollution_outdoor_&_indoor": 7462203.109136428,
          "continent": "Africa",
          "high_blood_pressure": 6553233.300992423,
          "high_blood_sugar": 4291761.827529363,
          "obesity": 2486005.336903682,
          "smoking": 2934465.300158998,
          "year": 1995
         },
         {
          "air_pollution_outdoor_&_indoor": 7565435.30808001,
          "continent": "Africa",
          "high_blood_pressure": 6796443.187784405,
          "high_blood_sugar": 4474155.217555325,
          "obesity": 2643718.0170481117,
          "smoking": 3030344.4195138,
          "year": 1996
         },
         {
          "air_pollution_outdoor_&_indoor": 7673883.542922015,
          "continent": "Africa",
          "high_blood_pressure": 7059946.449406813,
          "high_blood_sugar": 4675256.436196317,
          "obesity": 2828130.2206458,
          "smoking": 3143123.3929512016,
          "year": 1997
         },
         {
          "air_pollution_outdoor_&_indoor": 7733136.553246813,
          "continent": "Africa",
          "high_blood_pressure": 7225881.151774798,
          "high_blood_sugar": 4818092.48477784,
          "obesity": 2959868.8498910433,
          "smoking": 3209726.5718515227,
          "year": 1998
         },
         {
          "air_pollution_outdoor_&_indoor": 7752573.093746413,
          "continent": "Africa",
          "high_blood_pressure": 7370380.304583614,
          "high_blood_sugar": 4943600.892234614,
          "obesity": 3086132.458333807,
          "smoking": 3258144.3754137727,
          "year": 1999
         },
         {
          "air_pollution_outdoor_&_indoor": 7767137.037410411,
          "continent": "Africa",
          "high_blood_pressure": 7515492.089225992,
          "high_blood_sugar": 5072146.580440069,
          "obesity": 3203062.8142546713,
          "smoking": 3321540.7855631886,
          "year": 2000
         },
         {
          "air_pollution_outdoor_&_indoor": 7745304.780838813,
          "continent": "Africa",
          "high_blood_pressure": 7627156.176792008,
          "high_blood_sugar": 5181248.172987242,
          "obesity": 3307033.4464426823,
          "smoking": 3347524.5463412264,
          "year": 2001
         },
         {
          "air_pollution_outdoor_&_indoor": 7718397.10953599,
          "continent": "Africa",
          "high_blood_pressure": 7761272.4122856185,
          "high_blood_sugar": 5318852.162447173,
          "obesity": 3414646.253260428,
          "smoking": 3387580.9850915982,
          "year": 2002
         },
         {
          "air_pollution_outdoor_&_indoor": 7672330.554636013,
          "continent": "Africa",
          "high_blood_pressure": 7891040.356613979,
          "high_blood_sugar": 5459594.881996555,
          "obesity": 3516372.82102285,
          "smoking": 3423698.897097115,
          "year": 2003
         },
         {
          "air_pollution_outdoor_&_indoor": 7610141.504241602,
          "continent": "Africa",
          "high_blood_pressure": 7992707.635416025,
          "high_blood_sugar": 5578844.333665929,
          "obesity": 3596648.956618437,
          "smoking": 3436119.6169186914,
          "year": 2004
         },
         {
          "air_pollution_outdoor_&_indoor": 7529529.3589043915,
          "continent": "Africa",
          "high_blood_pressure": 8098947.092248798,
          "high_blood_sugar": 5696247.0948522035,
          "obesity": 3679087.255833491,
          "smoking": 3443586.094332355,
          "year": 2005
         },
         {
          "air_pollution_outdoor_&_indoor": 7538562.5872428,
          "continent": "Africa",
          "high_blood_pressure": 8249815.543274406,
          "high_blood_sugar": 5846828.331279104,
          "obesity": 3778436.3175621717,
          "smoking": 3478039.9172690427,
          "year": 2006
         },
         {
          "air_pollution_outdoor_&_indoor": 7478894.882221202,
          "continent": "Africa",
          "high_blood_pressure": 8342646.54550199,
          "high_blood_sugar": 5960058.29004563,
          "obesity": 3837279.5156666436,
          "smoking": 3466815.1388132367,
          "year": 2007
         },
         {
          "air_pollution_outdoor_&_indoor": 7384453.903862382,
          "continent": "Africa",
          "high_blood_pressure": 8496617.164171211,
          "high_blood_sugar": 6110968.095723797,
          "obesity": 3936720.1364278714,
          "smoking": 3478539.342974045,
          "year": 2008
         },
         {
          "air_pollution_outdoor_&_indoor": 7335041.826524412,
          "continent": "Africa",
          "high_blood_pressure": 8688285.31496159,
          "high_blood_sugar": 6283801.878065004,
          "obesity": 4066015.28140032,
          "smoking": 3504397.1333749043,
          "year": 2009
         },
         {
          "air_pollution_outdoor_&_indoor": 7261513.90929001,
          "continent": "Africa",
          "high_blood_pressure": 8850375.353864405,
          "high_blood_sugar": 6429826.223868015,
          "obesity": 4177525.636730635,
          "smoking": 3514012.878281638,
          "year": 2010
         },
         {
          "air_pollution_outdoor_&_indoor": 7189749.597238792,
          "continent": "Africa",
          "high_blood_pressure": 8990865.081481202,
          "high_blood_sugar": 6544479.060292796,
          "obesity": 4265433.434395926,
          "smoking": 3528043.8613251667,
          "year": 2011
         },
         {
          "air_pollution_outdoor_&_indoor": 7175745.224478,
          "continent": "Africa",
          "high_blood_pressure": 9170869.853833212,
          "high_blood_sugar": 6697234.881028327,
          "obesity": 4392709.01625227,
          "smoking": 3541965.003825243,
          "year": 2012
         },
         {
          "air_pollution_outdoor_&_indoor": 7123161.2157791825,
          "continent": "Africa",
          "high_blood_pressure": 9309936.273758432,
          "high_blood_sugar": 6829855.426323856,
          "obesity": 4492009.738433869,
          "smoking": 3550820.111034492,
          "year": 2013
         },
         {
          "air_pollution_outdoor_&_indoor": 7119368.008531203,
          "continent": "Africa",
          "high_blood_pressure": 9516367.274901623,
          "high_blood_sugar": 7006038.787909447,
          "obesity": 4639838.901275272,
          "smoking": 3573682.314608532,
          "year": 2014
         },
         {
          "air_pollution_outdoor_&_indoor": 7255077.744512432,
          "continent": "Africa",
          "high_blood_pressure": 9788136.444250792,
          "high_blood_sugar": 7235086.137520308,
          "obesity": 4833435.565852932,
          "smoking": 3629990.270344197,
          "year": 2015
         },
         {
          "air_pollution_outdoor_&_indoor": 7279562.710373995,
          "continent": "Africa",
          "high_blood_pressure": 10033492.495990772,
          "high_blood_sugar": 7437119.031232308,
          "obesity": 5004162.420059527,
          "smoking": 3678186.731961609,
          "year": 2016
         },
         {
          "air_pollution_outdoor_&_indoor": 7263196.345101576,
          "continent": "Africa",
          "high_blood_pressure": 10236514.618403982,
          "high_blood_sugar": 7585326.668488794,
          "obesity": 5144092.874087396,
          "smoking": 3711460.638109776,
          "year": 2017
         },
         {
          "air_pollution_outdoor_&_indoor": 3589314.8058599937,
          "continent": "Americas",
          "high_blood_pressure": 10828186.862915996,
          "high_blood_sugar": 6310922.349026405,
          "obesity": 5574074.546783983,
          "smoking": 11372967.890888378,
          "year": 1990
         },
         {
          "air_pollution_outdoor_&_indoor": 3593756.454674402,
          "continent": "Americas",
          "high_blood_pressure": 10856724.218627967,
          "high_blood_sugar": 6322131.271550405,
          "obesity": 5691359.040082795,
          "smoking": 11219782.764366008,
          "year": 1991
         },
         {
          "air_pollution_outdoor_&_indoor": 3629796.7680551927,
          "continent": "Americas",
          "high_blood_pressure": 10918083.412499983,
          "high_blood_sugar": 6405092.465484013,
          "obesity": 5847513.151576812,
          "smoking": 11128608.011739612,
          "year": 1992
         },
         {
          "air_pollution_outdoor_&_indoor": 3703072.821185992,
          "continent": "Americas",
          "high_blood_pressure": 11194726.431948014,
          "high_blood_sugar": 6598140.082560007,
          "obesity": 6115242.7329888,
          "smoking": 11238134.952287994,
          "year": 1993
         },
         {
          "air_pollution_outdoor_&_indoor": 3702684.227698801,
          "continent": "Americas",
          "high_blood_pressure": 11249556.216816004,
          "high_blood_sugar": 6691159.774823997,
          "obesity": 6280017.479834391,
          "smoking": 11138847.941244015,
          "year": 1994
         },
         {
          "air_pollution_outdoor_&_indoor": 3704897.118076794,
          "continent": "Americas",
          "high_blood_pressure": 11344275.96111601,
          "high_blood_sugar": 6836138.361299982,
          "obesity": 6473071.7574395975,
          "smoking": 11110645.122013213,
          "year": 1995
         },
         {
          "air_pollution_outdoor_&_indoor": 3707156.6378567964,
          "continent": "Americas",
          "high_blood_pressure": 11326887.281903977,
          "high_blood_sugar": 6933321.413951997,
          "obesity": 6607843.242038397,
          "smoking": 10984679.522532016,
          "year": 1996
         },
         {
          "air_pollution_outdoor_&_indoor": 3707428.877163599,
          "continent": "Americas",
          "high_blood_pressure": 11285913.392003994,
          "high_blood_sugar": 7049429.711579997,
          "obesity": 6742419.314308795,
          "smoking": 10849831.6596588,
          "year": 1997
         },
         {
          "air_pollution_outdoor_&_indoor": 3737276.719627188,
          "continent": "Americas",
          "high_blood_pressure": 11389452.993852,
          "high_blood_sugar": 7265347.061964015,
          "obesity": 6953988.533683202,
          "smoking": 10821646.660476,
          "year": 1998
         },
         {
          "air_pollution_outdoor_&_indoor": 3754074.8067695964,
          "continent": "Americas",
          "high_blood_pressure": 11519359.437696012,
          "high_blood_sugar": 7491795.6190920025,
          "obesity": 7187260.068766788,
          "smoking": 10824097.05105601,
          "year": 1999
         },
         {
          "air_pollution_outdoor_&_indoor": 3717616.520319609,
          "continent": "Americas",
          "high_blood_pressure": 11470961.807028014,
          "high_blood_sugar": 7608095.342184009,
          "obesity": 7328436.281605206,
          "smoking": 10708773.345376797,
          "year": 2000
         },
         {
          "air_pollution_outdoor_&_indoor": 3746362.9773696056,
          "continent": "Americas",
          "high_blood_pressure": 11498686.767468005,
          "high_blood_sugar": 7795149.57865202,
          "obesity": 7511472.52944119,
          "smoking": 10672759.452577183,
          "year": 2001
         },
         {
          "air_pollution_outdoor_&_indoor": 3793958.4195240038,
          "continent": "Americas",
          "high_blood_pressure": 11551187.560272004,
          "high_blood_sugar": 8053775.843028002,
          "obesity": 7737302.4800076075,
          "smoking": 10684461.795790777,
          "year": 2002
         },
         {
          "air_pollution_outdoor_&_indoor": 3834146.4666552003,
          "continent": "Americas",
          "high_blood_pressure": 11585626.003163993,
          "high_blood_sugar": 8311804.0408919975,
          "obesity": 7951475.213580005,
          "smoking": 10671856.915997982,
          "year": 2003
         },
         {
          "air_pollution_outdoor_&_indoor": 3799920.493979995,
          "continent": "Americas",
          "high_blood_pressure": 11407185.800412025,
          "high_blood_sugar": 8410140.147515992,
          "obesity": 8019401.0466960035,
          "smoking": 10493804.296810813,
          "year": 2004
         },
         {
          "air_pollution_outdoor_&_indoor": 3800579.947563605,
          "continent": "Americas",
          "high_blood_pressure": 11424951.261384007,
          "high_blood_sugar": 8646105.912252018,
          "obesity": 8208093.989567998,
          "smoking": 10467834.401397593,
          "year": 2005
         },
         {
          "air_pollution_outdoor_&_indoor": 3808721.605220394,
          "continent": "Americas",
          "high_blood_pressure": 11390838.363312004,
          "high_blood_sugar": 8836038.077964002,
          "obesity": 8329895.167583998,
          "smoking": 10363038.16916759,
          "year": 2006
         },
         {
          "air_pollution_outdoor_&_indoor": 3824691.8640312073,
          "continent": "Americas",
          "high_blood_pressure": 11411884.43584803,
          "high_blood_sugar": 9138887.253911965,
          "obesity": 8487662.517048001,
          "smoking": 10290775.480275618,
          "year": 2007
         },
         {
          "air_pollution_outdoor_&_indoor": 3873896.731722002,
          "continent": "Americas",
          "high_blood_pressure": 11536867.05542399,
          "high_blood_sugar": 9551594.37615602,
          "obesity": 8734239.465456005,
          "smoking": 10275312.500522386,
          "year": 2008
         },
         {
          "air_pollution_outdoor_&_indoor": 3922446.922227593,
          "continent": "Americas",
          "high_blood_pressure": 11661774.332195975,
          "high_blood_sugar": 9915397.623299986,
          "obesity": 8974594.07101199,
          "smoking": 10242060.817200003,
          "year": 2009
         },
         {
          "air_pollution_outdoor_&_indoor": 3921223.8199427943,
          "continent": "Americas",
          "high_blood_pressure": 11754118.462643996,
          "high_blood_sugar": 10106788.78758,
          "obesity": 9115851.139428008,
          "smoking": 10142896.094389187,
          "year": 2010
         },
         {
          "air_pollution_outdoor_&_indoor": 4015603.111966802,
          "continent": "Americas",
          "high_blood_pressure": 11926289.127923993,
          "high_blood_sugar": 10297766.75839199,
          "obesity": 9324134.65808398,
          "smoking": 10141117.83976919,
          "year": 2011
         },
         {
          "air_pollution_outdoor_&_indoor": 3945234.8398176,
          "continent": "Americas",
          "high_blood_pressure": 12091585.348740024,
          "high_blood_sugar": 10502778.941520017,
          "obesity": 9536614.916604,
          "smoking": 10115766.108207587,
          "year": 2012
         },
         {
          "air_pollution_outdoor_&_indoor": 3949714.112277591,
          "continent": "Americas",
          "high_blood_pressure": 12323666.440872,
          "high_blood_sugar": 10769423.622288004,
          "obesity": 9793689.571572,
          "smoking": 10117337.656321207,
          "year": 2013
         },
         {
          "air_pollution_outdoor_&_indoor": 3903440.909338804,
          "continent": "Americas",
          "high_blood_pressure": 12589699.478579987,
          "high_blood_sugar": 11057420.732675998,
          "obesity": 10067071.064051988,
          "smoking": 10110135.823509602,
          "year": 2014
         },
         {
          "air_pollution_outdoor_&_indoor": 3935278.113043192,
          "continent": "Americas",
          "high_blood_pressure": 12914284.38776401,
          "high_blood_sugar": 11369174.195604006,
          "obesity": 10371854.66239202,
          "smoking": 10154354.593422003,
          "year": 2015
         },
         {
          "air_pollution_outdoor_&_indoor": 3885759.693861591,
          "continent": "Americas",
          "high_blood_pressure": 13299985.601291988,
          "high_blood_sugar": 11770630.113348002,
          "obesity": 10761002.785920016,
          "smoking": 10275632.085186,
          "year": 2016
         },
         {
          "air_pollution_outdoor_&_indoor": 3978280.096936802,
          "continent": "Americas",
          "high_blood_pressure": 13685192.846640015,
          "high_blood_sugar": 12107239.505448004,
          "obesity": 11108544.455916006,
          "smoking": 10362204.57058797,
          "year": 2017
         },
         {
          "air_pollution_outdoor_&_indoor": 36486259.12320015,
          "continent": "Asia",
          "high_blood_pressure": 34387746.66246595,
          "high_blood_sugar": 16008744.668026796,
          "obesity": 6515330.290184388,
          "smoking": 32057977.01681878,
          "year": 1990
         },
         {
          "air_pollution_outdoor_&_indoor": 36673702.61068318,
          "continent": "Asia",
          "high_blood_pressure": 35181390.48047279,
          "high_blood_sugar": 16514876.243685568,
          "obesity": 6773755.1371368235,
          "smoking": 33032032.69651787,
          "year": 1991
         },
         {
          "air_pollution_outdoor_&_indoor": 36744915.680055656,
          "continent": "Asia",
          "high_blood_pressure": 35956476.664430365,
          "high_blood_sugar": 17087246.522148028,
          "obesity": 7062517.412150429,
          "smoking": 33901659.99971158,
          "year": 1992
         },
         {
          "air_pollution_outdoor_&_indoor": 36508222.79911213,
          "continent": "Asia",
          "high_blood_pressure": 36468417.328066856,
          "high_blood_sugar": 17523678.407361627,
          "obesity": 7326356.7370043835,
          "smoking": 34606127.56913045,
          "year": 1993
         },
         {
          "air_pollution_outdoor_&_indoor": 36333542.07694437,
          "continent": "Asia",
          "high_blood_pressure": 37013399.431973904,
          "high_blood_sugar": 17983229.706883144,
          "obesity": 7607757.3920952,
          "smoking": 35260742.70209409,
          "year": 1994
         },
         {
          "air_pollution_outdoor_&_indoor": 36142563.64814153,
          "continent": "Asia",
          "high_blood_pressure": 37713485.410429135,
          "high_blood_sugar": 18501713.979856774,
          "obesity": 7946530.051839609,
          "smoking": 36034077.29012633,
          "year": 1995
         },
         {
          "air_pollution_outdoor_&_indoor": 36078440.36130126,
          "continent": "Asia",
          "high_blood_pressure": 38549488.40030756,
          "high_blood_sugar": 19083814.40725678,
          "obesity": 8328521.634664814,
          "smoking": 36823826.33763364,
          "year": 1996
         },
         {
          "air_pollution_outdoor_&_indoor": 36362835.74314558,
          "continent": "Asia",
          "high_blood_pressure": 39778751.72558524,
          "high_blood_sugar": 19904156.339175668,
          "obesity": 8792881.712767193,
          "smoking": 37829367.117438056,
          "year": 1997
         },
         {
          "air_pollution_outdoor_&_indoor": 36329635.45045801,
          "continent": "Asia",
          "high_blood_pressure": 40690461.021004796,
          "high_blood_sugar": 20511731.58072601,
          "obesity": 9237511.464247204,
          "smoking": 38628502.93058888,
          "year": 1998
         },
         {
          "air_pollution_outdoor_&_indoor": 35785670.23821713,
          "continent": "Asia",
          "high_blood_pressure": 41325254.70564343,
          "high_blood_sugar": 20988788.85549123,
          "obesity": 9677674.400818843,
          "smoking": 38963256.35007004,
          "year": 1999
         },
         {
          "air_pollution_outdoor_&_indoor": 35665823.44554123,
          "continent": "Asia",
          "high_blood_pressure": 42492837.1952854,
          "high_blood_sugar": 21783847.198258825,
          "obesity": 10162093.1346132,
          "smoking": 39668701.88522413,
          "year": 2000
         },
         {
          "air_pollution_outdoor_&_indoor": 35564678.50268649,
          "continent": "Asia",
          "high_blood_pressure": 43566241.17308889,
          "high_blood_sugar": 22748069.045893297,
          "obesity": 10592237.364693644,
          "smoking": 40193238.69617255,
          "year": 2001
         },
         {
          "air_pollution_outdoor_&_indoor": 35608177.84612079,
          "continent": "Asia",
          "high_blood_pressure": 44896715.72291031,
          "high_blood_sugar": 24105312.349270724,
          "obesity": 11175668.21153042,
          "smoking": 40783480.43953336,
          "year": 2002
         },
         {
          "air_pollution_outdoor_&_indoor": 35678103.14741632,
          "continent": "Asia",
          "high_blood_pressure": 46281558.69373459,
          "high_blood_sugar": 25603328.184238747,
          "obesity": 11774949.022966867,
          "smoking": 41475547.40130013,
          "year": 2003
         },
         {
          "air_pollution_outdoor_&_indoor": 35349940.19330991,
          "continent": "Asia",
          "high_blood_pressure": 47062751.36696514,
          "high_blood_sugar": 26723725.563033536,
          "obesity": 12312199.754582433,
          "smoking": 41547969.77685821,
          "year": 2004
         },
         {
          "air_pollution_outdoor_&_indoor": 35156329.588072754,
          "continent": "Asia",
          "high_blood_pressure": 48128855.88611174,
          "high_blood_sugar": 27769992.022534914,
          "obesity": 12895376.818604447,
          "smoking": 41561890.60829746,
          "year": 2005
         },
         {
          "air_pollution_outdoor_&_indoor": 34917502.84539237,
          "continent": "Asia",
          "high_blood_pressure": 48873744.9893185,
          "high_blood_sugar": 28197413.725204743,
          "obesity": 13447940.012822412,
          "smoking": 41375778.53364015,
          "year": 2006
         },
         {
          "air_pollution_outdoor_&_indoor": 35142505.68609242,
          "continent": "Asia",
          "high_blood_pressure": 50250644.83273943,
          "high_blood_sugar": 28672448.416986004,
          "obesity": 14228117.48442121,
          "smoking": 41818047.169081226,
          "year": 2007
         },
         {
          "air_pollution_outdoor_&_indoor": 35708761.499629155,
          "continent": "Asia",
          "high_blood_pressure": 52354562.7081048,
          "high_blood_sugar": 29353023.661972865,
          "obesity": 15198080.024163594,
          "smoking": 42612346.89213598,
          "year": 2008
         },
         {
          "air_pollution_outdoor_&_indoor": 36340856.31134284,
          "continent": "Asia",
          "high_blood_pressure": 54646866.57788426,
          "high_blood_sugar": 30054566.50584363,
          "obesity": 16212666.600219645,
          "smoking": 43550615.18503676,
          "year": 2009
         },
         {
          "air_pollution_outdoor_&_indoor": 37050359.657804415,
          "continent": "Asia",
          "high_blood_pressure": 57085956.29526489,
          "high_blood_sugar": 31014073.419207525,
          "obesity": 17246070.823760454,
          "smoking": 44585272.039689735,
          "year": 2010
         },
         {
          "air_pollution_outdoor_&_indoor": 37650426.36545877,
          "continent": "Asia",
          "high_blood_pressure": 59217976.13016495,
          "high_blood_sugar": 32134173.19380473,
          "obesity": 18258876.721450716,
          "smoking": 45477862.04033029,
          "year": 2011
         },
         {
          "air_pollution_outdoor_&_indoor": 37530016.2425294,
          "continent": "Asia",
          "high_blood_pressure": 61047696.73836493,
          "high_blood_sugar": 33165137.220937274,
          "obesity": 19272132.357065946,
          "smoking": 46177634.76556917,
          "year": 2012
         },
         {
          "air_pollution_outdoor_&_indoor": 37655011.19485676,
          "continent": "Asia",
          "high_blood_pressure": 62323152.56702166,
          "high_blood_sugar": 34043672.13957119,
          "obesity": 20213513.256528005,
          "smoking": 46433441.85442189,
          "year": 2013
         },
         {
          "air_pollution_outdoor_&_indoor": 37951800.75208459,
          "continent": "Asia",
          "high_blood_pressure": 64570366.84560352,
          "high_blood_sugar": 35358439.51049767,
          "obesity": 21474792.83952836,
          "smoking": 47594878.21909898,
          "year": 2014
         },
         {
          "air_pollution_outdoor_&_indoor": 38736981.05025595,
          "continent": "Asia",
          "high_blood_pressure": 66926193.09111117,
          "high_blood_sugar": 36757237.50155756,
          "obesity": 22783694.11557599,
          "smoking": 49093548.01495091,
          "year": 2015
         },
         {
          "air_pollution_outdoor_&_indoor": 38832930.07113124,
          "continent": "Asia",
          "high_blood_pressure": 68977243.65619706,
          "high_blood_sugar": 38117988.11594534,
          "obesity": 23968417.28885039,
          "smoking": 50372577.64066926,
          "year": 2016
         },
         {
          "air_pollution_outdoor_&_indoor": 39125441.85935274,
          "continent": "Asia",
          "high_blood_pressure": 70055902.24733397,
          "high_blood_sugar": 38952352.92299641,
          "obesity": 24709225.476122387,
          "smoking": 50908764.01243692,
          "year": 2017
         },
         {
          "air_pollution_outdoor_&_indoor": 4353285.064630203,
          "continent": "Europe",
          "high_blood_pressure": 17615207.64698756,
          "high_blood_sugar": 9017850.846771626,
          "obesity": 6586252.174196413,
          "smoking": 14070870.85605478,
          "year": 1990
         },
         {
          "air_pollution_outdoor_&_indoor": 4328367.33008436,
          "continent": "Europe",
          "high_blood_pressure": 17524406.49526198,
          "high_blood_sugar": 9070290.493480798,
          "obesity": 6684239.307837589,
          "smoking": 14030484.770508002,
          "year": 1991
         },
         {
          "air_pollution_outdoor_&_indoor": 4277725.757478,
          "continent": "Europe",
          "high_blood_pressure": 17323291.828302003,
          "high_blood_sugar": 9040592.444234395,
          "obesity": 6738626.114120401,
          "smoking": 13892890.448607596,
          "year": 1992
         },
         {
          "air_pollution_outdoor_&_indoor": 4249530.163662005,
          "continent": "Europe",
          "high_blood_pressure": 17236237.332246017,
          "high_blood_sugar": 9092623.803229216,
          "obesity": 6817512.911800795,
          "smoking": 13829100.30839756,
          "year": 1993
         },
         {
          "air_pollution_outdoor_&_indoor": 4190652.629668437,
          "continent": "Europe",
          "high_blood_pressure": 16986710.03159041,
          "high_blood_sugar": 9057039.818860801,
          "obesity": 6850832.260991989,
          "smoking": 13655508.95443199,
          "year": 1994
         },
         {
          "air_pollution_outdoor_&_indoor": 4182420.885155874,
          "continent": "Europe",
          "high_blood_pressure": 16983137.027993996,
          "high_blood_sugar": 9142214.8855284,
          "obesity": 6955908.856122012,
          "smoking": 13631440.809109256,
          "year": 1995
         },
         {
          "air_pollution_outdoor_&_indoor": 4141253.817772568,
          "continent": "Europe",
          "high_blood_pressure": 16782003.250245567,
          "high_blood_sugar": 9155589.40699199,
          "obesity": 6995582.678978423,
          "smoking": 13431990.152072385,
          "year": 1996
         },
         {
          "air_pollution_outdoor_&_indoor": 4086100.4418453667,
          "continent": "Europe",
          "high_blood_pressure": 16497937.515230386,
          "high_blood_sugar": 9164891.305425603,
          "obesity": 7032016.10547961,
          "smoking": 13202321.66374324,
          "year": 1997
         },
         {
          "air_pollution_outdoor_&_indoor": 4018680.3944647145,
          "continent": "Europe",
          "high_blood_pressure": 16213164.554995187,
          "high_blood_sugar": 9204605.368479608,
          "obesity": 7054304.127993604,
          "smoking": 12990014.926117212,
          "year": 1998
         },
         {
          "air_pollution_outdoor_&_indoor": 3970443.1385643682,
          "continent": "Europe",
          "high_blood_pressure": 15982421.420694018,
          "high_blood_sugar": 9275711.510433616,
          "obesity": 7102052.2906871885,
          "smoking": 12832438.340660425,
          "year": 1999
         },
         {
          "air_pollution_outdoor_&_indoor": 3853225.606842362,
          "continent": "Europe",
          "high_blood_pressure": 15561925.193422787,
          "high_blood_sugar": 9195471.677506797,
          "obesity": 7028588.101290013,
          "smoking": 12500110.16209557,
          "year": 2000
         },
         {
          "air_pollution_outdoor_&_indoor": 3787227.2352162064,
          "continent": "Europe",
          "high_blood_pressure": 15264739.984843206,
          "high_blood_sugar": 9150761.624559574,
          "obesity": 7011381.158186401,
          "smoking": 12290275.268608782,
          "year": 2001
         },
         {
          "air_pollution_outdoor_&_indoor": 3779190.599555394,
          "continent": "Europe",
          "high_blood_pressure": 15172747.400121596,
          "high_blood_sugar": 9217907.428386005,
          "obesity": 7074187.096247999,
          "smoking": 12194040.752475558,
          "year": 2002
         },
         {
          "air_pollution_outdoor_&_indoor": 3776368.118993649,
          "continent": "Europe",
          "high_blood_pressure": 15046749.93111362,
          "high_blood_sugar": 9271319.034759607,
          "obesity": 7140849.523974017,
          "smoking": 12131130.069585593,
          "year": 2003
         },
         {
          "air_pollution_outdoor_&_indoor": 3651901.062098154,
          "continent": "Europe",
          "high_blood_pressure": 14462541.312342,
          "high_blood_sugar": 9023374.779807612,
          "obesity": 7008410.803779587,
          "smoking": 11763678.365164805,
          "year": 2004
         },
         {
          "air_pollution_outdoor_&_indoor": 3636632.2956740386,
          "continent": "Europe",
          "high_blood_pressure": 14315880.104691625,
          "high_blood_sugar": 9050538.60873361,
          "obesity": 7044467.312653214,
          "smoking": 11684275.011477588,
          "year": 2005
         },
         {
          "air_pollution_outdoor_&_indoor": 3604874.440526047,
          "continent": "Europe",
          "high_blood_pressure": 14060750.87670719,
          "high_blood_sugar": 9043701.376136387,
          "obesity": 7028766.676743601,
          "smoking": 11543544.808656015,
          "year": 2006
         },
         {
          "air_pollution_outdoor_&_indoor": 3605141.4309884417,
          "continent": "Europe",
          "high_blood_pressure": 13936315.833602356,
          "high_blood_sugar": 9153831.85669321,
          "obesity": 7069726.181764797,
          "smoking": 11469320.400951575,
          "year": 2007
         },
         {
          "air_pollution_outdoor_&_indoor": 3616286.65001244,
          "continent": "Europe",
          "high_blood_pressure": 13859533.182549613,
          "high_blood_sugar": 9299977.459682401,
          "obesity": 7131096.379935582,
          "smoking": 11419313.2322292,
          "year": 2008
         },
         {
          "air_pollution_outdoor_&_indoor": 3642761.349341644,
          "continent": "Europe",
          "high_blood_pressure": 13838294.30645041,
          "high_blood_sugar": 9453344.13114957,
          "obesity": 7214207.319001196,
          "smoking": 11403866.174033975,
          "year": 2009
         },
         {
          "air_pollution_outdoor_&_indoor": 3620322.8214768013,
          "continent": "Europe",
          "high_blood_pressure": 13723544.009125195,
          "high_blood_sugar": 9493614.84739798,
          "obesity": 7223907.741902384,
          "smoking": 11290406.907479996,
          "year": 2010
         },
         {
          "air_pollution_outdoor_&_indoor": 3636128.739743874,
          "continent": "Europe",
          "high_blood_pressure": 13711238.233162805,
          "high_blood_sugar": 9602927.974207206,
          "obesity": 7264876.566440384,
          "smoking": 11229722.003574023,
          "year": 2011
         },
         {
          "air_pollution_outdoor_&_indoor": 3548319.3291972014,
          "continent": "Europe",
          "high_blood_pressure": 13758363.138340782,
          "high_blood_sugar": 9743578.953969618,
          "obesity": 7335443.448006001,
          "smoking": 11212427.109225595,
          "year": 2012
         },
         {
          "air_pollution_outdoor_&_indoor": 3507436.744650122,
          "continent": "Europe",
          "high_blood_pressure": 13734387.78733439,
          "high_blood_sugar": 9827378.958736794,
          "obesity": 7383404.377971607,
          "smoking": 11151683.510890787,
          "year": 2013
         },
         {
          "air_pollution_outdoor_&_indoor": 3445290.196429083,
          "continent": "Europe",
          "high_blood_pressure": 13688355.154187955,
          "high_blood_sugar": 9871416.351283198,
          "obesity": 7412943.981046806,
          "smoking": 11034772.8304728,
          "year": 2014
         },
         {
          "air_pollution_outdoor_&_indoor": 3558779.3713966818,
          "continent": "Europe",
          "high_blood_pressure": 14046933.500483958,
          "high_blood_sugar": 10236218.793417627,
          "obesity": 7629367.014001195,
          "smoking": 11195451.089663995,
          "year": 2015
         },
         {
          "air_pollution_outdoor_&_indoor": 3462557.2143216026,
          "continent": "Europe",
          "high_blood_pressure": 14100125.205810014,
          "high_blood_sugar": 10355991.38731559,
          "obesity": 7681600.820767187,
          "smoking": 11116155.010551587,
          "year": 2016
         },
         {
          "air_pollution_outdoor_&_indoor": 3480132.2529520825,
          "continent": "Europe",
          "high_blood_pressure": 14190635.048154008,
          "high_blood_sugar": 10472395.868207984,
          "obesity": 7742653.873240815,
          "smoking": 11082929.393714398,
          "year": 2017
         },
         {
          "air_pollution_outdoor_&_indoor": 75141.83684280004,
          "continent": "Oceania",
          "high_blood_pressure": 426836.6993520003,
          "high_blood_sugar": 223678.56111599985,
          "obesity": 175725.91888800013,
          "smoking": 403964.96882400016,
          "year": 1990
         },
         {
          "air_pollution_outdoor_&_indoor": 75238.78354439994,
          "continent": "Oceania",
          "high_blood_pressure": 418266.25235999975,
          "high_blood_sugar": 218153.62519200004,
          "obesity": 177694.38680400007,
          "smoking": 390808.2745799997,
          "year": 1991
         },
         {
          "air_pollution_outdoor_&_indoor": 76871.9163264,
          "continent": "Oceania",
          "high_blood_pressure": 421175.0526240003,
          "high_blood_sugar": 219002.10964800013,
          "obesity": 183635.50949999987,
          "smoking": 387402.1538160001,
          "year": 1992
         },
         {
          "air_pollution_outdoor_&_indoor": 75931.77346079999,
          "continent": "Oceania",
          "high_blood_pressure": 413933.8911119999,
          "high_blood_sugar": 215673.6130799999,
          "obesity": 185366.45652000004,
          "smoking": 375265.39099200023,
          "year": 1993
         },
         {
          "air_pollution_outdoor_&_indoor": 76649.259852,
          "continent": "Oceania",
          "high_blood_pressure": 416789.26009200007,
          "high_blood_sugar": 218338.72712399997,
          "obesity": 191413.36095599996,
          "smoking": 371950.6264559999,
          "year": 1994
         },
         {
          "air_pollution_outdoor_&_indoor": 75272.66500200005,
          "continent": "Oceania",
          "high_blood_pressure": 412039.80042,
          "high_blood_sugar": 218046.13112399992,
          "obesity": 194511.037164,
          "smoking": 364100.1730679997,
          "year": 1995
         },
         {
          "air_pollution_outdoor_&_indoor": 77087.64345479995,
          "continent": "Oceania",
          "high_blood_pressure": 409475.00651999976,
          "high_blood_sugar": 219913.44476399996,
          "obesity": 199170.82198800016,
          "smoking": 358807.1981519999,
          "year": 1996
         },
         {
          "air_pollution_outdoor_&_indoor": 76924.00797719997,
          "continent": "Oceania",
          "high_blood_pressure": 399950.80462800036,
          "high_blood_sugar": 217061.30011199988,
          "obesity": 201070.01911200013,
          "smoking": 347750.34283200005,
          "year": 1997
         },
         {
          "air_pollution_outdoor_&_indoor": 75564.26177759997,
          "continent": "Oceania",
          "high_blood_pressure": 388995.11568000005,
          "high_blood_sugar": 213784.713564,
          "obesity": 202102.52954400008,
          "smoking": 336063.5926680002,
          "year": 1998
         },
         {
          "air_pollution_outdoor_&_indoor": 74269.49654160003,
          "continent": "Oceania",
          "high_blood_pressure": 381349.557684,
          "high_blood_sugar": 212681.30751600003,
          "obesity": 204037.47361199989,
          "smoking": 327434.25331199967,
          "year": 1999
         },
         {
          "air_pollution_outdoor_&_indoor": 72380.21909160001,
          "continent": "Oceania",
          "high_blood_pressure": 374893.56954,
          "high_blood_sugar": 212875.4299799998,
          "obesity": 206470.536492,
          "smoking": 320505.52783199976,
          "year": 2000
         },
         {
          "air_pollution_outdoor_&_indoor": 71980.51697159997,
          "continent": "Oceania",
          "high_blood_pressure": 368521.14273600007,
          "high_blood_sugar": 214367.4080880002,
          "obesity": 208314.10936799983,
          "smoking": 315666.1281599998,
          "year": 2001
         },
         {
          "air_pollution_outdoor_&_indoor": 72517.32480719997,
          "continent": "Oceania",
          "high_blood_pressure": 367911.288252,
          "high_blood_sugar": 219751.53808800003,
          "obesity": 213513.097128,
          "smoking": 315391.5923880002,
          "year": 2002
         },
         {
          "air_pollution_outdoor_&_indoor": 71186.55182879997,
          "continent": "Oceania",
          "high_blood_pressure": 358019.636172,
          "high_blood_sugar": 220313.61809999988,
          "obesity": 214309.08932400012,
          "smoking": 310053.9398879997,
          "year": 2003
         },
         {
          "air_pollution_outdoor_&_indoor": 69553.88822159999,
          "continent": "Oceania",
          "high_blood_pressure": 348232.31256000017,
          "high_blood_sugar": 220802.37784799992,
          "obesity": 215222.08644,
          "smoking": 304662.8480279998,
          "year": 2004
         },
         {
          "air_pollution_outdoor_&_indoor": 67566.54649560004,
          "continent": "Oceania",
          "high_blood_pressure": 337589.8677000001,
          "high_blood_sugar": 220771.23291599983,
          "obesity": 215310.84603599992,
          "smoking": 297651.65479200013,
          "year": 2005
         },
         {
          "air_pollution_outdoor_&_indoor": 67861.504272,
          "continent": "Oceania",
          "high_blood_pressure": 335693.87610000017,
          "high_blood_sugar": 226532.199324,
          "obesity": 219679.41333600009,
          "smoking": 293763.95499599987,
          "year": 2006
         },
         {
          "air_pollution_outdoor_&_indoor": 69940.17478919997,
          "continent": "Oceania",
          "high_blood_pressure": 341519.5134240002,
          "high_blood_sugar": 238020.079536,
          "obesity": 229087.79019600002,
          "smoking": 296814.19726800005,
          "year": 2007
         },
         {
          "air_pollution_outdoor_&_indoor": 70655.50049280004,
          "continent": "Oceania",
          "high_blood_pressure": 341769.81153600017,
          "high_blood_sugar": 245704.26512400003,
          "obesity": 234516.9244800001,
          "smoking": 294358.1172840001,
          "year": 2008
         },
         {
          "air_pollution_outdoor_&_indoor": 70015.72385760004,
          "continent": "Oceania",
          "high_blood_pressure": 336071.2959359999,
          "high_blood_sugar": 247648.589208,
          "obesity": 236715.320904,
          "smoking": 288674.1710519999,
          "year": 2009
         },
         {
          "air_pollution_outdoor_&_indoor": 69270.40784160004,
          "continent": "Oceania",
          "high_blood_pressure": 330099.77973599976,
          "high_blood_sugar": 247332.90694799996,
          "obesity": 237270.10105200013,
          "smoking": 284589.62968800013,
          "year": 2010
         },
         {
          "air_pollution_outdoor_&_indoor": 72642.87744960001,
          "continent": "Oceania",
          "high_blood_pressure": 333245.27925599983,
          "high_blood_sugar": 251857.31428799988,
          "obesity": 241993.96816799985,
          "smoking": 284925.3246239999,
          "year": 2011
         },
         {
          "air_pollution_outdoor_&_indoor": 68760.96417480003,
          "continent": "Oceania",
          "high_blood_pressure": 329544.3508199999,
          "high_blood_sugar": 250177.32489599983,
          "obesity": 241908.199092,
          "smoking": 280982.2981920002,
          "year": 2012
         },
         {
          "air_pollution_outdoor_&_indoor": 66643.09836840002,
          "continent": "Oceania",
          "high_blood_pressure": 329883.19923600025,
          "high_blood_sugar": 250456.196508,
          "obesity": 244912.45183200017,
          "smoking": 280907.66088000004,
          "year": 2013
         },
         {
          "air_pollution_outdoor_&_indoor": 65751.91381919997,
          "continent": "Oceania",
          "high_blood_pressure": 340920.0137039997,
          "high_blood_sugar": 258637.736328,
          "obesity": 254201.13525600013,
          "smoking": 287768.9812559999,
          "year": 2014
         },
         {
          "air_pollution_outdoor_&_indoor": 66498.8991336,
          "continent": "Oceania",
          "high_blood_pressure": 351230.02506,
          "high_blood_sugar": 266783.59951200004,
          "obesity": 262494.4818599999,
          "smoking": 292747.93658399995,
          "year": 2015
         },
         {
          "air_pollution_outdoor_&_indoor": 64169.31501960004,
          "continent": "Oceania",
          "high_blood_pressure": 363181.60844399984,
          "high_blood_sugar": 275550.931524,
          "obesity": 270930.95516400004,
          "smoking": 297738.182592,
          "year": 2016
         },
         {
          "air_pollution_outdoor_&_indoor": 66970.33899,
          "continent": "Oceania",
          "high_blood_pressure": 377949.7784039997,
          "high_blood_sugar": 286669.667904,
          "obesity": 281998.3128360001,
          "smoking": 309170.1025199999,
          "year": 2017
         }
        ]
       },
       "encoding": {
        "color": {
         "condition": {
          "field": "continent",
          "selection": "selector010",
          "type": "nominal"
         },
         "value": "grey"
        },
        "opacity": {
         "condition": {
          "selection": "selector010",
          "value": 0.9
         },
         "value": 0.2
        },
        "tooltip": [
         {
          "field": "year",
          "type": "nominal"
         },
         {
          "field": "continent",
          "type": "nominal"
         },
         {
          "field": "high_blood_pressure",
          "type": "quantitative"
         }
        ],
        "x": {
         "axis": {
          "labelAngle": 45
         },
         "field": "year",
         "type": "nominal"
        },
        "y": {
         "field": "high_blood_pressure",
         "type": "quantitative"
        }
       },
       "height": 320,
       "mark": {
        "point": true,
        "type": "line"
       },
       "selection": {
        "selector010": {
         "type": "single"
        }
       },
       "title": "Trend of high blood pressure over time , 1990 - 2017",
       "width": 800
      },
      "image/png": "[encoded data removed]",
      "text/plain": [
       "<VegaLite 3 object>\n",
       "\n",
       "If you see this message, it means the renderer has not been properly enabled\n",
       "for the frontend that you are using. For more information, see\n",
       "https://altair-viz.github.io/user_guide/troubleshooting.html\n"
      ]
     },
     "execution_count": 33,
     "metadata": {},
     "output_type": "execute_result"
    }
   ],
   "source": [
    "line_graph(\"high_blood_pressure\")"
   ]
  },
  {
   "cell_type": "code",
   "execution_count": null,
   "metadata": {},
   "outputs": [],
   "source": []
  }
 ],
 "metadata": {
  "kernelspec": {
   "display_name": "Python 3",
   "language": "python",
   "name": "python3"
  },
  "language_info": {
   "codemirror_mode": {
    "name": "ipython",
    "version": 3
   },
   "file_extension": ".py",
   "mimetype": "text/x-python",
   "name": "python",
   "nbconvert_exporter": "python",
   "pygments_lexer": "ipython3",
   "version": "3.7.3"
  }
 },
 "nbformat": 4,
 "nbformat_minor": 4
}
