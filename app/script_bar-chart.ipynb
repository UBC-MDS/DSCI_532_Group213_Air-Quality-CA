{
 "cells": [
  {
   "cell_type": "code",
   "execution_count": 1,
   "metadata": {},
   "outputs": [],
   "source": [
    "import altair as alt\n",
    "from vega_datasets import data\n",
    "import pandas as pd\n"
   ]
  },
  {
   "cell_type": "code",
   "execution_count": 2,
   "metadata": {},
   "outputs": [],
   "source": [
    "df = pd.read_csv('../data/clean_number-of-deaths-by-risk-factor.csv')"
   ]
  },
  {
   "cell_type": "code",
   "execution_count": 112,
   "metadata": {},
   "outputs": [],
   "source": [
    "df1 = df.query('year == 2017')\n",
    "df1.columns = df1.columns.str.strip().\\\n",
    "    str.replace('_', ' ').\\\n",
    "    str.capitalize()"
   ]
  },
  {
   "cell_type": "code",
   "execution_count": 113,
   "metadata": {},
   "outputs": [],
   "source": [
    "df2 = df1.melt(id_vars = ['Country', 'Code', 'Year'], \n",
    "               var_name = 'Risk_factors',\n",
    "              value_name= 'Death')"
   ]
  },
  {
   "cell_type": "code",
   "execution_count": 114,
   "metadata": {},
   "outputs": [],
   "source": [
    "df3 = df2.groupby('Risk_factors')"
   ]
  },
  {
   "cell_type": "code",
   "execution_count": 115,
   "metadata": {},
   "outputs": [],
   "source": [
    "df4 = df3.sum().sort_values(by = ['Death'], ascending=False).reset_index()"
   ]
  },
  {
   "cell_type": "code",
   "execution_count": 107,
   "metadata": {},
   "outputs": [],
   "source": [
    "bar_chart = alt.Chart(df4).mark_bar().encode(\n",
    "    alt.X('Death:Q', \n",
    "         title = 'Death'),\n",
    "    alt.Y('Risk_factors:N', \n",
    "          title = \"Risk factors\",\n",
    "          sort=alt.EncodingSortField(\n",
    "            field= \"death\",\n",
    "            op= \"mean\",\n",
    "            order= \"ascending\")),\n",
    "    tooltip = ['Risk_factors:N', 'Death:Q']\n",
    ").properties(title = 'Death by risk factors in 2017')"
   ]
  },
  {
   "cell_type": "code",
   "execution_count": 108,
   "metadata": {},
   "outputs": [],
   "source": [
    "bar_chart.save('bar_chart.html')"
   ]
  }
 ],
 "metadata": {
  "kernelspec": {
   "display_name": "Python 3",
   "language": "python",
   "name": "python3"
  },
  "language_info": {
   "codemirror_mode": {
    "name": "ipython",
    "version": 3
   },
   "file_extension": ".py",
   "mimetype": "text/x-python",
   "name": "python",
   "nbconvert_exporter": "python",
   "pygments_lexer": "ipython3",
   "version": "3.7.3"
  }
 },
 "nbformat": 4,
 "nbformat_minor": 4
}
