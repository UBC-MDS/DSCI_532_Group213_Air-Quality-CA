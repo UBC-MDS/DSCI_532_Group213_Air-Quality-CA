{
 "cells": [
  {
   "cell_type": "code",
   "execution_count": 1,
   "metadata": {},
   "outputs": [],
   "source": [
    "import pandas as pd"
   ]
  },
  {
   "cell_type": "code",
   "execution_count": 50,
   "metadata": {},
   "outputs": [],
   "source": [
    "data = pd.read_csv(\"data/canada-aq.csv\")"
   ]
  },
  {
   "cell_type": "code",
   "execution_count": 51,
   "metadata": {},
   "outputs": [],
   "source": [
    "# drop NA, drop attribution, rename columns\n",
    "data_1 = data.dropna()\n",
    "data_1 = data_1.drop(['attribution'],axis=1)\n",
    "data_1 = data_1.rename(columns = {data_1.columns[1]:'province',\n",
    "                                 data_1.columns[3]: 'time_utc',\n",
    "                                 data_1.columns[4]: 'time_local'})"
   ]
  },
  {
   "cell_type": "code",
   "execution_count": 52,
   "metadata": {},
   "outputs": [
    {
     "data": {
      "text/html": [
       "<div>\n",
       "<style scoped>\n",
       "    .dataframe tbody tr th:only-of-type {\n",
       "        vertical-align: middle;\n",
       "    }\n",
       "\n",
       "    .dataframe tbody tr th {\n",
       "        vertical-align: top;\n",
       "    }\n",
       "\n",
       "    .dataframe thead th {\n",
       "        text-align: right;\n",
       "    }\n",
       "</style>\n",
       "<table border=\"1\" class=\"dataframe\">\n",
       "  <thead>\n",
       "    <tr style=\"text-align: right;\">\n",
       "      <th></th>\n",
       "      <th>location</th>\n",
       "      <th>province</th>\n",
       "      <th>country</th>\n",
       "      <th>time_utc</th>\n",
       "      <th>time_local</th>\n",
       "      <th>parameter</th>\n",
       "      <th>value</th>\n",
       "      <th>unit</th>\n",
       "      <th>latitude</th>\n",
       "      <th>longitude</th>\n",
       "    </tr>\n",
       "  </thead>\n",
       "  <tbody>\n",
       "    <tr>\n",
       "      <td>0</td>\n",
       "      <td>Dorset</td>\n",
       "      <td>ONTARIO</td>\n",
       "      <td>CA</td>\n",
       "      <td>2019-11-20T21:00:00.000Z</td>\n",
       "      <td>2019-11-20T16:00:00-05:00</td>\n",
       "      <td>o3</td>\n",
       "      <td>0.031</td>\n",
       "      <td>ppm</td>\n",
       "      <td>45.2211</td>\n",
       "      <td>-78.93140</td>\n",
       "    </tr>\n",
       "    <tr>\n",
       "      <td>1</td>\n",
       "      <td>Parc Tremblay</td>\n",
       "      <td>QUEBEC</td>\n",
       "      <td>CA</td>\n",
       "      <td>2019-11-20T21:00:00.000Z</td>\n",
       "      <td>2019-11-20T16:00:00-05:00</td>\n",
       "      <td>o3</td>\n",
       "      <td>0.005</td>\n",
       "      <td>ppm</td>\n",
       "      <td>48.2344</td>\n",
       "      <td>-78.98330</td>\n",
       "    </tr>\n",
       "    <tr>\n",
       "      <td>2</td>\n",
       "      <td>Steeper</td>\n",
       "      <td>ALBERTA</td>\n",
       "      <td>CA</td>\n",
       "      <td>2019-11-20T21:00:00.000Z</td>\n",
       "      <td>2019-11-20T14:00:00-07:00</td>\n",
       "      <td>no2</td>\n",
       "      <td>0.003</td>\n",
       "      <td>ppm</td>\n",
       "      <td>53.1325</td>\n",
       "      <td>-117.09111</td>\n",
       "    </tr>\n",
       "    <tr>\n",
       "      <td>3</td>\n",
       "      <td>Calgary Northwest</td>\n",
       "      <td>ALBERTA</td>\n",
       "      <td>CA</td>\n",
       "      <td>2019-11-20T21:00:00.000Z</td>\n",
       "      <td>2019-11-20T14:00:00-07:00</td>\n",
       "      <td>no2</td>\n",
       "      <td>0.014</td>\n",
       "      <td>ppm</td>\n",
       "      <td>51.0814</td>\n",
       "      <td>-114.14030</td>\n",
       "    </tr>\n",
       "    <tr>\n",
       "      <td>4</td>\n",
       "      <td>Saskatoon</td>\n",
       "      <td>SASKATCHEWAN</td>\n",
       "      <td>CA</td>\n",
       "      <td>2019-11-20T21:00:00.000Z</td>\n",
       "      <td>2019-11-20T15:00:00-06:00</td>\n",
       "      <td>pm25</td>\n",
       "      <td>7.000</td>\n",
       "      <td>µg/m³</td>\n",
       "      <td>52.1361</td>\n",
       "      <td>-106.66310</td>\n",
       "    </tr>\n",
       "  </tbody>\n",
       "</table>\n",
       "</div>"
      ],
      "text/plain": [
       "            location      province country                  time_utc  \\\n",
       "0             Dorset       ONTARIO      CA  2019-11-20T21:00:00.000Z   \n",
       "1      Parc Tremblay        QUEBEC      CA  2019-11-20T21:00:00.000Z   \n",
       "2            Steeper       ALBERTA      CA  2019-11-20T21:00:00.000Z   \n",
       "3  Calgary Northwest       ALBERTA      CA  2019-11-20T21:00:00.000Z   \n",
       "4          Saskatoon  SASKATCHEWAN      CA  2019-11-20T21:00:00.000Z   \n",
       "\n",
       "                  time_local parameter  value   unit  latitude  longitude  \n",
       "0  2019-11-20T16:00:00-05:00        o3  0.031    ppm   45.2211  -78.93140  \n",
       "1  2019-11-20T16:00:00-05:00        o3  0.005    ppm   48.2344  -78.98330  \n",
       "2  2019-11-20T14:00:00-07:00       no2  0.003    ppm   53.1325 -117.09111  \n",
       "3  2019-11-20T14:00:00-07:00       no2  0.014    ppm   51.0814 -114.14030  \n",
       "4  2019-11-20T15:00:00-06:00      pm25  7.000  µg/m³   52.1361 -106.66310  "
      ]
     },
     "execution_count": 52,
     "metadata": {},
     "output_type": "execute_result"
    }
   ],
   "source": [
    "data_1.head()"
   ]
  },
  {
   "cell_type": "code",
   "execution_count": 53,
   "metadata": {},
   "outputs": [],
   "source": [
    "data_1.to_csv('data/canada-aq_clean.csv')"
   ]
  }
 ],
 "metadata": {
  "kernelspec": {
   "display_name": "Python 3",
   "language": "python",
   "name": "python3"
  },
  "language_info": {
   "codemirror_mode": {
    "name": "ipython",
    "version": 3
   },
   "file_extension": ".py",
   "mimetype": "text/x-python",
   "name": "python",
   "nbconvert_exporter": "python",
   "pygments_lexer": "ipython3",
   "version": "3.6.9"
  }
 },
 "nbformat": 4,
 "nbformat_minor": 4
}
